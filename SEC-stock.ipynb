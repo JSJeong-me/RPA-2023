{
  "nbformat": 4,
  "nbformat_minor": 0,
  "metadata": {
    "colab": {
      "provenance": [],
      "authorship_tag": "ABX9TyNH4Se5D4ayI7O1nPeL4DAg",
      "include_colab_link": true
    },
    "kernelspec": {
      "name": "python3",
      "display_name": "Python 3"
    },
    "language_info": {
      "name": "python"
    }
  },
  "cells": [
    {
      "cell_type": "markdown",
      "metadata": {
        "id": "view-in-github",
        "colab_type": "text"
      },
      "source": [
        "<a href=\"https://colab.research.google.com/github/JSJeong-me/RPA-2023/blob/main/SEC-stock.ipynb\" target=\"_parent\"><img src=\"https://colab.research.google.com/assets/colab-badge.svg\" alt=\"Open In Colab\"/></a>"
      ]
    },
    {
      "cell_type": "code",
      "source": [
        "import pandas as pd\n",
        "\n",
        "url = 'https://finance.naver.com/item/sise_day.naver?code=005930'\n",
        "\n",
        "# 일자 데이터를 담을 df라는 DataFrame 정의\n",
        "df = pd.DataFrame( )"
      ],
      "metadata": {
        "id": "oTBXiK1StgTZ"
      },
      "execution_count": 1,
      "outputs": []
    },
    {
      "cell_type": "code",
      "source": [
        "df = pd.DataFrame()"
      ],
      "metadata": {
        "id": "XCulume8x6Vw"
      },
      "execution_count": 11,
      "outputs": []
    },
    {
      "cell_type": "code",
      "source": [
        "page = 1"
      ],
      "metadata": {
        "id": "w98YF88StuVu"
      },
      "execution_count": 5,
      "outputs": []
    },
    {
      "cell_type": "code",
      "source": [
        "pg_url = '{url}&page={page}'.format(url=url, page=page)"
      ],
      "metadata": {
        "id": "brIKjJCitsTH"
      },
      "execution_count": 7,
      "outputs": []
    },
    {
      "cell_type": "code",
      "source": [
        "pg_url"
      ],
      "metadata": {
        "id": "SdGOVl81tx1P",
        "outputId": "4ad94827-3e1a-4721-8ff3-91ed82d7e5db",
        "colab": {
          "base_uri": "https://localhost:8080/",
          "height": 36
        }
      },
      "execution_count": 8,
      "outputs": [
        {
          "output_type": "execute_result",
          "data": {
            "text/plain": [
              "'https://finance.naver.com/item/sise_day.naver?code=005930&page=&page=1'"
            ],
            "application/vnd.google.colaboratory.intrinsic+json": {
              "type": "string"
            }
          },
          "metadata": {},
          "execution_count": 8
        }
      ]
    },
    {
      "cell_type": "code",
      "source": [
        "# df.index"
      ],
      "metadata": {
        "id": "mJIWwkW5t3yW",
        "outputId": "0938c18d-9780-464f-e4c3-b06bee2c9ae7",
        "colab": {
          "base_uri": "https://localhost:8080/"
        }
      },
      "execution_count": 10,
      "outputs": [
        {
          "output_type": "execute_result",
          "data": {
            "text/plain": [
              "RangeIndex(start=0, stop=1, step=1)"
            ]
          },
          "metadata": {},
          "execution_count": 10
        }
      ]
    },
    {
      "cell_type": "code",
      "source": [
        "import requests\n",
        "from bs4 import BeautifulSoup"
      ],
      "metadata": {
        "id": "7uieL8R4zIg_"
      },
      "execution_count": 2,
      "outputs": []
    },
    {
      "cell_type": "code",
      "source": [
        "response = requests.get(url, headers=headers)\n",
        "soup = BeautifulSoup(response.text, \"html.parser\")\n",
        "table = soup.find(\"table\", class_=\"type2\")"
      ],
      "metadata": {
        "id": "gWp3b5eZyofX"
      },
      "execution_count": 3,
      "outputs": []
    },
    {
      "cell_type": "code",
      "source": [
        "day_df = pd.read_html(str(table))[0]"
      ],
      "metadata": {
        "id": "DC30DUV-xrtP"
      },
      "execution_count": 7,
      "outputs": []
    },
    {
      "cell_type": "code",
      "source": [
        "day_df = day_df.dropna()"
      ],
      "metadata": {
        "id": "QnKdUHsmzzDe"
      },
      "execution_count": 8,
      "outputs": []
    },
    {
      "cell_type": "code",
      "source": [
        "day_df.columns"
      ],
      "metadata": {
        "id": "hNyc2K9P01y-",
        "outputId": "e7ac91b5-f35d-417c-9656-734cd59eec93",
        "colab": {
          "base_uri": "https://localhost:8080/"
        }
      },
      "execution_count": 10,
      "outputs": [
        {
          "output_type": "execute_result",
          "data": {
            "text/plain": [
              "Index(['날짜', '종가', '전일비', '시가', '고가', '저가', '거래량'], dtype='object')"
            ]
          },
          "metadata": {},
          "execution_count": 10
        }
      ]
    },
    {
      "cell_type": "code",
      "source": [
        "day_df.drop(['전일비', '시가', '고가', '저가', '거래량'], axis = 1, inplace=True)"
      ],
      "metadata": {
        "id": "65VZK47G06sO"
      },
      "execution_count": 11,
      "outputs": []
    },
    {
      "cell_type": "code",
      "source": [
        "day_df"
      ],
      "metadata": {
        "id": "vOd7qAlGz3cf",
        "outputId": "9f2f2285-a101-4ad8-a793-34f6b35fa832",
        "colab": {
          "base_uri": "https://localhost:8080/",
          "height": 922
        }
      },
      "execution_count": 12,
      "outputs": [
        {
          "output_type": "execute_result",
          "data": {
            "text/plain": [
              "            날짜       종가\n",
              "1   2023.08.18  66300.0\n",
              "2   2023.08.17  66700.0\n",
              "3   2023.08.16  67000.0\n",
              "4   2023.08.14  67300.0\n",
              "5   2023.08.11  67500.0\n",
              "9   2023.08.10  68000.0\n",
              "10  2023.08.09  68900.0\n",
              "11  2023.08.08  67600.0\n",
              "12  2023.08.07  68500.0\n",
              "13  2023.08.04  68300.0"
            ],
            "text/html": [
              "\n",
              "  <div id=\"df-75a70c8a-6896-41a0-9736-408870772ed5\" class=\"colab-df-container\">\n",
              "    <div>\n",
              "<style scoped>\n",
              "    .dataframe tbody tr th:only-of-type {\n",
              "        vertical-align: middle;\n",
              "    }\n",
              "\n",
              "    .dataframe tbody tr th {\n",
              "        vertical-align: top;\n",
              "    }\n",
              "\n",
              "    .dataframe thead th {\n",
              "        text-align: right;\n",
              "    }\n",
              "</style>\n",
              "<table border=\"1\" class=\"dataframe\">\n",
              "  <thead>\n",
              "    <tr style=\"text-align: right;\">\n",
              "      <th></th>\n",
              "      <th>날짜</th>\n",
              "      <th>종가</th>\n",
              "    </tr>\n",
              "  </thead>\n",
              "  <tbody>\n",
              "    <tr>\n",
              "      <th>1</th>\n",
              "      <td>2023.08.18</td>\n",
              "      <td>66300.0</td>\n",
              "    </tr>\n",
              "    <tr>\n",
              "      <th>2</th>\n",
              "      <td>2023.08.17</td>\n",
              "      <td>66700.0</td>\n",
              "    </tr>\n",
              "    <tr>\n",
              "      <th>3</th>\n",
              "      <td>2023.08.16</td>\n",
              "      <td>67000.0</td>\n",
              "    </tr>\n",
              "    <tr>\n",
              "      <th>4</th>\n",
              "      <td>2023.08.14</td>\n",
              "      <td>67300.0</td>\n",
              "    </tr>\n",
              "    <tr>\n",
              "      <th>5</th>\n",
              "      <td>2023.08.11</td>\n",
              "      <td>67500.0</td>\n",
              "    </tr>\n",
              "    <tr>\n",
              "      <th>9</th>\n",
              "      <td>2023.08.10</td>\n",
              "      <td>68000.0</td>\n",
              "    </tr>\n",
              "    <tr>\n",
              "      <th>10</th>\n",
              "      <td>2023.08.09</td>\n",
              "      <td>68900.0</td>\n",
              "    </tr>\n",
              "    <tr>\n",
              "      <th>11</th>\n",
              "      <td>2023.08.08</td>\n",
              "      <td>67600.0</td>\n",
              "    </tr>\n",
              "    <tr>\n",
              "      <th>12</th>\n",
              "      <td>2023.08.07</td>\n",
              "      <td>68500.0</td>\n",
              "    </tr>\n",
              "    <tr>\n",
              "      <th>13</th>\n",
              "      <td>2023.08.04</td>\n",
              "      <td>68300.0</td>\n",
              "    </tr>\n",
              "  </tbody>\n",
              "</table>\n",
              "</div>\n",
              "    <div class=\"colab-df-buttons\">\n",
              "\n",
              "  <div class=\"colab-df-container\">\n",
              "    <button class=\"colab-df-convert\" onclick=\"convertToInteractive('df-75a70c8a-6896-41a0-9736-408870772ed5')\"\n",
              "            title=\"Convert this dataframe to an interactive table.\"\n",
              "            style=\"display:none;\">\n",
              "\n",
              "  <svg xmlns=\"http://www.w3.org/2000/svg\" height=\"24px\" viewBox=\"0 -960 960 960\">\n",
              "    <path d=\"M120-120v-720h720v720H120Zm60-500h600v-160H180v160Zm220 220h160v-160H400v160Zm0 220h160v-160H400v160ZM180-400h160v-160H180v160Zm440 0h160v-160H620v160ZM180-180h160v-160H180v160Zm440 0h160v-160H620v160Z\"/>\n",
              "  </svg>\n",
              "    </button>\n",
              "\n",
              "  <style>\n",
              "    .colab-df-container {\n",
              "      display:flex;\n",
              "      gap: 12px;\n",
              "    }\n",
              "\n",
              "    .colab-df-convert {\n",
              "      background-color: #E8F0FE;\n",
              "      border: none;\n",
              "      border-radius: 50%;\n",
              "      cursor: pointer;\n",
              "      display: none;\n",
              "      fill: #1967D2;\n",
              "      height: 32px;\n",
              "      padding: 0 0 0 0;\n",
              "      width: 32px;\n",
              "    }\n",
              "\n",
              "    .colab-df-convert:hover {\n",
              "      background-color: #E2EBFA;\n",
              "      box-shadow: 0px 1px 2px rgba(60, 64, 67, 0.3), 0px 1px 3px 1px rgba(60, 64, 67, 0.15);\n",
              "      fill: #174EA6;\n",
              "    }\n",
              "\n",
              "    .colab-df-buttons div {\n",
              "      margin-bottom: 4px;\n",
              "    }\n",
              "\n",
              "    [theme=dark] .colab-df-convert {\n",
              "      background-color: #3B4455;\n",
              "      fill: #D2E3FC;\n",
              "    }\n",
              "\n",
              "    [theme=dark] .colab-df-convert:hover {\n",
              "      background-color: #434B5C;\n",
              "      box-shadow: 0px 1px 3px 1px rgba(0, 0, 0, 0.15);\n",
              "      filter: drop-shadow(0px 1px 2px rgba(0, 0, 0, 0.3));\n",
              "      fill: #FFFFFF;\n",
              "    }\n",
              "  </style>\n",
              "\n",
              "    <script>\n",
              "      const buttonEl =\n",
              "        document.querySelector('#df-75a70c8a-6896-41a0-9736-408870772ed5 button.colab-df-convert');\n",
              "      buttonEl.style.display =\n",
              "        google.colab.kernel.accessAllowed ? 'block' : 'none';\n",
              "\n",
              "      async function convertToInteractive(key) {\n",
              "        const element = document.querySelector('#df-75a70c8a-6896-41a0-9736-408870772ed5');\n",
              "        const dataTable =\n",
              "          await google.colab.kernel.invokeFunction('convertToInteractive',\n",
              "                                                    [key], {});\n",
              "        if (!dataTable) return;\n",
              "\n",
              "        const docLinkHtml = 'Like what you see? Visit the ' +\n",
              "          '<a target=\"_blank\" href=https://colab.research.google.com/notebooks/data_table.ipynb>data table notebook</a>'\n",
              "          + ' to learn more about interactive tables.';\n",
              "        element.innerHTML = '';\n",
              "        dataTable['output_type'] = 'display_data';\n",
              "        await google.colab.output.renderOutput(dataTable, element);\n",
              "        const docLink = document.createElement('div');\n",
              "        docLink.innerHTML = docLinkHtml;\n",
              "        element.appendChild(docLink);\n",
              "      }\n",
              "    </script>\n",
              "  </div>\n",
              "\n",
              "\n",
              "<div id=\"df-cced3bff-ab70-4839-a736-e4267985bf02\">\n",
              "  <button class=\"colab-df-quickchart\" onclick=\"quickchart('df-cced3bff-ab70-4839-a736-e4267985bf02')\"\n",
              "            title=\"Suggest charts.\"\n",
              "            style=\"display:none;\">\n",
              "\n",
              "<svg xmlns=\"http://www.w3.org/2000/svg\" height=\"24px\"viewBox=\"0 0 24 24\"\n",
              "     width=\"24px\">\n",
              "    <g>\n",
              "        <path d=\"M19 3H5c-1.1 0-2 .9-2 2v14c0 1.1.9 2 2 2h14c1.1 0 2-.9 2-2V5c0-1.1-.9-2-2-2zM9 17H7v-7h2v7zm4 0h-2V7h2v10zm4 0h-2v-4h2v4z\"/>\n",
              "    </g>\n",
              "</svg>\n",
              "  </button>\n",
              "\n",
              "<style>\n",
              "  .colab-df-quickchart {\n",
              "    background-color: #E8F0FE;\n",
              "    border: none;\n",
              "    border-radius: 50%;\n",
              "    cursor: pointer;\n",
              "    display: none;\n",
              "    fill: #1967D2;\n",
              "    height: 32px;\n",
              "    padding: 0 0 0 0;\n",
              "    width: 32px;\n",
              "  }\n",
              "\n",
              "  .colab-df-quickchart:hover {\n",
              "    background-color: #E2EBFA;\n",
              "    box-shadow: 0px 1px 2px rgba(60, 64, 67, 0.3), 0px 1px 3px 1px rgba(60, 64, 67, 0.15);\n",
              "    fill: #174EA6;\n",
              "  }\n",
              "\n",
              "  [theme=dark] .colab-df-quickchart {\n",
              "    background-color: #3B4455;\n",
              "    fill: #D2E3FC;\n",
              "  }\n",
              "\n",
              "  [theme=dark] .colab-df-quickchart:hover {\n",
              "    background-color: #434B5C;\n",
              "    box-shadow: 0px 1px 3px 1px rgba(0, 0, 0, 0.15);\n",
              "    filter: drop-shadow(0px 1px 2px rgba(0, 0, 0, 0.3));\n",
              "    fill: #FFFFFF;\n",
              "  }\n",
              "</style>\n",
              "\n",
              "  <script>\n",
              "    async function quickchart(key) {\n",
              "      const charts = await google.colab.kernel.invokeFunction(\n",
              "          'suggestCharts', [key], {});\n",
              "    }\n",
              "    (() => {\n",
              "      let quickchartButtonEl =\n",
              "        document.querySelector('#df-cced3bff-ab70-4839-a736-e4267985bf02 button');\n",
              "      quickchartButtonEl.style.display =\n",
              "        google.colab.kernel.accessAllowed ? 'block' : 'none';\n",
              "    })();\n",
              "  </script>\n",
              "</div>\n",
              "    </div>\n",
              "  </div>\n"
            ]
          },
          "metadata": {},
          "execution_count": 12
        },
        {
          "output_type": "stream",
          "name": "stderr",
          "text": [
            "/usr/local/lib/python3.10/dist-packages/google/colab/_quickchart_lib.py:129: UserWarning: Glyph 51333 (\\N{HANGUL SYLLABLE JONG}) missing from current font.\n",
            "  plt.tight_layout()\n",
            "/usr/local/lib/python3.10/dist-packages/google/colab/_quickchart_lib.py:129: UserWarning: Glyph 44032 (\\N{HANGUL SYLLABLE GA}) missing from current font.\n",
            "  plt.tight_layout()\n",
            "/usr/local/lib/python3.10/dist-packages/google/colab/_quickchart_lib.py:25: UserWarning: Glyph 51333 (\\N{HANGUL SYLLABLE JONG}) missing from current font.\n",
            "  plt.savefig(f, bbox_inches='tight')\n",
            "/usr/local/lib/python3.10/dist-packages/google/colab/_quickchart_lib.py:25: UserWarning: Glyph 44032 (\\N{HANGUL SYLLABLE GA}) missing from current font.\n",
            "  plt.savefig(f, bbox_inches='tight')\n",
            "/usr/local/lib/python3.10/dist-packages/google/colab/_quickchart_lib.py:67: UserWarning: Glyph 51333 (\\N{HANGUL SYLLABLE JONG}) missing from current font.\n",
            "  plt.tight_layout()\n",
            "/usr/local/lib/python3.10/dist-packages/google/colab/_quickchart_lib.py:67: UserWarning: Glyph 44032 (\\N{HANGUL SYLLABLE GA}) missing from current font.\n",
            "  plt.tight_layout()\n",
            "/usr/local/lib/python3.10/dist-packages/google/colab/_quickchart_lib.py:25: UserWarning: Glyph 51333 (\\N{HANGUL SYLLABLE JONG}) missing from current font.\n",
            "  plt.savefig(f, bbox_inches='tight')\n",
            "/usr/local/lib/python3.10/dist-packages/google/colab/_quickchart_lib.py:25: UserWarning: Glyph 44032 (\\N{HANGUL SYLLABLE GA}) missing from current font.\n",
            "  plt.savefig(f, bbox_inches='tight')\n"
          ]
        },
        {
          "output_type": "display_data",
          "data": {
            "text/plain": [
              "<google.colab._quickchart_helpers.SectionTitle at 0x793c0da0e0e0>"
            ],
            "text/html": [
              "<h4 class=\"colab-quickchart-section-title\">Values</h4>\n",
              "<style>\n",
              "  .colab-quickchart-section-title {\n",
              "      clear: both;\n",
              "  }\n",
              "</style>"
            ]
          },
          "metadata": {}
        },
        {
          "output_type": "display_data",
          "data": {
            "text/plain": [
              "import numpy as np\n",
              "from google.colab import autoviz\n",
              "\n",
              "def value_plot(df, y, figscale=1):\n",
              "  from matplotlib import pyplot as plt\n",
              "  df[y].plot(kind='line', figsize=(8 * figscale, 4 * figscale), title=y)\n",
              "  plt.gca().spines[['top', 'right']].set_visible(False)\n",
              "  plt.tight_layout()\n",
              "  return autoviz.MplChart.from_current_mpl_state()\n",
              "\n",
              "chart = value_plot(day_df, *['종가'], **{})\n",
              "chart"
            ],
            "text/html": [
              "      <div class=\"colab-quickchart-chart-with-code\" id=\"chart-38a53e21-3c7b-43ef-9aa6-1502dfd7bde8\">\n",
              "        <img src=\"data:image/png;base64,iVBORw0KGgoAAAANSUhEUgAAAMQAAABgCAYAAABCK92TAAAAOXRFWHRTb2Z0d2FyZQBNYXRwbG90\n",
              "bGliIHZlcnNpb24zLjcuMSwgaHR0cHM6Ly9tYXRwbG90bGliLm9yZy/bCgiHAAAACXBIWXMAAA9h\n",
              "AAAPYQGoP6dpAAAPFUlEQVR4nO3de1RTZ7oG8CfhEgUCGhC8IIklAeUiiKDYjngbTh2ntS1Wezpe\n",
              "e3TGnjUua3WdosfTqqVTe1Fn9FjHdo3VVtuOFnWmotWitnAsUwUvgNJCuCjILYiQEJFAyHv+AOOO\n",
              "ihJAEuD9rZXlcn97h2+v9T37+vIhIiICYwwAILZ1BxizJxwIxgQ4EIwJcCAYE+BAMCbAgWBMgAPB\n",
              "mAAHgjEBDgRjAhwIxgQcbd0B1nl79uxBQkICBg0aZLG8qqoKb7755kPbFi1a1I09tX8irmXq+fbs\n",
              "2QMA9w3uO8sf1saBsMSXTIwJcCAYE+BAMCbAgWBMgAPBmAAHgjEBDgRjAhwIxgT4TXUvkZCQgJ07\n",
              "d1osE76pbquNWeI31YwJ8CUTYwIcCMYErA6EwWDAsmXLoFKpEBoainnz5gEAjh8/jsjISIwePRrR\n",
              "0dHIzMw0b6PRaDB9+nSoVCqEhIQgNTW1022MPRZkpRUrVtCyZcvIZDIREVF5eTndvHmTZDIZXb58\n",
              "mYiIUlNTKTg42LzNK6+8QuvWrSMionPnztGwYcOosbGxU22MPQ5WBUKv15NUKiWtVmuxPD09nVQq\n",
              "lcUyqVRK58+fJyIiV1dXKi8vN7dFRUVRcnJyp9oYexysumQqKCiATCbDu+++i8jISEycOBGnTp2C\n",
              "SqVCdXU10tLSAADffPMN6urqcPXqVVRXV6OpqQmDBw82f49CoUBxcXGH2x7EYDBAp9NZfDZv3mzV\n",
              "2ZIxqwJhNBpx7do1BAUFISMjA9u2bcNLL72EhoYGJCYmYs2aNRg7diy+++47BAUFwdGx+15zbNy4\n",
              "ER4eHhafxMTEbvv5rAURYc2hLMR88D2Kq+tt3R3rWXM6qaqqIrFYTEaj0bwsMjLyvsuYhoYGGjBg\n",
              "AKnVaiIicnFxafPSp6Nt92poaCCtVmvxWb58uTW7x7rAn5NzSR6fRPL4JFryWbqtu2M1q84QXl5e\n",
              "mDZtGk6cOAEAKCoqQlFREUaNGoXy8nLzegkJCZg6dSqUSiUAYPbs2eY3penp6SgtLcWkSZM61XYv\n",
              "iUQCd3d3i4+Dg4M1u8c66WhWOf5yUg0AEImA5JxKnFHfsHGvrGRtggoKCmjy5MkUEhJCo0ePpsTE\n",
              "RCIiWrJkCQUGBpK/vz/NmzePampqzNtUVFRQbGwsKZVKCgoKotOnT3e6rT1ef/11a3ePdVBWSS0F\n",
              "/s8xkscn0dtHrtC6f14meXwSxW75gZqMzbbuXrv16tKNlStXYsuWLbbuRq9XqWvAzO1nUKkzYHLg\n",
              "IOxaGIW6hiZM3vQDauubkPBcMOZPUNi6m+3Cb6pZpzQ0NeMPn2egUmeA0tsN214eAwexCANcnLEq\n",
              "NgAAsDk5D7X1jR3+GV+cvYa1h7NxJLMM1XpDV3X9gbjalXUYEeG/ErOQeV2LAS5O2LUwEu79nMzt\n",
              "L4/zw76fipFbWYe/nFRj/cxgq3/G1xklWHv4MgDgi7Mtj9yDhrhjosoLTym9EKWQob9z190rciBY\n",
              "h/3v6XwcySyDo1iEv84dC7mnq0W7o4MYbz0bhLl/O4u9P13D3PF+UPlI2/39GVdvmsMwOXAQKrQN\n",
              "+KWiDjnlOuSU6/BxaiGcHcWIlA/EU0ovTFR5IXioBxzEog7vEweCdci32eXYkpwHAEh4PgQT/D0f\n",
              "uN5TSi/EBvkgOacSbyfl4PP/GAeR6NEDtuRmPZbuPY/GZhN+EzIYH/0uAmKxCFV1BqQV3MAZ9Q2c\n",
              "yb+Bcm0D0gqqkVZQjQ9P5MKjvxMOLJ2AwMHtD55QlxX3HTt2DBEREQgPD0dISAg+++wz8zZc3Ne7\n",
              "XC7V4vUDlwAArzylwMvj/B66/toZo+DsIMb/qW/g9C+aR36/3mDE7z/PQPWtRgQPdcfmOWEQtx71\n",
              "B0kleC58GD6cHYa01VNxetUkvP1cMP4tyAdSiSMMxmYovFw6vnPWPpZ6UHGfyWSigQMHUmZmJhER\n",
              "FRUVkUQiIZ1OR0S2K+7jx65dr1J7m8b/6STJ45No/q6z7X6k+u6xHJLHJ9HkD78nQ1Pb2zQ3m2jx\n",
              "nnSSxyfR2IRkKq2pb3ffmozNpK7UtXv9B+mS4j6TyUQymYxSUlKIiCgzM5OGDh1KBoOBiGxX3MeB\n",
              "6Fq3G400c/sZkscn0dRN35P2dvsPTrrbjTQ2IZnk8Un0SUpBm+ttPPYzyeOTSLX2GF24drMrum0V\n",
              "q+4hhMV9J0+eRP/+/bF+/XpMmzYN+/fvR1xcHFxdXVFTU4NDhw7B2dm5W4v7DAbLR3LNzc3W7B5r\n",
              "RUSo0hugrtRDXVmHPE3rv5V6aG83tT5RirJ4ovQo0n5OeOPpQLxxMAvbTqnxQsQweLlJLNY5eP46\n",
              "dqYUAAA+fHE0xvgN7NL9ag+rAiEs7nvvvfdw8eJFxMbG4sqVK3jnnXdw6NAhxMTEID09HTNnzkR2\n",
              "dna7bqC6wsaNG7FhwwaLZdHR0d3ys3uqOwM/v1KPvNaBn1+pR56mDrX1TQ/cxr2fI3bMjYDCy/WB\n",
              "7Q/z4lhf7P3pGrJLtdj8XS42xo02t52/dhNrDmUDAP44xR/PhQ/r2E51klWB8PPzg1gsxty5cwEA\n",
              "Y8aMwYgRI7B3716UlZUhJiYGABAVFQVfX19zYBwdHVFRUWE+2l+9ehV+fn7w9PTsUNuDrFmzBitX\n",
              "rrRYxrNKtCAi3NA3th7l66DW6KF+xMAXiQC5zAUqHylU3m4I8JFC5eMG/0Fu6OfUsef+YrEIbz0b\n",
              "hNk7/4W/p5dgXrQcwUM9cL3m7hOlp4N9sCo2sDO72ylWBUJY3Ddjxgxzcd/s2bOxYcMG/Pzzzxg1\n",
              "ahTy8/NRUFCAwMCWHbtTpLd+/fo2C/isbbuXRCKBRGJ5Cu5rxX3Cga/WtBz11ZV6qDV1qHnEwFd6\n",
              "SxHg0zUD/2GiFDI8GzYURzLLsOFIDnYvisLvPz+PG/pGjBriji1zws1PlGzB6vcQO3fuxOLFixEf\n",
              "Hw+xWIyPP/4Ycrkcn3zyCebMmQOxWAyTyYTt27ebj+bvv/8+5s+fD5VKBWdnZ+zbtw9OTk6dauvL\n",
              "iAjVtxrNA/7uUf/hA99P5gKVYOArvd2g9H48A/9hVv9mJJJzKnCu6Cae/+hHqDV6eLk5428LI+Eq\n",
              "se2rMS7us3M39AbkVdYhv/WIn1fZ/oGv8nFDgI8bVN5Smwz8h/lzch62nmopFXd2EOOrP0RjrLz7\n",
              "b6LvxW+q7QQRQa3R42xhNXJbB36+Ro+btx5cFHd34LtB5SM1D3z/QW5dWtvzuLw6yR+J56+jtPY2\n",
              "3psVahdhADgQNlWpa8AZ9Q38mN9ShqCpu7+SUyQChg90aRnwghvcnjLw29Lf2QEH//NJVOoaEDZ8\n",
              "gK27Y8aB6EZ6gxFnC6txJr+lFket0Vu0SxzFGDdChuChHubr/J4+8B9msEc/DPboZ+tuWOBAPGa3\n",
              "DEYcySzDoQuluFBcA6Pp7i2bSASEDvPAr5Re+JXSCxHygXZ1nd8XWR0Ig8GAVatW4cSJE+jXrx/C\n",
              "wsKwdetWTJs2zbxOfX09CgsLodFoIJPJoNFosGDBAhQUFEAikWDHjh3mdxYdbbN3V8q0+PJsMf55\n",
              "qQx6g9G8XO7p0lKqrPTCBH9PDHBxtmEv2b2sDsTq1ashEomQl5cHkUiEiooKeHp64tKlS+Z1Nm3a\n",
              "hJSUFMhkMvM20dHROH78ONLT0/HCCy+gqKgITk5OHW6zR7cMRiRlleHLs8XIvK41Lx/h5Yp/jxqO\n",
              "GaFDMFzWiUpM9vhZU/jUVnHfvUaOHEmHDx82/7+3F/ddLq2ltYezKPit4+YpWJT/fZT++MV5+jG/\n",
              "ylwZzOxflxX33ZGWloaamho888wzANBri/vqG1vuDb48V4LMktq7ffR0wcvj/DBrrO99xWvM/nVZ\n",
              "cZ+Pjw8AYNeuXViwYEG3ztoHdF9xX06ZDl+eu4Z/XLx7b+DkIMLTwYPxu3F+iH7C06alB6xzuqS4\n",
              "Lzs7Gz4+PtDr9Thw4ADS09PN23S0gM+eivvaOhvIW88GL/LZoNfospn7AGD//v0ICwvDyJEjLbbr\n",
              "qTP35ZTp8OY/LmP8n04h/mA2Mktq4eQgwm9HD8EXS8bj+1WT8eokfw5Db2LtTUdbM/cREU2YMIE+\n",
              "/fTT+7bpSTP3mUwmSsnV0PMfnTHfIMvjkyjmg9P01x/yqaquwervZD0HF/cJXCqpxfvf/oJ/FVYD\n",
              "ABzFrfcG4/0wge8N+gR+Uw2goEqPTSdy8e3lCgAt1ZfzJ8jx6iR/DJLy5VBf0qcDUaFtwNZTeTiQ\n",
              "cR3NJoJYBMRF+GLFr1XwHcgv0PqiPhkIbX0TdqTkY8+PV2EwmgAAvx7lgzemByLAipnlWO/TpwJx\n",
              "u7EZu9OKsPOHAugaWt4hRCkGIn76SEQqZDbuHbMHfSoQ32SW4oPjuQCAkYOleGN6IKYEenfbzCDM\n",
              "/vWpQMRF+CIpqxxxEcMwM2xYpybFZb1Tr37sGhcXB4VCYetuWKW5uRnnzp3DuHHjeuysIfa4D3K5\n",
              "HK+99toj1+vVgeiJdDodPDw8oNVq4e7ubuvudEhP3gf+C0KMCXAgGBPgQDAmwIGwMxKJBOvWrbtv\n",
              "Ws6epCfvA99UMybAZwjGBDgQjAlwIBgT4EDYEYVCgcDAQISHhyM8PBz79++3dZceafny5VAoFBCJ\n",
              "RBZzc6nVajz55JMICAhAVFQUrly5YrtOWsN2v6zH7iWXy+nixYu27oZVUlJSqKSk5L6+T5kyhXbv\n",
              "3k1ERF9//TVFRkbapoNW4jME65SYmBj4+vpaLNNoNMjIyDD/DfNZs2ahpKQE+fn5tuiiVTgQdmbB\n",
              "ggUIDQ3F4sWLUVVVZevudEhJSQmGDBlinptLJBLBz8+vzUnm7AkHwo6kpqYiKysLFy5cgJeXFxYu\n",
              "XGjrLvU5fer3IezdnUnYnJycsGLFCgQEBNi4Rx0zfPhwlJeXw2g0wtHREUSE4uLiNieZsyd8hrAT\n",
              "t27dQm1trfn/X331FcaMGWO7DnWCt7c3IiIisG/fPgDAwYMH4evrC6VSaeOePRqXbtiJwsJCzJo1\n",
              "C83NzSAiPPHEE9i6davd/4LT0qVLcfToUfOfRZBKpcjPz0dubi4WLVqE6upquLu7Y/fu3QgNDbV1\n",
              "dx+JA8GYAF8yMSbAgWBMgAPBmAAHgjEBDgRjAhwIxgQ4EIwJcCAYE+BAMCbAgWBMgAPBmMD/A9wR\n",
              "7HgiypF9AAAAAElFTkSuQmCC\n",
              "\">\n",
              "        \n",
              "      </div>\n",
              "      <script></script>\n",
              "      <script type=\"text/javascript\">\n",
              "        (() => {\n",
              "          const chartElement = document.getElementById(\"chart-38a53e21-3c7b-43ef-9aa6-1502dfd7bde8\");\n",
              "          async function getCodeForChartHandler(event) {\n",
              "            const chartCodeResponse =  await google.colab.kernel.invokeFunction(\n",
              "                'getCodeForChart', [\"chart-38a53e21-3c7b-43ef-9aa6-1502dfd7bde8\"], {});\n",
              "            const responseJson = chartCodeResponse.data['application/json'];\n",
              "            await google.colab.notebook.addCell(responseJson.code, 'code');\n",
              "          }\n",
              "          chartElement.onclick = getCodeForChartHandler;\n",
              "        })();\n",
              "      </script>\n",
              "      <style>\n",
              "        .colab-quickchart-chart-with-code  {\n",
              "            display: block;\n",
              "            float: left;\n",
              "            border: 1px solid transparent;\n",
              "        }\n",
              "\n",
              "        .colab-quickchart-chart-with-code:hover {\n",
              "            cursor: pointer;\n",
              "            border: 1px solid #aaa;\n",
              "        }\n",
              "      </style>"
            ]
          },
          "metadata": {}
        },
        {
          "output_type": "display_data",
          "data": {
            "text/plain": [
              "<google.colab._quickchart_helpers.SectionTitle at 0x793c0a3d7c10>"
            ],
            "text/html": [
              "<h4 class=\"colab-quickchart-section-title\">Distributions</h4>\n",
              "<style>\n",
              "  .colab-quickchart-section-title {\n",
              "      clear: both;\n",
              "  }\n",
              "</style>"
            ]
          },
          "metadata": {}
        },
        {
          "output_type": "display_data",
          "data": {
            "text/plain": [
              "import numpy as np\n",
              "from google.colab import autoviz\n",
              "\n",
              "def histogram(df, colname, num_bins=20, figscale=1):\n",
              "  from matplotlib import pyplot as plt\n",
              "  df[colname].plot(kind='hist', bins=num_bins, title=colname, figsize=(8*figscale, 4*figscale))\n",
              "  plt.gca().spines[['top', 'right',]].set_visible(False)\n",
              "  plt.tight_layout()\n",
              "  return autoviz.MplChart.from_current_mpl_state()\n",
              "\n",
              "chart = histogram(day_df, *['종가'], **{})\n",
              "chart"
            ],
            "text/html": [
              "      <div class=\"colab-quickchart-chart-with-code\" id=\"chart-cdc9cbc6-bbc2-4404-8224-c3adfdf409a0\">\n",
              "        <img src=\"data:image/png;base64,iVBORw0KGgoAAAANSUhEUgAAALkAAABgCAYAAABBnNO7AAAAOXRFWHRTb2Z0d2FyZQBNYXRwbG90\n",
              "bGliIHZlcnNpb24zLjcuMSwgaHR0cHM6Ly9tYXRwbG90bGliLm9yZy/bCgiHAAAACXBIWXMAAA9h\n",
              "AAAPYQGoP6dpAAAK0UlEQVR4nO3de2xM6RsH8O+0ywRttR2XbRctZkzTi8FU0dZmd0WqttEqibi3\n",
              "IhrXCAk/EWFVkEgEf4i1dreCBqm6RGMXJSTqUlMalKpLW5bqdacVptXO8/tDemJM2Z4zZzrT0+eT\n",
              "TNJzzntmvuTp6Xvmfc85KiIiMKZgHq4OwJizcZEzxeMiZ4rHRc4Uj4ucKR4XOVM8LnKmeFzkTPG4\n",
              "yJnicZEzxfvG1QG6koyMDKSnp6Nv374266uqqrBhw4avbktJSenApMqi4rkrHScjIwMA7Aq2df3X\n",
              "tnGRS8fdFaZ4XORM8bjImeJxkTPF4yJnisdFzhSPi5wpHhc5UzzRI55///034uLinJGlS0hPT8e+\n",
              "ffts1n064vmlbUw60SOeMTExqK6uxpIlS5CamgofHx9nZWNMFqK7K9euXcPRo0dx//59DBs2DEuW\n",
              "LEFRUZEzsjEmC4fmrty9exdTpkzBq1ev8OOPP2Lnzp2IiIiQMx9jDpN04nnx4kUkJiYiOTkZS5cu\n",
              "RUVFBdLS0jB16lS58zHmOBIpJCSEYmNj6fjx49Tc3GyzbdKkSTbLy5cvp6CgIAJAd+7cEftRjMlC\n",
              "dHfFZDLBaDS2q+3Vq1cxZMgQxMbG4tSpUxgxYoSEX0PGHCO6u2IymVBbWyss19TU4Lfffmuz7fff\n",
              "f48BAwZICrZ7925J+zH2OdFFvnfvXvj7+wvLGo0Ge/fudShEY2Mj6uvrbV7Pnj1z6D0ZayV6MKit\n",
              "3k1LS4tDIbZt24ZffvnFZt3YsWPbbBv8vxy7daXbf273Z7W1/5feo6Pbtnf/L+lsGTqK6CN5QEAA\n",
              "jh8/LiwfO3YMAQEBDoVYt24dzGazzSsqKsqh92Sslegj+a5du5CYmIg1a9YAAHr27InTp087FEKt\n",
              "VkOtVtus8/T0dOg9GWslushDQkJQVFSE4uJiAIBer/9iQaalpSEnJwcVFRWIi4uDt7c3njx54lhi\n",
              "xkSSdEsKlUoFX19fNDc3459//gEADBo0yK7dr7/+6lg6xmQgusgzMjKwYsUKdOvWDR4eH7v0KpUK\n",
              "lZWVsodjTA6iizw9PR35+fnQ6/XOyMOY7ER/u9KnTx8ucNapiC7ypKQk7Nq1C5WVlTaDN4y5K9Hd\n",
              "lfXr1wMAVq1aBZVKBSKCSqVyeECIMWcRXeRWq9UZORhzGknzyU0mEw4dOgQA+Pfff/H69WtZQzEm\n",
              "J0kTtBYsWIBNmzYB+DgLcdasWXLnYkw2oot8//79uHHjhnAB89ChQ1FVVSV7MMbkIrrI1Wo1evTo\n",
              "YbPum2/4Xv7MfYku8r59++Lx48dQqVQAPo6AtjWkz5i7kDQLcebMmXj06BEGDhwIHx8fnD171hnZ\n",
              "GJOF6CLXarW4efMmiouLQURfnYXImDsQXeTl5eUAgF69egHAV2chMuYORBe50WgURjotFgvevXsH\n",
              "jUbDsxCZ2xJd5J9/XZidnY3CwkLZAjEmN4dv3ZycnIycnPZfFMtYRxN9JP90xmFLSwtu3rzJsxCZ\n",
              "WxNd5L6+vkKf3NPTEzqdDnv27HFGNsZkwbMQmeLx41SY4ok+knt4eAhD+p/iiyeYuxJd5Js3b8b7\n",
              "9++xePFiAMC+ffvQo0cPrFy5Uu5sjMlCdJGfPHkSJpNJWN6yZQuMRqNwWRxj7kZ0n7yhocFmdLOy\n",
              "shINDQ2yhmJMTqKP5KtXr4bBYMDkyZMBAH/99ZdwlRBj7kh0kaelpSEmJgaXL18G8PGq/bCwMNmD\n",
              "MSYXSV8hajQaREREYPny5dDr9WhqamqzXUlJCaKjozFs2DCMHj0aDx48cCgsY1KILvKsrCyMHTsW\n",
              "qampAIAHDx4gKSmpzbZpaWlYtGgRHj9+jLVr1yIlJcWRrIxJIrrIt23bhoKCAvj6+gIADAYDysrK\n",
              "7NpVVlbi9u3bmDNnDgBg2rRpePHiBd+6mXU40X1yT09PaDQam3Xdu3e3a/fixQsEBAQIFzmrVCoM\n",
              "GjQI5eXl0Gq1Nm0bGxvR2Nhos44HlZhcRD/icMKECcjMzER8fDwKCgqQm5uLrVu3Ijc316adyWTC\n",
              "rFmzhJv1A0BUVBS2b9+On376yabtpk2b7J4ZFBISgvj4eLH/Htm1tLTg1q1biIqKcvvL/DpL1tac\n",
              "06dPx+rVq53/gWIf/Jmfn08jR46k3r17U0xMDAUGBrb5INo3b96Qt7c3ffjwgYiIrFYr9e/fn0pK\n",
              "SuzaWiwWMpvNNi+LxSI2mlOYzWYCQGaz2dVR/lNnydrROUV1V6xWK1paWnD58mXk5eWBiBAdHS30\n",
              "zz/Vr18/jBo1CocPH0ZKSgpOnDiBAQMG2HVVgLafGcSYXER3VwwGQ7svdysuLkZKSgpqamrg4+OD\n",
              "P//8ExEREZKCukp9fT169+4Ns9ks3DXMXXWWrB2dU/SJp06nw5MnT9o8In9Or9fj+vXrkoIxJhfR\n",
              "RV5bW4sRI0YgOjoaXl5ewvrs7GxZg7kLtVqNjRs3doruVGfJ2tE5291dWbRoEfbv34+DBw+irq4O\n",
              "fn5+Ntvnz5/vlICMOardRT5q1CgUFBTY/cyYu5M0d0XkuSpjLtXuPvn79+9x79494c5ZrT+3Gj58\n",
              "uFMCMuaw9n6hHhQURMHBwW2+Bg8eLP83+DKzWCy0dOlS0mq1FB4eTrNnz6bq6moyGAzCS6fTkaen\n",
              "J9XU1BDRxwGtuLg40mq1FBYWRleuXBHeT+o2KTmJiHJycmjkyJFkMBgoLCyMMjIyHM7ijJznzp0j\n",
              "o9FIERERNGbMGLp7965LcxIRiR7x7KxWrlxJy5YtI6vVSkREr1+/tmuzY8cOSkhIEJZTU1Np48aN\n",
              "RER069Yt+u6776ipqcmhbVJyWq1W8vPzo8LCQiIiev78OanVaqqvr3ernLW1teTv70/3798nIqKr\n",
              "V69SWFiYS/8/ibpIkb99+5a8vb3/cxg5JCSETp48KSz36tXL5pdh9OjRdOHCBYe2SclptVrJ399f\n",
              "OIIVFhZSYGAgNTY2ulXO/Px80ul0Nuu8vb3JZDK5JGerLnHfladPn8Lf3x9bt25FZGQkxo8fbzeh\n",
              "LC8vD3V1dUhISADw8YFfHz58wLfffiu0CQ4ORnl5ueRtUnOqVCocO3YMycnJCAoKQmxsLA4ePIju\n",
              "3bu7VU6dToeamhrk5eUBAM6cOYOGhgaUlpa6JGerLlHkzc3NKCsrQ2hoKG7fvo09e/ZgxowZePPm\n",
              "jdDm999/x7x581z6/KOv5dyyZQuys7NRVlaG3NxczJ07F9XV1W6V02KxICsrC+vWrYPRaMT58+cR\n",
              "Ghrq+mdKtfuY34lVVVWRh4cHNTc3C+siIyOFP3kNDQ3k5eVFDx8+tNmvZ8+eX/wzKXWblJw7duyw\n",
              "6wZERkbS+fPn3Srn5/taLBby9fUVZp52dM5WXaLIiYgmTpxIOTk5RET07Nkz0mg09PLlSyIiOnDg\n",
              "AMXExNjtM3/+fJsTnsDAQOGER+o2KTlLS0vJy8uLioqKiIiopKSE/Pz8qKyszK1yvnz5kl69eiW0\n",
              "Wb9+PSUnJwvLrshJ1IWK/OnTp/TDDz9QeHg4DR8+nLKysoRt48aNoz/++MNun4qKCpo4cSJptVoK\n",
              "DQ2lS5cuObxNas7MzExhXXh4OB05csQtcy5cuJD0ej0NHTqU5syZQ3V1dS7NSUQkeqotY51Nlzjx\n",
              "ZF0bFzlTPC5ypnhc5EzxuMiZ4nGRM8XjImeKx0XOFI+LnCkeFzlTPC5ypnj/B/oxo2S22hvSAAAA\n",
              "AElFTkSuQmCC\n",
              "\">\n",
              "        \n",
              "      </div>\n",
              "      <script></script>\n",
              "      <script type=\"text/javascript\">\n",
              "        (() => {\n",
              "          const chartElement = document.getElementById(\"chart-cdc9cbc6-bbc2-4404-8224-c3adfdf409a0\");\n",
              "          async function getCodeForChartHandler(event) {\n",
              "            const chartCodeResponse =  await google.colab.kernel.invokeFunction(\n",
              "                'getCodeForChart', [\"chart-cdc9cbc6-bbc2-4404-8224-c3adfdf409a0\"], {});\n",
              "            const responseJson = chartCodeResponse.data['application/json'];\n",
              "            await google.colab.notebook.addCell(responseJson.code, 'code');\n",
              "          }\n",
              "          chartElement.onclick = getCodeForChartHandler;\n",
              "        })();\n",
              "      </script>\n",
              "      <style>\n",
              "        .colab-quickchart-chart-with-code  {\n",
              "            display: block;\n",
              "            float: left;\n",
              "            border: 1px solid transparent;\n",
              "        }\n",
              "\n",
              "        .colab-quickchart-chart-with-code:hover {\n",
              "            cursor: pointer;\n",
              "            border: 1px solid #aaa;\n",
              "        }\n",
              "      </style>"
            ]
          },
          "metadata": {}
        }
      ]
    },
    {
      "cell_type": "code",
      "source": [],
      "metadata": {
        "id": "nmkinR_cz9U1"
      },
      "execution_count": null,
      "outputs": []
    },
    {
      "cell_type": "code",
      "source": [],
      "metadata": {
        "id": "lfkyM3xEz9PU"
      },
      "execution_count": null,
      "outputs": []
    },
    {
      "cell_type": "code",
      "source": [],
      "metadata": {
        "id": "XT4f8N9Kz9K9"
      },
      "execution_count": null,
      "outputs": []
    },
    {
      "cell_type": "code",
      "source": [],
      "metadata": {
        "id": "g9rawZ6Wz9Bv"
      },
      "execution_count": null,
      "outputs": []
    },
    {
      "cell_type": "code",
      "source": [
        "# df.columns"
      ],
      "metadata": {
        "id": "6fY0zdTsuAzJ"
      },
      "execution_count": null,
      "outputs": []
    },
    {
      "cell_type": "code",
      "source": [
        "# df_list = df.columns.to_list"
      ],
      "metadata": {
        "id": "kENxAaP2uNnf"
      },
      "execution_count": 13,
      "outputs": []
    },
    {
      "cell_type": "code",
      "source": [
        "# df.iloc[0]"
      ],
      "metadata": {
        "id": "2GksawdDuVdm"
      },
      "execution_count": null,
      "outputs": []
    },
    {
      "cell_type": "code",
      "source": [
        "# 1페이지에서 20페이지의 데이터만 가져오기\n",
        "for page in range(1, 6):\n",
        "    pg_url = '{url}&page={page}'.format(url=url, page=page)\n",
        "    df = df.append(pd.read_html(pg_url, header=0, encoding='cp949')[0], ignore_index=True)"
      ],
      "metadata": {
        "id": "ySvPDZnCvPX3",
        "outputId": "40a28feb-467e-4fb7-d6c4-d74139f8feb4",
        "colab": {
          "base_uri": "https://localhost:8080/"
        }
      },
      "execution_count": 9,
      "outputs": [
        {
          "output_type": "stream",
          "name": "stderr",
          "text": [
            "<ipython-input-9-299199a7711d>:4: FutureWarning: The frame.append method is deprecated and will be removed from pandas in a future version. Use pandas.concat instead.\n",
            "  df = df.append(pd.read_html(pg_url, header=0, encoding='cp949')[0], ignore_index=True)\n",
            "<ipython-input-9-299199a7711d>:4: FutureWarning: The frame.append method is deprecated and will be removed from pandas in a future version. Use pandas.concat instead.\n",
            "  df = df.append(pd.read_html(pg_url, header=0, encoding='cp949')[0], ignore_index=True)\n",
            "<ipython-input-9-299199a7711d>:4: FutureWarning: The frame.append method is deprecated and will be removed from pandas in a future version. Use pandas.concat instead.\n",
            "  df = df.append(pd.read_html(pg_url, header=0, encoding='cp949')[0], ignore_index=True)\n",
            "<ipython-input-9-299199a7711d>:4: FutureWarning: The frame.append method is deprecated and will be removed from pandas in a future version. Use pandas.concat instead.\n",
            "  df = df.append(pd.read_html(pg_url, header=0, encoding='cp949')[0], ignore_index=True)\n",
            "<ipython-input-9-299199a7711d>:4: FutureWarning: The frame.append method is deprecated and will be removed from pandas in a future version. Use pandas.concat instead.\n",
            "  df = df.append(pd.read_html(pg_url, header=0, encoding='cp949')[0], ignore_index=True)\n"
          ]
        }
      ]
    },
    {
      "cell_type": "code",
      "source": [
        "df.index"
      ],
      "metadata": {
        "id": "3NdWxs4yvXd-",
        "outputId": "0318f3b0-8c8b-46c5-d67b-9cd4dfab4920",
        "colab": {
          "base_uri": "https://localhost:8080/"
        }
      },
      "execution_count": 10,
      "outputs": [
        {
          "output_type": "execute_result",
          "data": {
            "text/plain": [
              "RangeIndex(start=0, stop=25, step=1)"
            ]
          },
          "metadata": {},
          "execution_count": 10
        }
      ]
    },
    {
      "cell_type": "code",
      "source": [
        "df"
      ],
      "metadata": {
        "id": "zqOCSEYxvbx1"
      },
      "execution_count": null,
      "outputs": []
    },
    {
      "cell_type": "code",
      "execution_count": null,
      "metadata": {
        "id": "0UzCX4dxnYAr"
      },
      "outputs": [],
      "source": [
        "\n",
        "\n",
        "# df.dropna()를 이용해 결측값 있는 행 제거\n",
        "df = df.dropna()\n",
        "\n"
      ]
    },
    {
      "cell_type": "code",
      "source": [
        "# 상위 5개 데이터 확인하기\n",
        "df.head()"
      ],
      "metadata": {
        "id": "2M-AOst5vBCp",
        "outputId": "7ee286ae-94bc-408c-97ad-01d117079b56",
        "colab": {
          "base_uri": "https://localhost:8080/",
          "height": 135
        }
      },
      "execution_count": 3,
      "outputs": [
        {
          "output_type": "execute_result",
          "data": {
            "text/plain": [
              "Empty DataFrame\n",
              "Columns: [전일  66,700  66,700, 고가  66,70066,700  (상한가  86,70086,700  ), 거래량  6,819,003  6,819,003, 거래량  6,822,752  6,822,752]\n",
              "Index: []"
            ],
            "text/html": [
              "\n",
              "  <div id=\"df-58aff252-021a-4a44-a521-0e59e128c4b1\" class=\"colab-df-container\">\n",
              "    <div>\n",
              "<style scoped>\n",
              "    .dataframe tbody tr th:only-of-type {\n",
              "        vertical-align: middle;\n",
              "    }\n",
              "\n",
              "    .dataframe tbody tr th {\n",
              "        vertical-align: top;\n",
              "    }\n",
              "\n",
              "    .dataframe thead th {\n",
              "        text-align: right;\n",
              "    }\n",
              "</style>\n",
              "<table border=\"1\" class=\"dataframe\">\n",
              "  <thead>\n",
              "    <tr style=\"text-align: right;\">\n",
              "      <th></th>\n",
              "      <th>전일  66,700  66,700</th>\n",
              "      <th>고가  66,70066,700  (상한가  86,70086,700  )</th>\n",
              "      <th>거래량  6,819,003  6,819,003</th>\n",
              "      <th>거래량  6,822,752  6,822,752</th>\n",
              "    </tr>\n",
              "  </thead>\n",
              "  <tbody>\n",
              "  </tbody>\n",
              "</table>\n",
              "</div>\n",
              "    <div class=\"colab-df-buttons\">\n",
              "\n",
              "  <div class=\"colab-df-container\">\n",
              "    <button class=\"colab-df-convert\" onclick=\"convertToInteractive('df-58aff252-021a-4a44-a521-0e59e128c4b1')\"\n",
              "            title=\"Convert this dataframe to an interactive table.\"\n",
              "            style=\"display:none;\">\n",
              "\n",
              "  <svg xmlns=\"http://www.w3.org/2000/svg\" height=\"24px\" viewBox=\"0 -960 960 960\">\n",
              "    <path d=\"M120-120v-720h720v720H120Zm60-500h600v-160H180v160Zm220 220h160v-160H400v160Zm0 220h160v-160H400v160ZM180-400h160v-160H180v160Zm440 0h160v-160H620v160ZM180-180h160v-160H180v160Zm440 0h160v-160H620v160Z\"/>\n",
              "  </svg>\n",
              "    </button>\n",
              "\n",
              "  <style>\n",
              "    .colab-df-container {\n",
              "      display:flex;\n",
              "      gap: 12px;\n",
              "    }\n",
              "\n",
              "    .colab-df-convert {\n",
              "      background-color: #E8F0FE;\n",
              "      border: none;\n",
              "      border-radius: 50%;\n",
              "      cursor: pointer;\n",
              "      display: none;\n",
              "      fill: #1967D2;\n",
              "      height: 32px;\n",
              "      padding: 0 0 0 0;\n",
              "      width: 32px;\n",
              "    }\n",
              "\n",
              "    .colab-df-convert:hover {\n",
              "      background-color: #E2EBFA;\n",
              "      box-shadow: 0px 1px 2px rgba(60, 64, 67, 0.3), 0px 1px 3px 1px rgba(60, 64, 67, 0.15);\n",
              "      fill: #174EA6;\n",
              "    }\n",
              "\n",
              "    .colab-df-buttons div {\n",
              "      margin-bottom: 4px;\n",
              "    }\n",
              "\n",
              "    [theme=dark] .colab-df-convert {\n",
              "      background-color: #3B4455;\n",
              "      fill: #D2E3FC;\n",
              "    }\n",
              "\n",
              "    [theme=dark] .colab-df-convert:hover {\n",
              "      background-color: #434B5C;\n",
              "      box-shadow: 0px 1px 3px 1px rgba(0, 0, 0, 0.15);\n",
              "      filter: drop-shadow(0px 1px 2px rgba(0, 0, 0, 0.3));\n",
              "      fill: #FFFFFF;\n",
              "    }\n",
              "  </style>\n",
              "\n",
              "    <script>\n",
              "      const buttonEl =\n",
              "        document.querySelector('#df-58aff252-021a-4a44-a521-0e59e128c4b1 button.colab-df-convert');\n",
              "      buttonEl.style.display =\n",
              "        google.colab.kernel.accessAllowed ? 'block' : 'none';\n",
              "\n",
              "      async function convertToInteractive(key) {\n",
              "        const element = document.querySelector('#df-58aff252-021a-4a44-a521-0e59e128c4b1');\n",
              "        const dataTable =\n",
              "          await google.colab.kernel.invokeFunction('convertToInteractive',\n",
              "                                                    [key], {});\n",
              "        if (!dataTable) return;\n",
              "\n",
              "        const docLinkHtml = 'Like what you see? Visit the ' +\n",
              "          '<a target=\"_blank\" href=https://colab.research.google.com/notebooks/data_table.ipynb>data table notebook</a>'\n",
              "          + ' to learn more about interactive tables.';\n",
              "        element.innerHTML = '';\n",
              "        dataTable['output_type'] = 'display_data';\n",
              "        await google.colab.output.renderOutput(dataTable, element);\n",
              "        const docLink = document.createElement('div');\n",
              "        docLink.innerHTML = docLinkHtml;\n",
              "        element.appendChild(docLink);\n",
              "      }\n",
              "    </script>\n",
              "  </div>\n",
              "\n",
              "\n",
              "<div id=\"df-1ac2b704-9b01-4c17-99c5-115e4e5467f7\">\n",
              "  <button class=\"colab-df-quickchart\" onclick=\"quickchart('df-1ac2b704-9b01-4c17-99c5-115e4e5467f7')\"\n",
              "            title=\"Suggest charts.\"\n",
              "            style=\"display:none;\">\n",
              "\n",
              "<svg xmlns=\"http://www.w3.org/2000/svg\" height=\"24px\"viewBox=\"0 0 24 24\"\n",
              "     width=\"24px\">\n",
              "    <g>\n",
              "        <path d=\"M19 3H5c-1.1 0-2 .9-2 2v14c0 1.1.9 2 2 2h14c1.1 0 2-.9 2-2V5c0-1.1-.9-2-2-2zM9 17H7v-7h2v7zm4 0h-2V7h2v10zm4 0h-2v-4h2v4z\"/>\n",
              "    </g>\n",
              "</svg>\n",
              "  </button>\n",
              "\n",
              "<style>\n",
              "  .colab-df-quickchart {\n",
              "    background-color: #E8F0FE;\n",
              "    border: none;\n",
              "    border-radius: 50%;\n",
              "    cursor: pointer;\n",
              "    display: none;\n",
              "    fill: #1967D2;\n",
              "    height: 32px;\n",
              "    padding: 0 0 0 0;\n",
              "    width: 32px;\n",
              "  }\n",
              "\n",
              "  .colab-df-quickchart:hover {\n",
              "    background-color: #E2EBFA;\n",
              "    box-shadow: 0px 1px 2px rgba(60, 64, 67, 0.3), 0px 1px 3px 1px rgba(60, 64, 67, 0.15);\n",
              "    fill: #174EA6;\n",
              "  }\n",
              "\n",
              "  [theme=dark] .colab-df-quickchart {\n",
              "    background-color: #3B4455;\n",
              "    fill: #D2E3FC;\n",
              "  }\n",
              "\n",
              "  [theme=dark] .colab-df-quickchart:hover {\n",
              "    background-color: #434B5C;\n",
              "    box-shadow: 0px 1px 3px 1px rgba(0, 0, 0, 0.15);\n",
              "    filter: drop-shadow(0px 1px 2px rgba(0, 0, 0, 0.3));\n",
              "    fill: #FFFFFF;\n",
              "  }\n",
              "</style>\n",
              "\n",
              "  <script>\n",
              "    async function quickchart(key) {\n",
              "      const charts = await google.colab.kernel.invokeFunction(\n",
              "          'suggestCharts', [key], {});\n",
              "    }\n",
              "    (() => {\n",
              "      let quickchartButtonEl =\n",
              "        document.querySelector('#df-1ac2b704-9b01-4c17-99c5-115e4e5467f7 button');\n",
              "      quickchartButtonEl.style.display =\n",
              "        google.colab.kernel.accessAllowed ? 'block' : 'none';\n",
              "    })();\n",
              "  </script>\n",
              "</div>\n",
              "    </div>\n",
              "  </div>\n"
            ]
          },
          "metadata": {},
          "execution_count": 3
        }
      ]
    },
    {
      "cell_type": "code",
      "source": [
        "df.columns"
      ],
      "metadata": {
        "id": "j5eI-6WIriEL"
      },
      "execution_count": null,
      "outputs": []
    },
    {
      "cell_type": "code",
      "source": [
        "df.index"
      ],
      "metadata": {
        "id": "NMqZooCgvKS3",
        "outputId": "85cf0c74-d0a3-4a79-b673-0516f511a5fb",
        "colab": {
          "base_uri": "https://localhost:8080/"
        }
      },
      "execution_count": 5,
      "outputs": [
        {
          "output_type": "execute_result",
          "data": {
            "text/plain": [
              "Int64Index([], dtype='int64')"
            ]
          },
          "metadata": {},
          "execution_count": 5
        }
      ]
    },
    {
      "cell_type": "code",
      "source": [
        "df.tail()"
      ],
      "metadata": {
        "id": "5fdisMYzrMgG"
      },
      "execution_count": null,
      "outputs": []
    },
    {
      "cell_type": "code",
      "source": [
        "df"
      ],
      "metadata": {
        "id": "4i4WubYFrOBp",
        "outputId": "eb26d34c-5455-46d2-c81e-23da9a2dfc95",
        "colab": {
          "base_uri": "https://localhost:8080/",
          "height": 89
        }
      },
      "execution_count": 4,
      "outputs": [
        {
          "output_type": "execute_result",
          "data": {
            "text/plain": [
              "Empty DataFrame\n",
              "Columns: [전일  66,700  66,700, 고가  66,70066,700  (상한가  86,70086,700  ), 거래량  6,819,003  6,819,003, 거래량  6,822,752  6,822,752]\n",
              "Index: []"
            ],
            "text/html": [
              "\n",
              "  <div id=\"df-3d9ae3af-4e58-4400-97f9-9f29ed5ad0dd\" class=\"colab-df-container\">\n",
              "    <div>\n",
              "<style scoped>\n",
              "    .dataframe tbody tr th:only-of-type {\n",
              "        vertical-align: middle;\n",
              "    }\n",
              "\n",
              "    .dataframe tbody tr th {\n",
              "        vertical-align: top;\n",
              "    }\n",
              "\n",
              "    .dataframe thead th {\n",
              "        text-align: right;\n",
              "    }\n",
              "</style>\n",
              "<table border=\"1\" class=\"dataframe\">\n",
              "  <thead>\n",
              "    <tr style=\"text-align: right;\">\n",
              "      <th></th>\n",
              "      <th>전일  66,700  66,700</th>\n",
              "      <th>고가  66,70066,700  (상한가  86,70086,700  )</th>\n",
              "      <th>거래량  6,819,003  6,819,003</th>\n",
              "      <th>거래량  6,822,752  6,822,752</th>\n",
              "    </tr>\n",
              "  </thead>\n",
              "  <tbody>\n",
              "  </tbody>\n",
              "</table>\n",
              "</div>\n",
              "    <div class=\"colab-df-buttons\">\n",
              "\n",
              "  <div class=\"colab-df-container\">\n",
              "    <button class=\"colab-df-convert\" onclick=\"convertToInteractive('df-3d9ae3af-4e58-4400-97f9-9f29ed5ad0dd')\"\n",
              "            title=\"Convert this dataframe to an interactive table.\"\n",
              "            style=\"display:none;\">\n",
              "\n",
              "  <svg xmlns=\"http://www.w3.org/2000/svg\" height=\"24px\" viewBox=\"0 -960 960 960\">\n",
              "    <path d=\"M120-120v-720h720v720H120Zm60-500h600v-160H180v160Zm220 220h160v-160H400v160Zm0 220h160v-160H400v160ZM180-400h160v-160H180v160Zm440 0h160v-160H620v160ZM180-180h160v-160H180v160Zm440 0h160v-160H620v160Z\"/>\n",
              "  </svg>\n",
              "    </button>\n",
              "\n",
              "  <style>\n",
              "    .colab-df-container {\n",
              "      display:flex;\n",
              "      gap: 12px;\n",
              "    }\n",
              "\n",
              "    .colab-df-convert {\n",
              "      background-color: #E8F0FE;\n",
              "      border: none;\n",
              "      border-radius: 50%;\n",
              "      cursor: pointer;\n",
              "      display: none;\n",
              "      fill: #1967D2;\n",
              "      height: 32px;\n",
              "      padding: 0 0 0 0;\n",
              "      width: 32px;\n",
              "    }\n",
              "\n",
              "    .colab-df-convert:hover {\n",
              "      background-color: #E2EBFA;\n",
              "      box-shadow: 0px 1px 2px rgba(60, 64, 67, 0.3), 0px 1px 3px 1px rgba(60, 64, 67, 0.15);\n",
              "      fill: #174EA6;\n",
              "    }\n",
              "\n",
              "    .colab-df-buttons div {\n",
              "      margin-bottom: 4px;\n",
              "    }\n",
              "\n",
              "    [theme=dark] .colab-df-convert {\n",
              "      background-color: #3B4455;\n",
              "      fill: #D2E3FC;\n",
              "    }\n",
              "\n",
              "    [theme=dark] .colab-df-convert:hover {\n",
              "      background-color: #434B5C;\n",
              "      box-shadow: 0px 1px 3px 1px rgba(0, 0, 0, 0.15);\n",
              "      filter: drop-shadow(0px 1px 2px rgba(0, 0, 0, 0.3));\n",
              "      fill: #FFFFFF;\n",
              "    }\n",
              "  </style>\n",
              "\n",
              "    <script>\n",
              "      const buttonEl =\n",
              "        document.querySelector('#df-3d9ae3af-4e58-4400-97f9-9f29ed5ad0dd button.colab-df-convert');\n",
              "      buttonEl.style.display =\n",
              "        google.colab.kernel.accessAllowed ? 'block' : 'none';\n",
              "\n",
              "      async function convertToInteractive(key) {\n",
              "        const element = document.querySelector('#df-3d9ae3af-4e58-4400-97f9-9f29ed5ad0dd');\n",
              "        const dataTable =\n",
              "          await google.colab.kernel.invokeFunction('convertToInteractive',\n",
              "                                                    [key], {});\n",
              "        if (!dataTable) return;\n",
              "\n",
              "        const docLinkHtml = 'Like what you see? Visit the ' +\n",
              "          '<a target=\"_blank\" href=https://colab.research.google.com/notebooks/data_table.ipynb>data table notebook</a>'\n",
              "          + ' to learn more about interactive tables.';\n",
              "        element.innerHTML = '';\n",
              "        dataTable['output_type'] = 'display_data';\n",
              "        await google.colab.output.renderOutput(dataTable, element);\n",
              "        const docLink = document.createElement('div');\n",
              "        docLink.innerHTML = docLinkHtml;\n",
              "        element.appendChild(docLink);\n",
              "      }\n",
              "    </script>\n",
              "  </div>\n",
              "\n",
              "\n",
              "<div id=\"df-bdb63c0b-c2e1-41da-94c2-1ca36cd1326d\">\n",
              "  <button class=\"colab-df-quickchart\" onclick=\"quickchart('df-bdb63c0b-c2e1-41da-94c2-1ca36cd1326d')\"\n",
              "            title=\"Suggest charts.\"\n",
              "            style=\"display:none;\">\n",
              "\n",
              "<svg xmlns=\"http://www.w3.org/2000/svg\" height=\"24px\"viewBox=\"0 0 24 24\"\n",
              "     width=\"24px\">\n",
              "    <g>\n",
              "        <path d=\"M19 3H5c-1.1 0-2 .9-2 2v14c0 1.1.9 2 2 2h14c1.1 0 2-.9 2-2V5c0-1.1-.9-2-2-2zM9 17H7v-7h2v7zm4 0h-2V7h2v10zm4 0h-2v-4h2v4z\"/>\n",
              "    </g>\n",
              "</svg>\n",
              "  </button>\n",
              "\n",
              "<style>\n",
              "  .colab-df-quickchart {\n",
              "    background-color: #E8F0FE;\n",
              "    border: none;\n",
              "    border-radius: 50%;\n",
              "    cursor: pointer;\n",
              "    display: none;\n",
              "    fill: #1967D2;\n",
              "    height: 32px;\n",
              "    padding: 0 0 0 0;\n",
              "    width: 32px;\n",
              "  }\n",
              "\n",
              "  .colab-df-quickchart:hover {\n",
              "    background-color: #E2EBFA;\n",
              "    box-shadow: 0px 1px 2px rgba(60, 64, 67, 0.3), 0px 1px 3px 1px rgba(60, 64, 67, 0.15);\n",
              "    fill: #174EA6;\n",
              "  }\n",
              "\n",
              "  [theme=dark] .colab-df-quickchart {\n",
              "    background-color: #3B4455;\n",
              "    fill: #D2E3FC;\n",
              "  }\n",
              "\n",
              "  [theme=dark] .colab-df-quickchart:hover {\n",
              "    background-color: #434B5C;\n",
              "    box-shadow: 0px 1px 3px 1px rgba(0, 0, 0, 0.15);\n",
              "    filter: drop-shadow(0px 1px 2px rgba(0, 0, 0, 0.3));\n",
              "    fill: #FFFFFF;\n",
              "  }\n",
              "</style>\n",
              "\n",
              "  <script>\n",
              "    async function quickchart(key) {\n",
              "      const charts = await google.colab.kernel.invokeFunction(\n",
              "          'suggestCharts', [key], {});\n",
              "    }\n",
              "    (() => {\n",
              "      let quickchartButtonEl =\n",
              "        document.querySelector('#df-bdb63c0b-c2e1-41da-94c2-1ca36cd1326d button');\n",
              "      quickchartButtonEl.style.display =\n",
              "        google.colab.kernel.accessAllowed ? 'block' : 'none';\n",
              "    })();\n",
              "  </script>\n",
              "</div>\n",
              "    </div>\n",
              "  </div>\n"
            ]
          },
          "metadata": {},
          "execution_count": 4
        }
      ]
    },
    {
      "cell_type": "code",
      "source": [],
      "metadata": {
        "id": "czdWJCvyvHDQ"
      },
      "execution_count": null,
      "outputs": []
    },
    {
      "cell_type": "code",
      "source": [
        "import pandas as pd\n",
        "import requests\n",
        "from bs4 import BeautifulSoup\n",
        "\n",
        "url = \"https://finance.naver.com/item/sise_day.naver?code=005930&page=1\"\n",
        "\n",
        "headers = {\n",
        "    \"User-Agent\": \"Mozilla/5.0 (Windows NT 10.0; Win64; x64) AppleWebKit/537.36 (KHTML, like Gecko) Chrome/91.0.4472.124 Safari/537.36\"\n",
        "}\n",
        "\n",
        "response = requests.get(url, headers=headers)\n",
        "soup = BeautifulSoup(response.text, \"html.parser\")\n",
        "table = soup.find(\"table\", class_=\"type2\")\n",
        "\n",
        "df = pd.read_html(str(table))[0]\n",
        "df = df.dropna()\n",
        "\n",
        "print(df)\n"
      ],
      "metadata": {
        "id": "OUJwC0hMyq1g",
        "outputId": "2bb564fe-bdad-4100-d501-b8a2de05e4ec",
        "colab": {
          "base_uri": "https://localhost:8080/"
        }
      },
      "execution_count": 1,
      "outputs": [
        {
          "output_type": "stream",
          "name": "stdout",
          "text": [
            "            날짜       종가     전일비       시가       고가       저가         거래량\n",
            "1   2023.08.18  66400.0   300.0  66000.0  66700.0  65800.0   7097449.0\n",
            "2   2023.08.17  66700.0   300.0  66300.0  66800.0  66000.0  10778652.0\n",
            "3   2023.08.16  67000.0   300.0  66700.0  67100.0  66300.0  13174578.0\n",
            "4   2023.08.14  67300.0   200.0  67500.0  67900.0  66900.0   9352343.0\n",
            "5   2023.08.11  67500.0   500.0  68400.0  68800.0  67500.0   9781038.0\n",
            "9   2023.08.10  68000.0   900.0  68300.0  68500.0  67800.0  10227311.0\n",
            "10  2023.08.09  68900.0  1300.0  68000.0  69600.0  67900.0  17259673.0\n",
            "11  2023.08.08  67600.0   900.0  69000.0  69100.0  67400.0  14664709.0\n",
            "12  2023.08.07  68500.0   200.0  67700.0  69200.0  67600.0  10968505.0\n",
            "13  2023.08.04  68300.0   500.0  68800.0  69100.0  68200.0  12360193.0\n"
          ]
        }
      ]
    }
  ]
}