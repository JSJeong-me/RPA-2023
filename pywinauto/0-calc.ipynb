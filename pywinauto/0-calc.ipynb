{
  "nbformat": 4,
  "nbformat_minor": 0,
  "metadata": {
    "colab": {
      "name": "Untitled3.ipynb",
      "provenance": [],
      "authorship_tag": "ABX9TyPJEL53GVkwnZzIXy3CWj+I",
      "include_colab_link": true
    },
    "kernelspec": {
      "name": "python3",
      "display_name": "Python 3"
    },
    "language_info": {
      "name": "python"
    }
  },
  "cells": [
    {
      "cell_type": "markdown",
      "metadata": {
        "id": "view-in-github",
        "colab_type": "text"
      },
      "source": [
        "<a href=\"https://colab.research.google.com/github/JSJeong-me/Python_RPA/blob/main/pywinauto/0-calc.ipynb\" target=\"_parent\"><img src=\"https://colab.research.google.com/assets/colab-badge.svg\" alt=\"Open In Colab\"/></a>"
      ]
    },
    {
      "cell_type": "code",
      "execution_count": null,
      "metadata": {
        "id": "GDwMpCr7ZiTf"
      },
      "outputs": [],
      "source": [
        "from pywinauto import application\n",
        "\n",
        "app = application.Application(backend='uia').start('calc.exe')\n",
        "dlg_spec = app.window(title='계산기')\n",
        "dlg_spec.print_control_identifiers()"
      ]
    },
    {
      "cell_type": "code",
      "source": [
        "from pywinauto import application\n",
        "\n",
        "# calc.exe 실행하기\n",
        "app = application.Application(backend='uia').start('calc.exe')\n",
        "dlg_spec = app.window(title='계산기')\n",
        "\n",
        "# control_type이 MenuItem일 경우 이동하는 방법\n",
        "dlg_spec.menu_select(\"보기(V) -> 공학용(S)\")\n",
        "\n",
        "# control_type이 Button일 경우 동작시키는 방법\n",
        "dlg_spec.child_window(title=\"7\", auto_id=\"137\", control_type=\"Button\").click()\n",
        "dlg_spec.child_window(title=\"더하기\", auto_id=\"93\", control_type=\"Button\").click()\n",
        "dlg_spec.child_window(title=\"8\", auto_id=\"138\", control_type=\"Button\").click()\n",
        "dlg_spec.child_window(title=\"같음\", auto_id=\"121\", control_type=\"Button\").click()\n",
        "\n",
        "# control_type이 Text일 경우 결과값을 가져오는 방법\n",
        "print(dlg_spec.child_window(title=\"결과\", auto_id=\"150\", control_type=\"Text\").legacy_properties())\n",
        "a = dlg_spec.child_window(title=\"결과\", auto_id=\"150\", control_type=\"Text\").legacy_properties()['Value']\n",
        "print(a)\n",
        "\n",
        "# window 최소화 하기\n",
        "dlg_spec.minimize()"
      ],
      "metadata": {
        "id": "Dhxt5MHMZl5s"
      },
      "execution_count": null,
      "outputs": []
    }
  ]
}