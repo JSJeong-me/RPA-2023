{
 "cells": [
  {
   "cell_type": "code",
   "execution_count": 1,
   "id": "b9c88af9-c4c8-4f38-887e-b1ce185f7da7",
   "metadata": {},
   "outputs": [],
   "source": [
    "from pywinauto.application import Application\n",
    "app = Application().start(\"notepad.exe\")"
   ]
  },
  {
   "cell_type": "code",
   "execution_count": 5,
   "id": "420ecd5c-390c-4483-9154-504028fa1ca7",
   "metadata": {},
   "outputs": [],
   "source": [
    "app.UntitledNotepad.menu_select(\"도움말(&H)->메모장 정보(&A)\")  # 도움말(&H) Help->About Notepad"
   ]
  },
  {
   "cell_type": "code",
   "execution_count": null,
   "id": "25ef6245-bb16-45cd-8e80-876508d74f6e",
   "metadata": {},
   "outputs": [],
   "source": [
    "app.AboutNotepad.OK.click()"
   ]
  },
  {
   "cell_type": "code",
   "execution_count": 8,
   "id": "5fc39870-585e-41d7-93c4-9f1f1510357b",
   "metadata": {},
   "outputs": [
    {
     "data": {
      "text/plain": [
       "<win32_controls.EditWrapper - 'pywinauto Works!', Edit, 2426464>"
      ]
     },
     "execution_count": 8,
     "metadata": {},
     "output_type": "execute_result"
    }
   ],
   "source": [
    "app.UntitledNotepad.Edit.type_keys(\"pywinauto Works!\", with_spaces = True)"
   ]
  },
  {
   "cell_type": "code",
   "execution_count": null,
   "id": "43174e34-41d3-4635-8d95-51fdb6ddb8ad",
   "metadata": {},
   "outputs": [],
   "source": []
  }
 ],
 "metadata": {
  "kernelspec": {
   "display_name": "Python 3 (ipykernel)",
   "language": "python",
   "name": "python3"
  },
  "language_info": {
   "codemirror_mode": {
    "name": "ipython",
    "version": 3
   },
   "file_extension": ".py",
   "mimetype": "text/x-python",
   "name": "python",
   "nbconvert_exporter": "python",
   "pygments_lexer": "ipython3",
   "version": "3.9.12"
  }
 },
 "nbformat": 4,
 "nbformat_minor": 5
}
