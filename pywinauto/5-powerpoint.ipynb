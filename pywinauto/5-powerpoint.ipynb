{
  "nbformat": 4,
  "nbformat_minor": 0,
  "metadata": {
    "colab": {
      "provenance": [],
      "authorship_tag": "ABX9TyPDRNAFkvKyZ7kDZrPKEPAS",
      "include_colab_link": true
    },
    "kernelspec": {
      "name": "python3",
      "display_name": "Python 3"
    },
    "language_info": {
      "name": "python"
    }
  },
  "cells": [
    {
      "cell_type": "markdown",
      "metadata": {
        "id": "view-in-github",
        "colab_type": "text"
      },
      "source": [
        "<a href=\"https://colab.research.google.com/github/JSJeong-me/RPA-2023/blob/main/pywinauto/5-powerpoint.ipynb\" target=\"_parent\"><img src=\"https://colab.research.google.com/assets/colab-badge.svg\" alt=\"Open In Colab\"/></a>"
      ]
    },
    {
      "cell_type": "code",
      "execution_count": null,
      "metadata": {
        "id": "vMRcZhfUoWih"
      },
      "outputs": [],
      "source": [
        "!pip install python-pptx"
      ]
    },
    {
      "cell_type": "code",
      "source": [
        "from pptx import Presentation\n",
        "\n",
        "prs = Presentation()\n",
        "bullet_slide_layout = prs.slide_layouts[1]\n",
        "\n",
        "slide = prs.slides.add_slide(bullet_slide_layout)\n",
        "shapes = slide.shapes\n",
        "\n",
        "title_shape = shapes.title\n",
        "body_shape = shapes.placeholders[1]\n",
        "\n",
        "title_shape.text = '메인 제목'\n",
        "\n",
        "# tf = body_shape.text_frame\n",
        "# tf.text = 'Find the bullet slide layout'\n",
        "\n",
        "# p = tf.add_paragraph()\n",
        "# p.text = 'Use _TextFrame.text for first bullet'\n",
        "# p.level = 1\n",
        "\n",
        "# p = tf.add_paragraph()\n",
        "# p.text = 'Use _TextFrame.add_paragraph() for subsequent bullets'\n",
        "# p.level = 2\n",
        "\n",
        "# prs.save('test.pptx')"
      ],
      "metadata": {
        "id": "I68wiLxpp8n4"
      },
      "execution_count": 1,
      "outputs": []
    },
    {
      "cell_type": "code",
      "source": [
        "# from pptx import Presentation\n",
        "from pptx.util import Inches\n",
        "\n",
        "img_path = 'gpt.png'\n",
        "\n",
        "# prs = Presentation()\n",
        "# blank_slide_layout = prs.slide_layouts[6]\n",
        "# slide = prs.slides.add_slide(blank_slide_layout)\n",
        "\n",
        "left = Inches(1)\n",
        "top = Inches(1.5)\n",
        "# pic = slide.shapes.add_picture(img_path, left, top)\n",
        "\n",
        "# left = Inches(5)\n",
        "height = Inches(5.5)\n",
        "pic = slide.shapes.add_picture(img_path, left, top, height=height)\n",
        "\n",
        "prs.save('test.pptx')"
      ],
      "metadata": {
        "id": "f2HhG4oeoYIX"
      },
      "execution_count": 2,
      "outputs": []
    }
  ]
}