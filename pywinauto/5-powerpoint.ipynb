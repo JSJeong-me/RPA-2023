{
  "nbformat": 4,
  "nbformat_minor": 0,
  "metadata": {
    "colab": {
      "provenance": [],
      "authorship_tag": "ABX9TyN8Gs+YWZRskMkL3kyoGTlR",
      "include_colab_link": true
    },
    "kernelspec": {
      "name": "python3",
      "display_name": "Python 3"
    },
    "language_info": {
      "name": "python"
    }
  },
  "cells": [
    {
      "cell_type": "markdown",
      "metadata": {
        "id": "view-in-github",
        "colab_type": "text"
      },
      "source": [
        "<a href=\"https://colab.research.google.com/github/JSJeong-me/RPA-2023/blob/main/pywinauto/5-powerpoint.ipynb\" target=\"_parent\"><img src=\"https://colab.research.google.com/assets/colab-badge.svg\" alt=\"Open In Colab\"/></a>"
      ]
    },
    {
      "cell_type": "code",
      "execution_count": null,
      "metadata": {
        "id": "vMRcZhfUoWih"
      },
      "outputs": [],
      "source": [
        "# !pip install python-pptx"
      ]
    },
    {
      "cell_type": "code",
      "source": [
        "import collections\n",
        "import collections.abc\n",
        "from pptx import Presentation\n",
        "from pptx.util import Inches\n",
        "\n",
        "prs = Presentation()\n",
        "bullet_slide_layout = prs.slide_layouts[5]\n",
        "\n",
        "slide = prs.slides.add_slide(bullet_slide_layout)\n",
        "shapes = slide.shapes\n",
        "\n",
        "title_shape = shapes.title\n",
        "body_shape = shapes.placeholders[0]\n",
        "\n",
        "title_shape.text = '기린 이미지'\n",
        "\n",
        "img_path = 'giraffe.jpg'\n",
        "\n",
        "left = Inches(1)\n",
        "top = Inches(1.5)\n",
        "\n",
        "width = Inches(7)\n",
        "height = Inches(5.5)\n",
        "pic = slide.shapes.add_picture(img_path, left, top, width=width, height=height)\n",
        "\n",
        "prs.save('new.pptx')"
      ],
      "metadata": {
        "id": "I68wiLxpp8n4"
      },
      "execution_count": 2,
      "outputs": []
    }
  ]
}