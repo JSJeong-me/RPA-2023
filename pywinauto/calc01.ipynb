{
 "cells": [
  {
   "cell_type": "markdown",
   "id": "02a018d5-debf-4db2-876a-4ca0e487babc",
   "metadata": {},
   "source": [
    "https://rpaframework.org/libraries/desktop_windows/python.html"
   ]
  },
  {
   "cell_type": "code",
   "execution_count": null,
   "id": "dcf29570-8b52-49ff-8ddb-d8e9f9dec41b",
   "metadata": {},
   "outputs": [],
   "source": [
    "# !pip install rpaframework"
   ]
  },
  {
   "cell_type": "code",
   "execution_count": 1,
   "id": "e4bd5e3b-be4e-4745-b90d-e88d16567cb4",
   "metadata": {},
   "outputs": [],
   "source": [
    "from RPA.Desktop.Windows import Windows\n",
    "\n",
    "win = Windows()"
   ]
  },
  {
   "cell_type": "code",
   "execution_count": 2,
   "id": "ffc28adf-068e-460f-92d1-2602bbaf3c33",
   "metadata": {},
   "outputs": [],
   "source": [
    "def open_calculator():\n",
    "    win.open_from_search(\"calc.exe\", \"계산기\")\n",
    "    elements = win.get_window_elements()\n",
    "\n",
    "def make_calculations(expression):\n",
    "    win.send_keys(expression)\n",
    "    result = win.get_element_rich_text('id:CalculatorResults')\n",
    "    return int(result.strip('표시는 '))"
   ]
  },
  {
   "cell_type": "code",
   "execution_count": 3,
   "id": "512c5bee-a09b-425f-85c1-13aa029bb812",
   "metadata": {},
   "outputs": [
    {
     "name": "stdout",
     "output_type": "stream",
     "text": [
      "5*2=\n",
      "10\n",
      "Calculation result of '5*2=' is '10'\n"
     ]
    }
   ],
   "source": [
    "if __name__ == \"__main__\":\n",
    "    open_calculator()\n",
    "    exp = '5*2='\n",
    "    print(exp)\n",
    "    \n",
    "    result = make_calculations(exp)\n",
    "    print(result)\n",
    "    print(f\"Calculation result of '{exp}' is '{result}'\")\n",
    "    win.close_all_applications()"
   ]
  },
  {
   "cell_type": "code",
   "execution_count": null,
   "id": "d6cfbbf7-16b7-4019-96d4-a23687f11914",
   "metadata": {},
   "outputs": [],
   "source": []
  }
 ],
 "metadata": {
  "kernelspec": {
   "display_name": "Python 3 (ipykernel)",
   "language": "python",
   "name": "python3"
  },
  "language_info": {
   "codemirror_mode": {
    "name": "ipython",
    "version": 3
   },
   "file_extension": ".py",
   "mimetype": "text/x-python",
   "name": "python",
   "nbconvert_exporter": "python",
   "pygments_lexer": "ipython3",
   "version": "3.9.12"
  }
 },
 "nbformat": 4,
 "nbformat_minor": 5
}
