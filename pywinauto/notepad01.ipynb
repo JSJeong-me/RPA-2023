{
 "cells": [
  {
   "cell_type": "code",
   "execution_count": 1,
   "id": "41753175-3517-48e5-9857-303c40b6ad14",
   "metadata": {},
   "outputs": [],
   "source": [
    "from pywinauto.application import Application\n",
    "import pyautogui\n",
    "from time import sleep"
   ]
  },
  {
   "cell_type": "code",
   "execution_count": 4,
   "id": "163cac83-1a55-49ec-b518-6d93b3f381ce",
   "metadata": {},
   "outputs": [],
   "source": [
    "app = Application().start(\"notepad.exe\")"
   ]
  },
  {
   "cell_type": "code",
   "execution_count": null,
   "id": "3e191669-a533-4efa-a8ae-64122e3fef5b",
   "metadata": {},
   "outputs": [],
   "source": [
    "sleep(3)"
   ]
  },
  {
   "cell_type": "code",
   "execution_count": 5,
   "id": "ebb4ec9d-24f6-498b-849e-1cdc4d4960c0",
   "metadata": {},
   "outputs": [],
   "source": [
    "app.UntitledNotepad.menu_select(\"파일(&F)->끝내기(&X)\")"
   ]
  },
  {
   "cell_type": "code",
   "execution_count": null,
   "id": "a38af450-74b9-490b-91b8-355ea4e4a051",
   "metadata": {},
   "outputs": [],
   "source": [
    "# app.AboutNotepad.click()"
   ]
  },
  {
   "cell_type": "code",
   "execution_count": null,
   "id": "affa5172-ff3f-45d4-9ff5-f3912ce896b7",
   "metadata": {},
   "outputs": [],
   "source": [
    "pyautogui.press('enter')"
   ]
  },
  {
   "cell_type": "code",
   "execution_count": null,
   "id": "65ec1e5b-8fff-46ab-9e34-2730e89a4618",
   "metadata": {},
   "outputs": [],
   "source": [
    "app.AboutNotepad.OK.click()\n",
    "app.UntitledNotepad.Edit.type_keys(\"pywinauto Works!\", with_spaces = True)"
   ]
  },
  {
   "cell_type": "code",
   "execution_count": null,
   "id": "d64929cf-8a68-4ebe-9bda-3b43aa75e77a",
   "metadata": {},
   "outputs": [],
   "source": []
  }
 ],
 "metadata": {
  "kernelspec": {
   "display_name": "Python 3 (ipykernel)",
   "language": "python",
   "name": "python3"
  },
  "language_info": {
   "codemirror_mode": {
    "name": "ipython",
    "version": 3
   },
   "file_extension": ".py",
   "mimetype": "text/x-python",
   "name": "python",
   "nbconvert_exporter": "python",
   "pygments_lexer": "ipython3",
   "version": "3.9.12"
  }
 },
 "nbformat": 4,
 "nbformat_minor": 5
}
