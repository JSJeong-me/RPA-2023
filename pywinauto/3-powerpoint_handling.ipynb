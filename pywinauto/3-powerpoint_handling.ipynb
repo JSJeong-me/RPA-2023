{
  "nbformat": 4,
  "nbformat_minor": 0,
  "metadata": {
    "colab": {
      "name": "powerpoint_handling.ipynb",
      "provenance": [],
      "include_colab_link": true
    },
    "kernelspec": {
      "display_name": "Python 3",
      "language": "python",
      "name": "python3"
    },
    "language_info": {
      "codemirror_mode": {
        "name": "ipython",
        "version": 3
      },
      "file_extension": ".py",
      "mimetype": "text/x-python",
      "name": "python",
      "nbconvert_exporter": "python",
      "pygments_lexer": "ipython3",
      "version": "3.7.9"
    }
  },
  "cells": [
    {
      "cell_type": "markdown",
      "metadata": {
        "id": "view-in-github",
        "colab_type": "text"
      },
      "source": [
        "<a href=\"https://colab.research.google.com/github/JSJeong-me/Python_RPA/blob/main/pywinauto/3-powerpoint_handling.ipynb\" target=\"_parent\"><img src=\"https://colab.research.google.com/assets/colab-badge.svg\" alt=\"Open In Colab\"/></a>"
      ]
    },
    {
      "cell_type": "markdown",
      "metadata": {
        "id": "wGl4fu-HTJEc"
      },
      "source": [
        "# 4장. 보고서 자동화 프로젝트"
      ]
    },
    {
      "cell_type": "markdown",
      "metadata": {
        "id": "dN05IN7sTJEf"
      },
      "source": [
        "## 4.2 사전 준비하기\n",
        "- 참고문서 : https://python-pptx.readthedocs.io/en/latest/user/quickstart.html"
      ]
    },
    {
      "cell_type": "markdown",
      "metadata": {
        "id": "NbqaPHWvTJEg"
      },
      "source": [
        "- !pip install python-pptx"
      ]
    },
    {
      "cell_type": "code",
      "source": [
        "!pip install python-pptx"
      ],
      "metadata": {
        "id": "CgfnGLA7t3Gp",
        "outputId": "91abc7c8-aea3-4b60-d4ec-b0509cd041d0",
        "colab": {
          "base_uri": "https://localhost:8080/"
        }
      },
      "execution_count": 1,
      "outputs": [
        {
          "output_type": "stream",
          "name": "stdout",
          "text": [
            "Looking in indexes: https://pypi.org/simple, https://us-python.pkg.dev/colab-wheels/public/simple/\n",
            "Collecting python-pptx\n",
            "  Downloading python-pptx-0.6.21.tar.gz (10.1 MB)\n",
            "\u001b[K     |████████████████████████████████| 10.1 MB 4.8 MB/s \n",
            "\u001b[?25hRequirement already satisfied: lxml>=3.1.0 in /usr/local/lib/python3.7/dist-packages (from python-pptx) (4.2.6)\n",
            "Requirement already satisfied: Pillow>=3.3.2 in /usr/local/lib/python3.7/dist-packages (from python-pptx) (7.1.2)\n",
            "Collecting XlsxWriter>=0.5.7\n",
            "  Downloading XlsxWriter-3.0.3-py3-none-any.whl (149 kB)\n",
            "\u001b[K     |████████████████████████████████| 149 kB 60.2 MB/s \n",
            "\u001b[?25hBuilding wheels for collected packages: python-pptx\n",
            "  Building wheel for python-pptx (setup.py) ... \u001b[?25l\u001b[?25hdone\n",
            "  Created wheel for python-pptx: filename=python_pptx-0.6.21-py3-none-any.whl size=470951 sha256=767e0cccace5c16510460decfa5e16038bd9f435429084be7040b6fea65ef570\n",
            "  Stored in directory: /root/.cache/pip/wheels/a7/ab/f4/52560d0d4bd4055e9261c6df6e51c7b56c2b23cca3dee811a3\n",
            "Successfully built python-pptx\n",
            "Installing collected packages: XlsxWriter, python-pptx\n",
            "Successfully installed XlsxWriter-3.0.3 python-pptx-0.6.21\n"
          ]
        }
      ]
    },
    {
      "cell_type": "markdown",
      "metadata": {
        "id": "mo0_9n8t0FM3"
      },
      "source": [
        "## 4.3 사전지식 쌓기"
      ]
    },
    {
      "cell_type": "markdown",
      "metadata": {
        "id": "_q7FOgA30FM5"
      },
      "source": [
        "### 4.3.1 모든 레이아웃 적용해 보기 "
      ]
    },
    {
      "cell_type": "code",
      "metadata": {
        "id": "4-Xe1I4t0FM6"
      },
      "source": [
        "from pptx import Presentation # 라이브러리\n",
        "from pptx.util import Inches # 사진, 표등을 그리기 위해\n",
        "\n",
        "prs = Presentation() # 파워포인트 객체 선언\n",
        "\n",
        "for i in range(0, 11):\n",
        "    title_slide_layout = prs.slide_layouts[i] # 슬라이드 종류 선택\n",
        "    slide = prs.slides.add_slide(title_slide_layout) # 슬라이드 추가\n",
        "\n",
        "prs.save('add all slides.pptx')"
      ],
      "execution_count": 2,
      "outputs": []
    },
    {
      "cell_type": "markdown",
      "metadata": {
        "id": "9ne41iFn0FM8"
      },
      "source": [
        "### 4.3.2 레이아웃별 placeholder 속성 확인하기"
      ]
    },
    {
      "cell_type": "code",
      "metadata": {
        "id": "Rv-H0GCc0FM9",
        "outputId": "6434bff4-c9e7-4b8f-9eba-dfb1e165c4db",
        "colab": {
          "base_uri": "https://localhost:8080/"
        }
      },
      "source": [
        "from pptx import Presentation # 라이브러리\n",
        "from pptx.util import Inches # 사진, 표 등을 그리기 위해\n",
        "\n",
        "prs = Presentation()\n",
        "for i in range(0, 11):\n",
        "    print(\"--------[%d] ------ \"%(i))\n",
        "    slide = prs.slides.add_slide(prs.slide_layouts[i])\n",
        "    for shape in slide.placeholders:\n",
        "        print('%d %s' % (shape.placeholder_format.idx, shape.name))"
      ],
      "execution_count": 3,
      "outputs": [
        {
          "output_type": "stream",
          "name": "stdout",
          "text": [
            "--------[0] ------ \n",
            "0 Title 1\n",
            "1 Subtitle 2\n",
            "--------[1] ------ \n",
            "0 Title 1\n",
            "1 Content Placeholder 2\n",
            "--------[2] ------ \n",
            "0 Title 1\n",
            "1 Text Placeholder 2\n",
            "--------[3] ------ \n",
            "0 Title 1\n",
            "1 Content Placeholder 2\n",
            "2 Content Placeholder 3\n",
            "--------[4] ------ \n",
            "0 Title 1\n",
            "1 Text Placeholder 2\n",
            "2 Content Placeholder 3\n",
            "3 Text Placeholder 4\n",
            "4 Content Placeholder 5\n",
            "--------[5] ------ \n",
            "0 Title 1\n",
            "--------[6] ------ \n",
            "--------[7] ------ \n",
            "0 Title 1\n",
            "1 Content Placeholder 2\n",
            "2 Text Placeholder 3\n",
            "--------[8] ------ \n",
            "0 Title 1\n",
            "1 Picture Placeholder 2\n",
            "2 Text Placeholder 3\n",
            "--------[9] ------ \n",
            "0 Title 1\n",
            "1 Vertical Text Placeholder 2\n",
            "--------[10] ------ \n",
            "0 Vertical Title 1\n",
            "1 Vertical Text Placeholder 2\n"
          ]
        }
      ]
    },
    {
      "cell_type": "markdown",
      "metadata": {
        "id": "W6EPl6Dn0FM_"
      },
      "source": [
        "## 4.4. 구현하기"
      ]
    },
    {
      "cell_type": "markdown",
      "metadata": {
        "id": "9om0Ayrh0FM_",
        "scrolled": true
      },
      "source": [
        "## Step1)  객체 선언"
      ]
    },
    {
      "cell_type": "code",
      "metadata": {
        "id": "wXVZfkS_0FNA"
      },
      "source": [
        "from pptx import Presentation # 라이브러리\n",
        "from pptx.util import Inches # 사진, 표 등을 그리기 위해\n",
        "\n",
        "prs = Presentation() # 파워포인트 객체 선언"
      ],
      "execution_count": 4,
      "outputs": []
    },
    {
      "cell_type": "markdown",
      "metadata": {
        "id": "Ob9Al40g0FNC"
      },
      "source": [
        "## Step2) 제목 슬라이드"
      ]
    },
    {
      "cell_type": "code",
      "metadata": {
        "id": "8qwxSdUT0FNC"
      },
      "source": [
        "title_slide_layout = prs.slide_layouts[0] # 0 : 제목 슬라이드에 해당\n",
        "slide = prs.slides.add_slide(title_slide_layout) # 슬라이드 추가\n",
        "\n",
        "# 제목 - 제목에 값넣기\n",
        "title = slide.placeholders[0] # 제목\n",
        "title.text = \"Hello, World!\" # 제목에 값 넣기\n",
        "\n",
        "# 부제목\n",
        "subtitle = slide.placeholders[1] # 제목 상자는 placeholders[0], 부제목 상자는 [1]\n",
        "subtitle.text = \"python-pptx was here!\" \n",
        "\n",
        "# 저장\n",
        "prs.save('test.pptx')"
      ],
      "execution_count": 5,
      "outputs": []
    },
    {
      "cell_type": "markdown",
      "metadata": {
        "id": "t8f8DuuW0FNG"
      },
      "source": [
        "## Step3) 제목과 내용 슬라이드"
      ]
    },
    {
      "cell_type": "code",
      "metadata": {
        "id": "5uo4i2TR0FNG"
      },
      "source": [
        "bullet_slide_layout = prs.slide_layouts[1] # 1 : 제목과 내용 슬라이드\n",
        "slide = prs.slides.add_slide(bullet_slide_layout) # 기존에 있던 슬라이드에 추가\n",
        "\n",
        "# 제목\n",
        "title_shape = slide.placeholders[0]\n",
        "title_shape.text = 'Adding a Bullet Slide'\n",
        "\n",
        "# 내용\n",
        "body_shape = slide.placeholders[1]\n",
        "tf = body_shape.text_frame\n",
        "tf.text = 'Find the bullet slide layout'\n",
        "\n",
        "# 단락 추가\n",
        "p = tf.add_paragraph()\n",
        "p.text = 'Use _TextFrame.text for first bullet'\n",
        "p.level = 1 # 1 : 들여쓰기 레벨\n",
        "\n",
        "# 단락 추가\n",
        "p = tf.add_paragraph()\n",
        "p.text = 'Use _TextFrame.add_paragraph() for subsequent bullets'\n",
        "p.level = 2 # 2 : 들여쓰기 레벨\n",
        "\n",
        "prs.save('test.pptx')"
      ],
      "execution_count": 6,
      "outputs": []
    },
    {
      "cell_type": "markdown",
      "metadata": {
        "id": "MwiASCnC0FNI"
      },
      "source": [
        "## Step4) 사진 슬라이드"
      ]
    },
    {
      "cell_type": "code",
      "metadata": {
        "id": "wTNZNgyP0FNI"
      },
      "source": [
        "img_path = 'res/powerpoint_handling/slide_test.jpg'\n",
        "\n",
        "blank_slide_layout = prs.slide_layouts[6] # 6 : 제목/내용이 없는 '빈' 슬라이드\n",
        "slide = prs.slides.add_slide(blank_slide_layout)\n",
        "\n",
        "left = top = Inches(1)\n",
        "width = height = Inches(1)\n",
        "# width, hegith가 없을 경우 원본 사이즈로\n",
        "pic = slide.shapes.add_picture(img_path, left, top, width=width,height=height)\n",
        "\n",
        "left = Inches(3)\n",
        "width = Inches(5.5)\n",
        "height = Inches(4)\n",
        "pic = slide.shapes.add_picture(img_path, left, top, width=width,height=height)\n",
        "\n",
        "prs.save('test.pptx')"
      ],
      "execution_count": null,
      "outputs": []
    },
    {
      "cell_type": "markdown",
      "metadata": {
        "id": "0rcHIcLZ0FNL"
      },
      "source": [
        "## Step5) 표 슬라이드"
      ]
    },
    {
      "cell_type": "code",
      "metadata": {
        "id": "t5WV1Jva0FNL"
      },
      "source": [
        "title_only_slide_layout = prs.slide_layouts[5]\n",
        "slide = prs.slides.add_slide(title_only_slide_layout)\n",
        "shapes = slide.shapes\n",
        "\n",
        "title_shape = slide.placeholders[0] \n",
        "title_shape.text = 'Adding a Table'\n",
        "\n",
        "rows = cols = 2\n",
        "left = top = Inches(2.0)\n",
        "width = Inches(6.0)\n",
        "height = Inches(0.8)\n",
        "\n",
        "table = shapes.add_table(rows, cols, left, top, width, height).table\n",
        "\n",
        "# set column widths\n",
        "table.columns[0].width = Inches(2.0)\n",
        "table.columns[1].width = Inches(4.0)\n",
        "\n",
        "# write column headings\n",
        "table.cell(0, 0).text = 'Foo'\n",
        "table.cell(0, 1).text = 'Bar'\n",
        "\n",
        "# write body cells\n",
        "table.cell(1, 0).text = 'Baz'\n",
        "table.cell(1, 1).text = 'Qux'\n",
        "\n",
        "prs.save('test.pptx')"
      ],
      "execution_count": 8,
      "outputs": []
    }
  ]
}