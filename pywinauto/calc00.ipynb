{
 "cells": [
  {
   "cell_type": "markdown",
   "id": "63b1c7c9-858f-4d00-99ae-ba7ffc2d5e87",
   "metadata": {},
   "source": [
    "계산기(calc.exe) 프로그램을 실행\n",
    "프로그램의 MenuItem을 기준으로 메뉴를 선택하여 변경하기 - [보기 > 공학용]\n",
    "계산기의 버튼을 눌러서 더하기를 수행하기 - [7 + 8 = 15]\n",
    "결과가 저장되는 Text child_window에서 결과값 즉 value를 가져오기 - get result value from text control_type\n",
    "가져온 결과값을 출력하고 창을 최소화하기"
   ]
  },
  {
   "cell_type": "code",
   "execution_count": null,
   "id": "2bc4b726-9e7b-40e7-a122-3aaf010527eb",
   "metadata": {},
   "outputs": [],
   "source": [
    "# from pywinauto import application\n",
    "import pywinauto\n",
    "\n",
    "# calc.exe 실행하기\n",
    "# app = application.Application(backend='uia').start('calc.exe')\n",
    "# dlg_spec = app.window(title='계산기')"
   ]
  },
  {
   "cell_type": "code",
   "execution_count": null,
   "id": "ba736095-2746-429e-a69e-da8dc36b3ba9",
   "metadata": {},
   "outputs": [],
   "source": [
    "app = pywinauto.Application(backend='uia').start('calc.exe') #.connect(title='계산기')"
   ]
  },
  {
   "cell_type": "code",
   "execution_count": null,
   "id": "172e90f1-4e04-4b6e-ae94-f97de9ea43af",
   "metadata": {},
   "outputs": [],
   "source": [
    "dlg_spec = app.window(title='계산기')\n",
    "dlg_spec.print_control_identifiers()"
   ]
  },
  {
   "cell_type": "code",
   "execution_count": null,
   "id": "f7f39cf8-bc69-41ef-ac90-cc46f1d1d1b8",
   "metadata": {},
   "outputs": [],
   "source": [
    "# control_type이 MenuItem일 경우 이동하는 방법\n",
    "# dlg_spec.menu_select(\"보기(V) -> 공학용(S)\")"
   ]
  },
  {
   "cell_type": "code",
   "execution_count": null,
   "id": "3a29a155-90ff-4322-a0f3-3549a29d20a2",
   "metadata": {},
   "outputs": [],
   "source": [
    "# control_type이 Button일 경우 동작시키는 방법\n",
    "dlg_spec.child_window(title=\"7\", auto_id=\"137\", control_type=\"Button\").click()"
   ]
  },
  {
   "cell_type": "code",
   "execution_count": null,
   "id": "57d1fc44-dd27-4b5a-88d2-c9ccbac09ac1",
   "metadata": {},
   "outputs": [],
   "source": [
    "dlg_spec.child_window(title=\"더하기\", auto_id=\"93\", control_type=\"Button\").click()\n",
    "dlg_spec.child_window(title=\"8\", auto_id=\"138\", control_type=\"Button\").click()\n",
    "dlg_spec.child_window(title=\"같음\", auto_id=\"121\", control_type=\"Button\").click()"
   ]
  },
  {
   "cell_type": "code",
   "execution_count": null,
   "id": "6e249016-627a-4705-84db-1f009696eb8a",
   "metadata": {},
   "outputs": [],
   "source": [
    "# control_type이 Text일 경우 결과값을 가져오는 방법\n",
    "print(dlg_spec.child_window(title=\"결과\", auto_id=\"150\", control_type=\"Text\").legacy_properties())\n",
    "a = dlg_spec.child_window(title=\"결과\", auto_id=\"150\", control_type=\"Text\").legacy_properties()['Value']\n",
    "print(a)\n",
    "\n",
    "# window 최소화 하기\n",
    "dlg_spec.minimize()"
   ]
  }
 ],
 "metadata": {
  "kernelspec": {
   "display_name": "Python 3 (ipykernel)",
   "language": "python",
   "name": "python3"
  },
  "language_info": {
   "codemirror_mode": {
    "name": "ipython",
    "version": 3
   },
   "file_extension": ".py",
   "mimetype": "text/x-python",
   "name": "python",
   "nbconvert_exporter": "python",
   "pygments_lexer": "ipython3",
   "version": "3.9.12"
  }
 },
 "nbformat": 4,
 "nbformat_minor": 5
}
