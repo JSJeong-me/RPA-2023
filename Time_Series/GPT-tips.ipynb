{
  "nbformat": 4,
  "nbformat_minor": 0,
  "metadata": {
    "colab": {
      "provenance": [],
      "authorship_tag": "ABX9TyPRwvqee/D/5BUZM/kwbXkL",
      "include_colab_link": true
    },
    "kernelspec": {
      "name": "python3",
      "display_name": "Python 3"
    },
    "language_info": {
      "name": "python"
    }
  },
  "cells": [
    {
      "cell_type": "markdown",
      "metadata": {
        "id": "view-in-github",
        "colab_type": "text"
      },
      "source": [
        "<a href=\"https://colab.research.google.com/github/JSJeong-me/RPA-2023/blob/main/Time_Series/GPT-tips.ipynb\" target=\"_parent\"><img src=\"https://colab.research.google.com/assets/colab-badge.svg\" alt=\"Open In Colab\"/></a>"
      ]
    },
    {
      "cell_type": "code",
      "execution_count": 1,
      "metadata": {
        "colab": {
          "base_uri": "https://localhost:8080/"
        },
        "id": "z6lubedVPOQE",
        "outputId": "c4bfefd3-4851-48c7-994a-cf2edc3726fc"
      },
      "outputs": [
        {
          "output_type": "stream",
          "name": "stdout",
          "text": [
            "흡연자의 평균 팁: $3.01\n",
            "비흡연자의 평균 팁: $2.99\n",
            "흡연자는 비흡연자보다 팁을 더 많이 줍니다.\n"
          ]
        }
      ],
      "source": [
        "import seaborn as sns\n",
        "\n",
        "# 데이터셋 로드\n",
        "tips = sns.load_dataset('tips')\n",
        "\n",
        "# 흡연자와 비흡연자의 평균 팁 계산\n",
        "avg_tip_smoker = tips[tips['smoker'] == 'Yes']['tip'].mean()\n",
        "avg_tip_non_smoker = tips[tips['smoker'] == 'No']['tip'].mean()\n",
        "\n",
        "print(f\"흡연자의 평균 팁: ${avg_tip_smoker:.2f}\")\n",
        "print(f\"비흡연자의 평균 팁: ${avg_tip_non_smoker:.2f}\")\n",
        "\n",
        "if avg_tip_smoker > avg_tip_non_smoker:\n",
        "    print(\"흡연자는 비흡연자보다 팁을 더 많이 줍니다.\")\n",
        "elif avg_tip_smoker < avg_tip_non_smoker:\n",
        "    print(\"흡연자는 비흡연자보다 팁을 더 적게 줍니다.\")\n",
        "else:\n",
        "    print(\"흡연자와 비흡연자의 팁 차이는 없습니다.\")\n"
      ]
    }
  ]
}