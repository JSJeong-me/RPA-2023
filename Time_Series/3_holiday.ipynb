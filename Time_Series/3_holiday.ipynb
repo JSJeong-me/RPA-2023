{
  "nbformat": 4,
  "nbformat_minor": 0,
  "metadata": {
    "celltoolbar": "Edit Metadata",
    "kernelspec": {
      "display_name": "Python 3",
      "language": "python",
      "name": "python3"
    },
    "language_info": {
      "codemirror_mode": {
        "name": "ipython",
        "version": 3
      },
      "file_extension": ".py",
      "mimetype": "text/x-python",
      "name": "python",
      "nbconvert_exporter": "python",
      "pygments_lexer": "ipython3",
      "version": "3.7.6"
    },
    "colab": {
      "name": "3_holiday.ipynb",
      "provenance": [],
      "include_colab_link": true
    }
  },
  "cells": [
    {
      "cell_type": "markdown",
      "metadata": {
        "id": "view-in-github",
        "colab_type": "text"
      },
      "source": [
        "<a href=\"https://colab.research.google.com/github/JSJeong-me/Python_RPA/blob/main/Time_Series/3_holiday.ipynb\" target=\"_parent\"><img src=\"https://colab.research.google.com/assets/colab-badge.svg\" alt=\"Open In Colab\"/></a>"
      ]
    },
    {
      "cell_type": "code",
      "source": [
        "!pip install pystan~=2.14"
      ],
      "metadata": {
        "id": "9RuQZGYD1t8w",
        "outputId": "8052b660-7a20-421f-a880-c61d0eba0a79",
        "colab": {
          "base_uri": "https://localhost:8080/"
        }
      },
      "execution_count": 1,
      "outputs": [
        {
          "output_type": "stream",
          "name": "stdout",
          "text": [
            "Looking in indexes: https://pypi.org/simple, https://us-python.pkg.dev/colab-wheels/public/simple/\n",
            "Collecting pystan~=2.14\n",
            "  Downloading pystan-2.19.1.1-cp37-cp37m-manylinux1_x86_64.whl (67.3 MB)\n",
            "\u001b[K     |████████████████████████████████| 67.3 MB 132 kB/s \n",
            "\u001b[?25hRequirement already satisfied: numpy>=1.7 in /usr/local/lib/python3.7/dist-packages (from pystan~=2.14) (1.21.6)\n",
            "Requirement already satisfied: Cython!=0.25.1,>=0.22 in /usr/local/lib/python3.7/dist-packages (from pystan~=2.14) (0.29.32)\n",
            "Installing collected packages: pystan\n",
            "  Attempting uninstall: pystan\n",
            "    Found existing installation: pystan 3.3.0\n",
            "    Uninstalling pystan-3.3.0:\n",
            "      Successfully uninstalled pystan-3.3.0\n",
            "Successfully installed pystan-2.19.1.1\n"
          ]
        }
      ]
    },
    {
      "cell_type": "code",
      "source": [
        "!pip install fbprophet"
      ],
      "metadata": {
        "id": "5JmrZI2I1u6O",
        "outputId": "e5853528-2c98-4e5b-b843-5844da788ed6",
        "colab": {
          "base_uri": "https://localhost:8080/"
        }
      },
      "execution_count": 2,
      "outputs": [
        {
          "output_type": "stream",
          "name": "stdout",
          "text": [
            "Looking in indexes: https://pypi.org/simple, https://us-python.pkg.dev/colab-wheels/public/simple/\n",
            "Collecting fbprophet\n",
            "  Downloading fbprophet-0.7.1.tar.gz (64 kB)\n",
            "\u001b[K     |████████████████████████████████| 64 kB 1.8 MB/s \n",
            "\u001b[?25hRequirement already satisfied: Cython>=0.22 in /usr/local/lib/python3.7/dist-packages (from fbprophet) (0.29.32)\n",
            "Collecting cmdstanpy==0.9.5\n",
            "  Downloading cmdstanpy-0.9.5-py3-none-any.whl (37 kB)\n",
            "Requirement already satisfied: pystan>=2.14 in /usr/local/lib/python3.7/dist-packages (from fbprophet) (2.19.1.1)\n",
            "Requirement already satisfied: numpy>=1.15.4 in /usr/local/lib/python3.7/dist-packages (from fbprophet) (1.21.6)\n",
            "Requirement already satisfied: pandas>=1.0.4 in /usr/local/lib/python3.7/dist-packages (from fbprophet) (1.3.5)\n",
            "Requirement already satisfied: matplotlib>=2.0.0 in /usr/local/lib/python3.7/dist-packages (from fbprophet) (3.2.2)\n",
            "Requirement already satisfied: LunarCalendar>=0.0.9 in /usr/local/lib/python3.7/dist-packages (from fbprophet) (0.0.9)\n",
            "Requirement already satisfied: convertdate>=2.1.2 in /usr/local/lib/python3.7/dist-packages (from fbprophet) (2.4.0)\n",
            "Requirement already satisfied: holidays>=0.10.2 in /usr/local/lib/python3.7/dist-packages (from fbprophet) (0.16)\n",
            "Requirement already satisfied: setuptools-git>=1.2 in /usr/local/lib/python3.7/dist-packages (from fbprophet) (1.2)\n",
            "Requirement already satisfied: python-dateutil>=2.8.0 in /usr/local/lib/python3.7/dist-packages (from fbprophet) (2.8.2)\n",
            "Requirement already satisfied: tqdm>=4.36.1 in /usr/local/lib/python3.7/dist-packages (from fbprophet) (4.64.1)\n",
            "Requirement already satisfied: pymeeus<=1,>=0.3.13 in /usr/local/lib/python3.7/dist-packages (from convertdate>=2.1.2->fbprophet) (0.5.11)\n",
            "Requirement already satisfied: hijri-converter in /usr/local/lib/python3.7/dist-packages (from holidays>=0.10.2->fbprophet) (2.2.4)\n",
            "Requirement already satisfied: korean-lunar-calendar in /usr/local/lib/python3.7/dist-packages (from holidays>=0.10.2->fbprophet) (0.3.1)\n",
            "Requirement already satisfied: ephem>=3.7.5.3 in /usr/local/lib/python3.7/dist-packages (from LunarCalendar>=0.0.9->fbprophet) (4.1.3)\n",
            "Requirement already satisfied: pytz in /usr/local/lib/python3.7/dist-packages (from LunarCalendar>=0.0.9->fbprophet) (2022.6)\n",
            "Requirement already satisfied: cycler>=0.10 in /usr/local/lib/python3.7/dist-packages (from matplotlib>=2.0.0->fbprophet) (0.11.0)\n",
            "Requirement already satisfied: pyparsing!=2.0.4,!=2.1.2,!=2.1.6,>=2.0.1 in /usr/local/lib/python3.7/dist-packages (from matplotlib>=2.0.0->fbprophet) (3.0.9)\n",
            "Requirement already satisfied: kiwisolver>=1.0.1 in /usr/local/lib/python3.7/dist-packages (from matplotlib>=2.0.0->fbprophet) (1.4.4)\n",
            "Requirement already satisfied: typing-extensions in /usr/local/lib/python3.7/dist-packages (from kiwisolver>=1.0.1->matplotlib>=2.0.0->fbprophet) (4.1.1)\n",
            "Requirement already satisfied: six>=1.5 in /usr/local/lib/python3.7/dist-packages (from python-dateutil>=2.8.0->fbprophet) (1.15.0)\n",
            "Building wheels for collected packages: fbprophet\n",
            "  Building wheel for fbprophet (setup.py) ... \u001b[?25l\u001b[?25hdone\n",
            "  Created wheel for fbprophet: filename=fbprophet-0.7.1-py3-none-any.whl size=6638343 sha256=fd1add042ff3c25165e5e6a3ad984f5b78f688aeba6aad077c27fbcf9caa8ced\n",
            "  Stored in directory: /root/.cache/pip/wheels/cd/a1/12/db63ff624de492fe6cccf676091a0860fdde2ffde4bc3280e2\n",
            "Successfully built fbprophet\n",
            "Installing collected packages: cmdstanpy, fbprophet\n",
            "  Attempting uninstall: cmdstanpy\n",
            "    Found existing installation: cmdstanpy 1.0.8\n",
            "    Uninstalling cmdstanpy-1.0.8:\n",
            "      Successfully uninstalled cmdstanpy-1.0.8\n",
            "\u001b[31mERROR: pip's dependency resolver does not currently take into account all the packages that are installed. This behaviour is the source of the following dependency conflicts.\n",
            "prophet 1.1.1 requires cmdstanpy>=1.0.4, but you have cmdstanpy 0.9.5 which is incompatible.\u001b[0m\n",
            "Successfully installed cmdstanpy-0.9.5 fbprophet-0.7.1\n"
          ]
        }
      ]
    },
    {
      "cell_type": "code",
      "metadata": {
        "block_hidden": true,
        "id": "JMSRUaAaGoc_"
      },
      "source": [
        "%load_ext rpy2.ipython\n",
        "%matplotlib inline\n",
        "from fbprophet import Prophet\n",
        "import pandas as pd\n",
        "from matplotlib import pyplot as plt\n",
        "import logging\n",
        "logging.getLogger('fbprophet').setLevel(logging.ERROR)\n",
        "import warnings\n",
        "warnings.filterwarnings(\"ignore\")"
      ],
      "execution_count": 3,
      "outputs": []
    },
    {
      "cell_type": "code",
      "metadata": {
        "block_hidden": true,
        "id": "Ah-ueKkpGodC"
      },
      "source": [
        "df = pd.read_excel('Total(marriot).xlsx', index_col='TS', parse_dates=True, dtype={'Value':float})\n",
        "df.drop(['Unnamed: 0','Unnamed: 0.1', 'Time', 'Max Value','Date'], axis=1, inplace=True)\n",
        "df.rename(columns={'TS':'ds','Value':'y'},inplace=True)"
      ],
      "execution_count": 4,
      "outputs": []
    },
    {
      "cell_type": "code",
      "metadata": {
        "block_hidden": true,
        "id": "06oQqf-OGodD"
      },
      "source": [
        "df_day=df.resample(rule='D').mean()\n",
        "df_day=df_day.reset_index()\n",
        "df_day.columns\n",
        "df_day.rename(columns={'TS':'ds','Value':'y'},inplace=True)"
      ],
      "execution_count": 5,
      "outputs": []
    },
    {
      "cell_type": "code",
      "metadata": {
        "block_hidden": true,
        "id": "u3hbo8X2GodD"
      },
      "source": [
        "m = Prophet(yearly_seasonality=True,\n",
        "    weekly_seasonality=True,\n",
        "    daily_seasonality=True, uncertainty_samples=1000)\n",
        "m.fit(df_day)\n",
        "future = m.make_future_dataframe(periods=7) #366"
      ],
      "execution_count": 6,
      "outputs": []
    },
    {
      "cell_type": "code",
      "metadata": {
        "id": "50ITYhwoHFRl",
        "outputId": "02f6592e-1064-41bf-a89f-c230e91c0e8d",
        "colab": {
          "base_uri": "https://localhost:8080/",
          "height": 143
        }
      },
      "source": [
        "df_day.tail(3)"
      ],
      "execution_count": 7,
      "outputs": [
        {
          "output_type": "execute_result",
          "data": {
            "text/plain": [
              "            ds         y\n",
              "555 2020-09-06  178.8675\n",
              "556 2020-09-07  154.8425\n",
              "557 2020-09-08  171.2475"
            ],
            "text/html": [
              "\n",
              "  <div id=\"df-5db055f0-ed6a-49a3-ad37-dfc31bf2f619\">\n",
              "    <div class=\"colab-df-container\">\n",
              "      <div>\n",
              "<style scoped>\n",
              "    .dataframe tbody tr th:only-of-type {\n",
              "        vertical-align: middle;\n",
              "    }\n",
              "\n",
              "    .dataframe tbody tr th {\n",
              "        vertical-align: top;\n",
              "    }\n",
              "\n",
              "    .dataframe thead th {\n",
              "        text-align: right;\n",
              "    }\n",
              "</style>\n",
              "<table border=\"1\" class=\"dataframe\">\n",
              "  <thead>\n",
              "    <tr style=\"text-align: right;\">\n",
              "      <th></th>\n",
              "      <th>ds</th>\n",
              "      <th>y</th>\n",
              "    </tr>\n",
              "  </thead>\n",
              "  <tbody>\n",
              "    <tr>\n",
              "      <th>555</th>\n",
              "      <td>2020-09-06</td>\n",
              "      <td>178.8675</td>\n",
              "    </tr>\n",
              "    <tr>\n",
              "      <th>556</th>\n",
              "      <td>2020-09-07</td>\n",
              "      <td>154.8425</td>\n",
              "    </tr>\n",
              "    <tr>\n",
              "      <th>557</th>\n",
              "      <td>2020-09-08</td>\n",
              "      <td>171.2475</td>\n",
              "    </tr>\n",
              "  </tbody>\n",
              "</table>\n",
              "</div>\n",
              "      <button class=\"colab-df-convert\" onclick=\"convertToInteractive('df-5db055f0-ed6a-49a3-ad37-dfc31bf2f619')\"\n",
              "              title=\"Convert this dataframe to an interactive table.\"\n",
              "              style=\"display:none;\">\n",
              "        \n",
              "  <svg xmlns=\"http://www.w3.org/2000/svg\" height=\"24px\"viewBox=\"0 0 24 24\"\n",
              "       width=\"24px\">\n",
              "    <path d=\"M0 0h24v24H0V0z\" fill=\"none\"/>\n",
              "    <path d=\"M18.56 5.44l.94 2.06.94-2.06 2.06-.94-2.06-.94-.94-2.06-.94 2.06-2.06.94zm-11 1L8.5 8.5l.94-2.06 2.06-.94-2.06-.94L8.5 2.5l-.94 2.06-2.06.94zm10 10l.94 2.06.94-2.06 2.06-.94-2.06-.94-.94-2.06-.94 2.06-2.06.94z\"/><path d=\"M17.41 7.96l-1.37-1.37c-.4-.4-.92-.59-1.43-.59-.52 0-1.04.2-1.43.59L10.3 9.45l-7.72 7.72c-.78.78-.78 2.05 0 2.83L4 21.41c.39.39.9.59 1.41.59.51 0 1.02-.2 1.41-.59l7.78-7.78 2.81-2.81c.8-.78.8-2.07 0-2.86zM5.41 20L4 18.59l7.72-7.72 1.47 1.35L5.41 20z\"/>\n",
              "  </svg>\n",
              "      </button>\n",
              "      \n",
              "  <style>\n",
              "    .colab-df-container {\n",
              "      display:flex;\n",
              "      flex-wrap:wrap;\n",
              "      gap: 12px;\n",
              "    }\n",
              "\n",
              "    .colab-df-convert {\n",
              "      background-color: #E8F0FE;\n",
              "      border: none;\n",
              "      border-radius: 50%;\n",
              "      cursor: pointer;\n",
              "      display: none;\n",
              "      fill: #1967D2;\n",
              "      height: 32px;\n",
              "      padding: 0 0 0 0;\n",
              "      width: 32px;\n",
              "    }\n",
              "\n",
              "    .colab-df-convert:hover {\n",
              "      background-color: #E2EBFA;\n",
              "      box-shadow: 0px 1px 2px rgba(60, 64, 67, 0.3), 0px 1px 3px 1px rgba(60, 64, 67, 0.15);\n",
              "      fill: #174EA6;\n",
              "    }\n",
              "\n",
              "    [theme=dark] .colab-df-convert {\n",
              "      background-color: #3B4455;\n",
              "      fill: #D2E3FC;\n",
              "    }\n",
              "\n",
              "    [theme=dark] .colab-df-convert:hover {\n",
              "      background-color: #434B5C;\n",
              "      box-shadow: 0px 1px 3px 1px rgba(0, 0, 0, 0.15);\n",
              "      filter: drop-shadow(0px 1px 2px rgba(0, 0, 0, 0.3));\n",
              "      fill: #FFFFFF;\n",
              "    }\n",
              "  </style>\n",
              "\n",
              "      <script>\n",
              "        const buttonEl =\n",
              "          document.querySelector('#df-5db055f0-ed6a-49a3-ad37-dfc31bf2f619 button.colab-df-convert');\n",
              "        buttonEl.style.display =\n",
              "          google.colab.kernel.accessAllowed ? 'block' : 'none';\n",
              "\n",
              "        async function convertToInteractive(key) {\n",
              "          const element = document.querySelector('#df-5db055f0-ed6a-49a3-ad37-dfc31bf2f619');\n",
              "          const dataTable =\n",
              "            await google.colab.kernel.invokeFunction('convertToInteractive',\n",
              "                                                     [key], {});\n",
              "          if (!dataTable) return;\n",
              "\n",
              "          const docLinkHtml = 'Like what you see? Visit the ' +\n",
              "            '<a target=\"_blank\" href=https://colab.research.google.com/notebooks/data_table.ipynb>data table notebook</a>'\n",
              "            + ' to learn more about interactive tables.';\n",
              "          element.innerHTML = '';\n",
              "          dataTable['output_type'] = 'display_data';\n",
              "          await google.colab.output.renderOutput(dataTable, element);\n",
              "          const docLink = document.createElement('div');\n",
              "          docLink.innerHTML = docLinkHtml;\n",
              "          element.appendChild(docLink);\n",
              "        }\n",
              "      </script>\n",
              "    </div>\n",
              "  </div>\n",
              "  "
            ]
          },
          "metadata": {},
          "execution_count": 7
        }
      ]
    },
    {
      "cell_type": "code",
      "metadata": {
        "block_hidden": true,
        "id": "mHDT4icqGodE"
      },
      "source": [
        "future"
      ],
      "execution_count": null,
      "outputs": []
    },
    {
      "cell_type": "markdown",
      "metadata": {
        "id": "PRrPLnJdGodE"
      },
      "source": [
        "### Modeling Holidays and Special Events\n",
        "If you have holidays or other recurring events that you'd like to model, you must create a dataframe for them. It has two columns (`holiday` and `ds`) and a row for each occurrence of the holiday. It must include all occurrences of the holiday, both in the past (back as far as the historical data go) and in the future (out as far as the forecast is being made). If they won't repeat in the future, Prophet will model them and then not include them in the forecast.\n",
        "\n",
        "You can also include columns `lower_window` and `upper_window` which extend the holiday out to `[lower_window, upper_window]` days around the date. For instance, if you wanted to include Christmas Eve in addition to Christmas you'd include `lower_window=-1,upper_window=0`. If you wanted to use Black Friday in addition to Thanksgiving, you'd include `lower_window=0,upper_window=1`. You can also include a column `prior_scale` to set the prior scale separately for each holiday, as described below.\n",
        "\n",
        "Here we create a dataframe that includes the dates of all of Peyton Manning's playoff appearances:"
      ]
    },
    {
      "cell_type": "code",
      "metadata": {
        "output_hidden": true,
        "id": "ksblKUxnGodF"
      },
      "source": [],
      "execution_count": null,
      "outputs": []
    },
    {
      "cell_type": "code",
      "metadata": {
        "id": "GdA4Y4uoGodF"
      },
      "source": [
        "playoffs = pd.DataFrame({\n",
        "  'holiday': 'playoff',\n",
        "  'ds': pd.to_datetime(['2019-02-15','2019-02-03','2019-02-04', '2019-02-05', '2020-01-24']),\n",
        "  'lower_window': 0,\n",
        "  'upper_window': 1,\n",
        "})\n",
        "superbowls = pd.DataFrame({\n",
        "  'holiday': 'superbowl',\n",
        "  'ds': pd.to_datetime(['2018-09-24', '2019-09-11', '2019-09-12', '2019-09-13', '2020-10-01']),\n",
        "  'lower_window': 0,\n",
        "  'upper_window': 1,\n",
        "})\n",
        "holidays = pd.concat((playoffs, superbowls))"
      ],
      "execution_count": 9,
      "outputs": []
    },
    {
      "cell_type": "markdown",
      "metadata": {
        "id": "WF9K06XDGodG"
      },
      "source": [
        "Above we have included the superbowl days as both playoff games and superbowl games. This means that the superbowl effect will be an additional additive bonus on top of the playoff effect.\n",
        "\n",
        "Once the table is created, holiday effects are included in the forecast by passing them in with the `holidays` argument. Here we do it with the Peyton Manning data from the [Quickstart](https://facebook.github.io/prophet/docs/quick_start.html):"
      ]
    },
    {
      "cell_type": "code",
      "metadata": {
        "output_hidden": true,
        "id": "Ik5xudhiGodG"
      },
      "source": [],
      "execution_count": null,
      "outputs": []
    },
    {
      "cell_type": "code",
      "metadata": {
        "id": "ZCLNIrJvGodH"
      },
      "source": [
        "m = Prophet(holidays=holidays)\n",
        "m.add_country_holidays(country_name='KR')\n",
        "forecast = m.fit(df_day).predict(future)"
      ],
      "execution_count": 10,
      "outputs": []
    },
    {
      "cell_type": "markdown",
      "metadata": {
        "id": "ALMfw4kZGodH"
      },
      "source": [
        "The holiday effect can be seen in the `forecast` dataframe:"
      ]
    },
    {
      "cell_type": "code",
      "metadata": {
        "output_hidden": true,
        "id": "J-RSpYKGGodH"
      },
      "source": [],
      "execution_count": null,
      "outputs": []
    },
    {
      "cell_type": "code",
      "metadata": {
        "id": "WBtM5rknGodH"
      },
      "source": [
        "forecast[(forecast['playoff'] + forecast['superbowl']).abs() > 0][\n",
        "        ['ds', 'playoff', 'superbowl']][-10:]"
      ],
      "execution_count": null,
      "outputs": []
    },
    {
      "cell_type": "markdown",
      "metadata": {
        "id": "dyIfwwZWGodI"
      },
      "source": [
        "The holiday effects will also show up in the components plot, where we see that there is a spike on the days around playoff appearances, with an especially large spike for the superbowl:"
      ]
    },
    {
      "cell_type": "code",
      "metadata": {
        "output_hidden": true,
        "id": "Y0NenVDQGodI",
        "outputId": "ec43b7c5-3e5b-4c13-eece-47be78eb1922",
        "colab": {
          "base_uri": "https://localhost:8080/",
          "height": 441
        }
      },
      "source": [
        "fig1=m.plot(forecast)"
      ],
      "execution_count": 11,
      "outputs": [
        {
          "output_type": "display_data",
          "data": {
            "text/plain": [
              "<Figure size 720x432 with 1 Axes>"
            ],
            "image/png": "[encoded data removed]"
          },
          "metadata": {}
        }
      ]
    },
    {
      "cell_type": "code",
      "metadata": {
        "id": "GUJtt73NGodI",
        "outputId": "1a996a2a-2d64-4049-d907-989c1a4466d9",
        "colab": {
          "base_uri": "https://localhost:8080/",
          "height": 657
        }
      },
      "source": [
        "fig = m.plot_components(forecast)"
      ],
      "execution_count": 12,
      "outputs": [
        {
          "output_type": "display_data",
          "data": {
            "text/plain": [
              "<Figure size 648x648 with 3 Axes>"
            ],
            "image/png": "[encoded data removed]"
          },
          "metadata": {}
        }
      ]
    },
    {
      "cell_type": "code",
      "metadata": {
        "id": "gATl5teZGodJ"
      },
      "source": [
        "import matplotlib.pyplot as plt\n",
        "from sklearn.metrics import mean_squared_error\n",
        "import numpy as np\n",
        "%matplotlib inline"
      ],
      "execution_count": 13,
      "outputs": []
    },
    {
      "cell_type": "code",
      "metadata": {
        "id": "0ErOCTMPGodJ",
        "outputId": "043d70cc-2009-4bd0-d0dd-747549b3501c",
        "colab": {
          "base_uri": "https://localhost:8080/"
        }
      },
      "source": [
        "df_day['yhat_holiday'] = forecast['yhat']\n",
        "rmse = np.sqrt(mean_squared_error(df_day['y'], df_day['yhat_holiday']))\n",
        "rmse"
      ],
      "execution_count": 14,
      "outputs": [
        {
          "output_type": "execute_result",
          "data": {
            "text/plain": [
              "19.130571395430973"
            ]
          },
          "metadata": {},
          "execution_count": 14
        }
      ]
    },
    {
      "cell_type": "markdown",
      "metadata": {
        "id": "hSPyl8keGodK"
      },
      "source": [
        "Individual holidays can be plotted using the `plot_forecast_component` function (imported from `fbprophet.plot` in Python) like `plot_forecast_component(m, forecast, 'superbowl')` to plot just the superbowl holiday component."
      ]
    },
    {
      "cell_type": "markdown",
      "metadata": {
        "id": "t7v7IvlOGodK"
      },
      "source": [
        "### Built-in Country Holidays\n",
        "\n",
        "You can use a built-in collection of country-specific holidays using the `add_country_holidays` method (Python) or function (R). The name of the country is specified, and then major holidays for that country will be included in addition to any holidays that are specified via the `holidays` argument described above:"
      ]
    },
    {
      "cell_type": "code",
      "metadata": {
        "output_hidden": true,
        "id": "y5vjMEysGodK"
      },
      "source": [],
      "execution_count": null,
      "outputs": []
    },
    {
      "cell_type": "code",
      "metadata": {
        "output_hidden": true,
        "id": "B6q_B0KhGodK"
      },
      "source": [
        "\"\"\"\n",
        "m = Prophet(holidays=holidays)\n",
        "m.add_country_holidays(country_name='US')\n",
        "m.fit(df)\n",
        "\"\"\""
      ],
      "execution_count": null,
      "outputs": []
    },
    {
      "cell_type": "markdown",
      "metadata": {
        "id": "R8DIu6s5GodL"
      },
      "source": [
        "You can see which holidays were included by looking at the `train_holiday_names` (Python) or `train.holiday.names` (R) attribute of the model:"
      ]
    },
    {
      "cell_type": "code",
      "metadata": {
        "id": "PGb5ns8OGodL"
      },
      "source": [],
      "execution_count": null,
      "outputs": []
    },
    {
      "cell_type": "code",
      "metadata": {
        "id": "DckCIdQlGodL"
      },
      "source": [
        "\"\"\"m.train_holiday_names\n",
        "\"\"\""
      ],
      "execution_count": null,
      "outputs": []
    },
    {
      "cell_type": "markdown",
      "metadata": {
        "id": "LWPFtbyaGodL"
      },
      "source": [
        "The holidays for each country are provided by the `holidays` package in Python. A list of available countries, and the country name to use, is available on their page: https://github.com/dr-prodigy/python-holidays. In addition to those countries, Prophet includes holidays for these countries: Brazil (BR), Indonesia (ID), India (IN), Malaysia (MY), Vietnam (VN), Thailand (TH), Philippines (PH), Turkey (TU), Pakistan (PK), Bangladesh (BD), Egypt (EG), China (CN), and Russian (RU).\n",
        "\n",
        "In Python, most holidays are computed deterministically and so are available for any date range; a warning will be raised if dates fall outside the range supported by that country. In R, holiday dates are computed for 1995 through 2044 and stored in the package as `data-raw/generated_holidays.csv`. If a wider date range is needed, this script can be used to replace that file with a different date range: https://github.com/facebook/prophet/blob/master/python/scripts/generate_holidays_file.py.\n",
        "\n",
        "As above, the country-level holidays will then show up in the components plot:"
      ]
    },
    {
      "cell_type": "code",
      "metadata": {
        "output_hidden": true,
        "id": "wemlpL7QGodM"
      },
      "source": [],
      "execution_count": null,
      "outputs": []
    },
    {
      "cell_type": "code",
      "metadata": {
        "id": "MZsJMUxXGodM"
      },
      "source": [
        "\"\"\"\n",
        "forecast = m.predict(future)\n",
        "fig = m.plot_components(forecast)\n",
        "\"\"\""
      ],
      "execution_count": null,
      "outputs": []
    },
    {
      "cell_type": "markdown",
      "metadata": {
        "id": "SVqgdw9RGodN"
      },
      "source": [
        "### Fourier Order for Seasonalities\n",
        "\n",
        "Seasonalities are estimated using a partial Fourier sum. See [the paper](https://peerj.com/preprints/3190/) for complete details, and [this figure on Wikipedia](https://en.wikipedia.org/wiki/Fourier_series#/media/File:Fourier_Series.svg) for an illustration of how a partial Fourier sum can approximate an aribtrary periodic signal. The number of terms in the partial sum (the order) is a parameter that determines how quickly the seasonality can change. To illustrate this, consider the Peyton Manning data from the [Quickstart](https://facebook.github.io/prophet/docs/quick_start.html). The default Fourier order for yearly seasonality is 10, which produces this fit:"
      ]
    },
    {
      "cell_type": "code",
      "metadata": {
        "output_hidden": true,
        "id": "ywWOegyRGodN"
      },
      "source": [],
      "execution_count": null,
      "outputs": []
    },
    {
      "cell_type": "code",
      "metadata": {
        "id": "4qpwpObUGodN"
      },
      "source": [
        "from fbprophet.plot import plot_yearly"
      ],
      "execution_count": null,
      "outputs": []
    },
    {
      "cell_type": "code",
      "metadata": {
        "id": "l8hdnYWWGodO"
      },
      "source": [
        "m = Prophet(yearly_seasonality=5).fit(df_day)"
      ],
      "execution_count": null,
      "outputs": []
    },
    {
      "cell_type": "code",
      "metadata": {
        "id": "wUdxjj4yGodO"
      },
      "source": [
        "a = plot_yearly(m)"
      ],
      "execution_count": null,
      "outputs": []
    },
    {
      "cell_type": "markdown",
      "metadata": {
        "id": "ctPmsT3gGodO"
      },
      "source": [
        "The default values are often appropriate, but they can be increased when the seasonality needs to fit higher-frequency changes, and generally be less smooth. The Fourier order can be specified for each built-in seasonality when instantiating the model, here it is increased to 20:"
      ]
    },
    {
      "cell_type": "code",
      "metadata": {
        "output_hidden": true,
        "id": "9ITdLrDWGodP"
      },
      "source": [
        "\"\"\"\n",
        "%%R -w 9 -h 3 -u in\n",
        "m <- prophet(df, yearly.seasonality = 20)\n",
        "prophet:::plot_yearly(m)\n",
        "\"\"\""
      ],
      "execution_count": null,
      "outputs": []
    },
    {
      "cell_type": "code",
      "metadata": {
        "id": "Nlcg95axGodP"
      },
      "source": [
        "from fbprophet.plot import plot_yearly\n",
        "m = Prophet(yearly_seasonality=20).fit(df_day)\n",
        "a = plot_yearly(m)"
      ],
      "execution_count": null,
      "outputs": []
    },
    {
      "cell_type": "markdown",
      "metadata": {
        "id": "sL-qdNssGodP"
      },
      "source": [
        "Increasing the number of Fourier terms allows the seasonality to fit faster changing cycles, but can also lead to overfitting: N Fourier terms corresponds to 2N variables used for modeling the cycle\n",
        "\n",
        "### Specifying Custom Seasonalities\n",
        "\n",
        "Prophet will by default fit weekly and yearly seasonalities, if the time series is more than two cycles long. It will also fit daily seasonality for a sub-daily time series. You can add other seasonalities (monthly, quarterly, hourly) using the `add_seasonality` method (Python) or function (R).\n",
        "\n",
        "The inputs to this function are a name, the period of the seasonality in days, and the Fourier order for the seasonality. For reference, by default Prophet uses a Fourier order of 3 for weekly seasonality and 10 for yearly seasonality. An optional input to `add_seasonality` is the prior scale for that seasonal component - this is discussed below.\n",
        "\n",
        "As an example, here we fit the Peyton Manning data from the [Quickstart](https://facebook.github.io/prophet/docs/quick_start.html), but replace the weekly seasonality with monthly seasonality. The monthly seasonality then will appear in the components plot:"
      ]
    },
    {
      "cell_type": "code",
      "metadata": {
        "output_hidden": true,
        "id": "JrgUw7iCGodQ"
      },
      "source": [
        "\"\"\"\n",
        "%%R -w 9 -h 9 -u in\n",
        "m <- prophet(weekly.seasonality=FALSE)\n",
        "m <- add_seasonality(m, name='monthly', period=30.5, fourier.order=5)\n",
        "m <- fit.prophet(m, df)\n",
        "forecast <- predict(m, future)\n",
        "prophet_plot_components(m, forecast)\n",
        "\"\"\""
      ],
      "execution_count": null,
      "outputs": []
    },
    {
      "cell_type": "code",
      "metadata": {
        "id": "Dq_9uhd9GodR"
      },
      "source": [
        "m = Prophet(weekly_seasonality=False)\n",
        "m.add_seasonality(name='monthly', period=30.5, fourier_order=5)\n",
        "forecast = m.fit(df_day).predict(future)\n",
        "fig = m.plot_components(forecast)"
      ],
      "execution_count": null,
      "outputs": []
    },
    {
      "cell_type": "markdown",
      "metadata": {
        "id": "gBLbvAWKGodR"
      },
      "source": [
        "### Seasonalities that depend on other factors\n",
        "In some instances the seasonality may depend on other factors, such as a weekly seasonal pattern that is different during the summer than it is during the rest of the year, or a daily seasonal pattern that is different on weekends vs. on weekdays. These types of seasonalities can be modeled using conditional seasonalities.\n",
        "\n",
        "Consider the Peyton Manning example from the [Quickstart](https://facebook.github.io/prophet/docs/quick_start.html). The default weekly seasonality assumes that the pattern of weekly seasonality is the same throughout the year, but we'd expect the pattern of weekly seasonality to be different during the on-season (when there are games every Sunday) and the off-season. We can use conditional seasonalities to construct separate on-season and off-season weekly seasonalities.\n",
        "\n",
        "First we add a boolean column to the dataframe that indicates whether each date is during the on-season or the off-season:"
      ]
    },
    {
      "cell_type": "code",
      "metadata": {
        "id": "jHrFzL8iGodR"
      },
      "source": [
        "%%R\n",
        "is_nfl_season <- function(ds) {\n",
        "  dates <- as.Date(ds)\n",
        "  month <- as.numeric(format(dates, '%m'))\n",
        "  return(month > 8 | month < 2)\n",
        "}\n",
        "df$on_season <- is_nfl_season(df$ds)\n",
        "df$off_season <- !is_nfl_season(df$ds)"
      ],
      "execution_count": null,
      "outputs": []
    },
    {
      "cell_type": "code",
      "metadata": {
        "id": "XIYSRzirGodS"
      },
      "source": [
        "def is_nfl_season(ds):\n",
        "    date = pd.to_datetime(ds)\n",
        "    return (date.month > 8 or date.month < 2)\n",
        "\n",
        "df['on_season'] = df['ds'].apply(is_nfl_season)\n",
        "df['off_season'] = ~df['ds'].apply(is_nfl_season)"
      ],
      "execution_count": null,
      "outputs": []
    },
    {
      "cell_type": "markdown",
      "metadata": {
        "id": "f0sPPFFqGodS"
      },
      "source": [
        "Then we disable the built-in weekly seasonality, and replace it with two weekly seasonalities that have these columns specified as a condition. This means that the seasonality will only be applied to dates where the `condition_name` column is `True`. We must also add the column to the `future` dataframe for which we are making predictions."
      ]
    },
    {
      "cell_type": "code",
      "metadata": {
        "output_hidden": true,
        "id": "RrnW9EhoGodS"
      },
      "source": [
        "%%R -w 9 -h 12 -u in\n",
        "m <- prophet(weekly.seasonality=FALSE)\n",
        "m <- add_seasonality(m, name='weekly_on_season', period=7, fourier.order=3, condition.name='on_season')\n",
        "m <- add_seasonality(m, name='weekly_off_season', period=7, fourier.order=3, condition.name='off_season')\n",
        "m <- fit.prophet(m, df)\n",
        "\n",
        "future$on_season <- is_nfl_season(future$ds)\n",
        "future$off_season <- !is_nfl_season(future$ds)\n",
        "forecast <- predict(m, future)\n",
        "prophet_plot_components(m, forecast)"
      ],
      "execution_count": null,
      "outputs": []
    },
    {
      "cell_type": "code",
      "metadata": {
        "id": "t2a9PoeoGodT"
      },
      "source": [
        "m = Prophet(weekly_seasonality=False)\n",
        "m.add_seasonality(name='weekly_on_season', period=7, fourier_order=3, condition_name='on_season')\n",
        "m.add_seasonality(name='weekly_off_season', period=7, fourier_order=3, condition_name='off_season')\n",
        "\n",
        "future['on_season'] = future['ds'].apply(is_nfl_season)\n",
        "future['off_season'] = ~future['ds'].apply(is_nfl_season)\n",
        "forecast = m.fit(df).predict(future)\n",
        "fig = m.plot_components(forecast)"
      ],
      "execution_count": null,
      "outputs": []
    },
    {
      "cell_type": "markdown",
      "metadata": {
        "id": "WDwjk_HQGodT"
      },
      "source": [
        "Both of the seasonalities now show up in the components plots above. We can see that during the on-season when games are played every Sunday, there are large increases on Sunday and Monday that are completely absent during the off-season."
      ]
    },
    {
      "cell_type": "markdown",
      "metadata": {
        "id": "d6pxiYCBGodT"
      },
      "source": [
        "### Prior scale for holidays and seasonality\n",
        "If you find that the holidays are overfitting, you can adjust their prior scale to smooth them using the parameter `holidays_prior_scale`. By default this parameter is 10, which provides very little regularization. Reducing this parameter dampens holiday effects:"
      ]
    },
    {
      "cell_type": "code",
      "metadata": {
        "output_hidden": true,
        "id": "cwQvIRf0GodT"
      },
      "source": [
        "%%R\n",
        "m <- prophet(df, holidays = holidays, holidays.prior.scale = 0.05)\n",
        "forecast <- predict(m, future)\n",
        "forecast %>% \n",
        "  select(ds, playoff, superbowl) %>% \n",
        "  filter(abs(playoff + superbowl) > 0) %>%\n",
        "  tail(10)"
      ],
      "execution_count": null,
      "outputs": []
    },
    {
      "cell_type": "code",
      "metadata": {
        "id": "KVADOIKeGodT"
      },
      "source": [
        "m = Prophet(holidays=holidays, holidays_prior_scale=0.05).fit(df)\n",
        "forecast = m.predict(future)\n",
        "forecast[(forecast['playoff'] + forecast['superbowl']).abs() > 0][\n",
        "    ['ds', 'playoff', 'superbowl']][-10:]"
      ],
      "execution_count": null,
      "outputs": []
    },
    {
      "cell_type": "markdown",
      "metadata": {
        "id": "jgv0vR6AGodU"
      },
      "source": [
        "The magnitude of the holiday effect has been reduced compared to before, especially for superbowls, which had the fewest observations. There is a parameter `seasonality_prior_scale` which similarly adjusts the extent to which the seasonality model will fit the data.\n",
        "\n",
        "Prior scales can be set separately for individual holidays by including a column `prior_scale` in the holidays dataframe. Prior scales for individual seasonalities can be passed as an argument to `add_seasonality`. For instance, the prior scale for just weekly seasonality can be set using:"
      ]
    },
    {
      "cell_type": "code",
      "metadata": {
        "id": "zX8J97nrGodU"
      },
      "source": [
        "%%R\n",
        "m <- prophet()\n",
        "m <- add_seasonality(\n",
        "  m, name='weekly', period=7, fourier.order=3, prior.scale=0.1)"
      ],
      "execution_count": null,
      "outputs": []
    },
    {
      "cell_type": "code",
      "metadata": {
        "output_hidden": true,
        "id": "4H5SOdDhGodU"
      },
      "source": [
        "m = Prophet()\n",
        "m.add_seasonality(\n",
        "    name='weekly', period=7, fourier_order=3, prior_scale=0.1)"
      ],
      "execution_count": null,
      "outputs": []
    },
    {
      "cell_type": "markdown",
      "metadata": {
        "id": "HaB3zqWqGodV"
      },
      "source": [
        "\n",
        "### Additional regressors\n",
        "Additional regressors can be added to the linear part of the model using the `add_regressor` method or function. A column with the regressor value will need to be present in both the fitting and prediction dataframes. For example, we can add an additional effect on Sundays during the NFL season. On the components plot, this effect will show up in the 'extra_regressors' plot:"
      ]
    },
    {
      "cell_type": "code",
      "metadata": {
        "output_hidden": true,
        "id": "s2v21mm-GodV"
      },
      "source": [
        "%%R -w 9 -h 12 -u in\n",
        "nfl_sunday <- function(ds) {\n",
        "  dates <- as.Date(ds)\n",
        "  month <- as.numeric(format(dates, '%m'))\n",
        "  as.numeric((weekdays(dates) == \"Sunday\") & (month > 8 | month < 2))\n",
        "}\n",
        "df$nfl_sunday <- nfl_sunday(df$ds)\n",
        "\n",
        "m <- prophet()\n",
        "m <- add_regressor(m, 'nfl_sunday')\n",
        "m <- fit.prophet(m, df)\n",
        "\n",
        "future$nfl_sunday <- nfl_sunday(future$ds)\n",
        "\n",
        "forecast <- predict(m, future)\n",
        "prophet_plot_components(m, forecast)"
      ],
      "execution_count": null,
      "outputs": []
    },
    {
      "cell_type": "code",
      "metadata": {
        "id": "J5C8986hGodV"
      },
      "source": [
        "def nfl_sunday(ds):\n",
        "    date = pd.to_datetime(ds)\n",
        "    if date.weekday() == 6 and (date.month > 8 or date.month < 2):\n",
        "        return 1\n",
        "    else:\n",
        "        return 0\n",
        "df['nfl_sunday'] = df['ds'].apply(nfl_sunday)\n",
        "\n",
        "m = Prophet()\n",
        "m.add_regressor('nfl_sunday')\n",
        "m.fit(df)\n",
        "\n",
        "future['nfl_sunday'] = future['ds'].apply(nfl_sunday)\n",
        "\n",
        "forecast = m.predict(future)\n",
        "fig = m.plot_components(forecast)"
      ],
      "execution_count": null,
      "outputs": []
    },
    {
      "cell_type": "markdown",
      "metadata": {
        "id": "C9vDcCfAGodW"
      },
      "source": [
        "NFL Sundays could also have been handled using the \"holidays\" interface described above, by creating a list of past and future NFL Sundays. The `add_regressor` function provides a more general interface for defining extra linear regressors, and in particular does not require that the regressor be a binary indicator. Another time series could be used as a regressor, although its future values would have to be known.\n",
        "\n",
        "[This notebook](https://nbviewer.jupyter.org/github/nicolasfauchereau/Auckland_Cycling/blob/master/notebooks/Auckland_cycling_and_weather.ipynb) shows an example of using weather factors as extra regressors in a forecast of bicycle usage, and provides an excellent illustration of how other time series can be included as extra regressors.\n",
        "\n",
        "The `add_regressor` function has optional arguments for specifying the prior scale (holiday prior scale is used by default) and whether or not the regressor is standardized - see the docstring with `help(Prophet.add_regressor)` in Python and `?add_regressor` in R. Note that regressors must be added prior to model fitting.\n",
        "\n",
        "The extra regressor must be known for both the history and for future dates. It thus must either be something that has known future values (such as `nfl_sunday`), or something that has separately been forecasted elsewhere. Prophet will also raise an error if the regressor is constant throughout the history, since there is nothing to fit from it.\n",
        "\n",
        "Extra regressors are put in the linear component of the model, so the underlying model is that the time series depends on the extra regressor as either an additive or multiplicative factor (see the next section for multiplicativity)."
      ]
    }
  ]
}