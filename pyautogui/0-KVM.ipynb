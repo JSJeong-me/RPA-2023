{
  "cells": [
    {
      "cell_type": "markdown",
      "metadata": {
        "id": "view-in-github",
        "colab_type": "text"
      },
      "source": [
        "<a href=\"https://colab.research.google.com/github/JSJeong-me/Python_RPA/blob/main/pyautogui/0-KVM.ipynb\" target=\"_parent\"><img src=\"https://colab.research.google.com/assets/colab-badge.svg\" alt=\"Open In Colab\"/></a>"
      ]
    },
    {
      "cell_type": "code",
      "source": [
        "!pip install pyautogui"
      ],
      "metadata": {
        "id": "Z-HCEWh5zrA1"
      },
      "execution_count": null,
      "outputs": []
    },
    {
      "cell_type": "code",
      "execution_count": null,
      "metadata": {
        "collapsed": true,
        "id": "8PiMtkJQzPRc"
      },
      "outputs": [],
      "source": [
        "import pyautogui"
      ]
    },
    {
      "cell_type": "code",
      "execution_count": null,
      "metadata": {
        "id": "Dm1W1oFuzPRf",
        "outputId": "21875eba-422c-4559-f8cd-d029aaba60c0"
      },
      "outputs": [
        {
          "data": {
            "text/plain": [
              "(1920, 1080)"
            ]
          },
          "execution_count": 2,
          "metadata": {},
          "output_type": "execute_result"
        }
      ],
      "source": [
        "pyautogui.size()"
      ]
    },
    {
      "cell_type": "code",
      "execution_count": null,
      "metadata": {
        "collapsed": true,
        "id": "p2YU_5SEzPRg"
      },
      "outputs": [],
      "source": [
        "pyautogui.moveTo(500, 500, duration=1)  # (500, 500)위치로 1초 동안에 이동한다."
      ]
    },
    {
      "cell_type": "code",
      "execution_count": null,
      "metadata": {
        "id": "rxZ86GXlzPRh",
        "outputId": "d556b13a-5565-41cc-d9fc-ce80edbb3471"
      },
      "outputs": [
        {
          "ename": "FailSafeException",
          "evalue": "PyAutoGUI fail-safe triggered from mouse moving to upper-left corner. To disable this fail-safe, set pyautogui.FAILSAFE to False.",
          "output_type": "error",
          "traceback": [
            "\u001b[1;31m---------------------------------------------------------------------------\u001b[0m",
            "\u001b[1;31mFailSafeException\u001b[0m                         Traceback (most recent call last)",
            "\u001b[1;32m<ipython-input-2-04121a7676e0>\u001b[0m in \u001b[0;36m<module>\u001b[1;34m()\u001b[0m\n\u001b[1;32m----> 1\u001b[1;33m \u001b[0mpyautogui\u001b[0m\u001b[1;33m.\u001b[0m\u001b[0mmoveTo\u001b[0m\u001b[1;33m(\u001b[0m\u001b[1;33m-\u001b[0m\u001b[1;36m100\u001b[0m\u001b[1;33m,\u001b[0m \u001b[1;33m-\u001b[0m\u001b[1;36m100\u001b[0m\u001b[1;33m)\u001b[0m\u001b[1;33m\u001b[0m\u001b[0m\n\u001b[0m",
            "\u001b[1;32m~\\Anaconda3\\lib\\site-packages\\pyautogui\\__init__.py\u001b[0m in \u001b[0;36mmoveTo\u001b[1;34m(x, y, duration, tween, pause, _pause)\u001b[0m\n\u001b[0;32m    683\u001b[0m     \u001b[0mx\u001b[0m\u001b[1;33m,\u001b[0m \u001b[0my\u001b[0m \u001b[1;33m=\u001b[0m \u001b[0m_unpackXY\u001b[0m\u001b[1;33m(\u001b[0m\u001b[0mx\u001b[0m\u001b[1;33m,\u001b[0m \u001b[0my\u001b[0m\u001b[1;33m)\u001b[0m\u001b[1;33m\u001b[0m\u001b[0m\n\u001b[0;32m    684\u001b[0m \u001b[1;33m\u001b[0m\u001b[0m\n\u001b[1;32m--> 685\u001b[1;33m     \u001b[0m_mouseMoveDrag\u001b[0m\u001b[1;33m(\u001b[0m\u001b[1;34m'move'\u001b[0m\u001b[1;33m,\u001b[0m \u001b[0mx\u001b[0m\u001b[1;33m,\u001b[0m \u001b[0my\u001b[0m\u001b[1;33m,\u001b[0m \u001b[1;36m0\u001b[0m\u001b[1;33m,\u001b[0m \u001b[1;36m0\u001b[0m\u001b[1;33m,\u001b[0m \u001b[0mduration\u001b[0m\u001b[1;33m,\u001b[0m \u001b[0mtween\u001b[0m\u001b[1;33m)\u001b[0m\u001b[1;33m\u001b[0m\u001b[0m\n\u001b[0m\u001b[0;32m    686\u001b[0m \u001b[1;33m\u001b[0m\u001b[0m\n\u001b[0;32m    687\u001b[0m     \u001b[0m_autoPause\u001b[0m\u001b[1;33m(\u001b[0m\u001b[0mpause\u001b[0m\u001b[1;33m,\u001b[0m \u001b[0m_pause\u001b[0m\u001b[1;33m)\u001b[0m\u001b[1;33m\u001b[0m\u001b[0m\n",
            "\u001b[1;32m~\\Anaconda3\\lib\\site-packages\\pyautogui\\__init__.py\u001b[0m in \u001b[0;36m_mouseMoveDrag\u001b[1;34m(moveOrDrag, x, y, xOffset, yOffset, duration, tween, button)\u001b[0m\n\u001b[0;32m    919\u001b[0m             \u001b[1;32mraise\u001b[0m \u001b[0mNotImplementedError\u001b[0m\u001b[1;33m(\u001b[0m\u001b[1;34m'Unknown value of moveOrDrag: {0}'\u001b[0m\u001b[1;33m.\u001b[0m\u001b[0mformat\u001b[0m\u001b[1;33m(\u001b[0m\u001b[0mmoveOrDrag\u001b[0m\u001b[1;33m)\u001b[0m\u001b[1;33m)\u001b[0m\u001b[1;33m\u001b[0m\u001b[0m\n\u001b[0;32m    920\u001b[0m \u001b[1;33m\u001b[0m\u001b[0m\n\u001b[1;32m--> 921\u001b[1;33m     \u001b[0m_failSafeCheck\u001b[0m\u001b[1;33m(\u001b[0m\u001b[1;33m)\u001b[0m\u001b[1;33m\u001b[0m\u001b[0m\n\u001b[0m\u001b[0;32m    922\u001b[0m \u001b[1;33m\u001b[0m\u001b[0m\n\u001b[0;32m    923\u001b[0m \u001b[1;33m\u001b[0m\u001b[0m\n",
            "\u001b[1;32m~\\Anaconda3\\lib\\site-packages\\pyautogui\\__init__.py\u001b[0m in \u001b[0;36m_failSafeCheck\u001b[1;34m()\u001b[0m\n\u001b[0;32m   1112\u001b[0m \u001b[1;33m\u001b[0m\u001b[0m\n\u001b[0;32m   1113\u001b[0m     \u001b[1;32mif\u001b[0m \u001b[0mFAILSAFE\u001b[0m \u001b[1;32mand\u001b[0m \u001b[0mposition\u001b[0m\u001b[1;33m(\u001b[0m\u001b[1;33m)\u001b[0m \u001b[1;33m==\u001b[0m \u001b[0mFAILSAFE_POINT\u001b[0m\u001b[1;33m:\u001b[0m\u001b[1;33m\u001b[0m\u001b[0m\n\u001b[1;32m-> 1114\u001b[1;33m         \u001b[1;32mraise\u001b[0m \u001b[0mFailSafeException\u001b[0m\u001b[1;33m(\u001b[0m\u001b[1;34m'PyAutoGUI fail-safe triggered from mouse moving to upper-left corner. To disable this fail-safe, set pyautogui.FAILSAFE to False.'\u001b[0m\u001b[1;33m)\u001b[0m\u001b[1;33m\u001b[0m\u001b[0m\n\u001b[0m\u001b[0;32m   1115\u001b[0m \u001b[1;33m\u001b[0m\u001b[0m\n\u001b[0;32m   1116\u001b[0m \u001b[1;33m\u001b[0m\u001b[0m\n",
            "\u001b[1;31mFailSafeException\u001b[0m: PyAutoGUI fail-safe triggered from mouse moving to upper-left corner. To disable this fail-safe, set pyautogui.FAILSAFE to False."
          ]
        }
      ],
      "source": [
        "pyautogui.moveTo(-100, -100)"
      ]
    },
    {
      "cell_type": "code",
      "execution_count": null,
      "metadata": {
        "collapsed": true,
        "id": "CjNck-KWzPRh"
      },
      "outputs": [],
      "source": [
        "pyautogui.FAILSAFE = False"
      ]
    },
    {
      "cell_type": "code",
      "execution_count": null,
      "metadata": {
        "collapsed": true,
        "id": "4xdWYOjIzPRi"
      },
      "outputs": [],
      "source": [
        "pyautogui.moveTo(400, 500, duration=1)\n",
        "pyautogui.click()"
      ]
    },
    {
      "cell_type": "code",
      "execution_count": null,
      "metadata": {
        "collapsed": true,
        "id": "ohVBQjbfzPRi"
      },
      "outputs": [],
      "source": [
        "pyautogui.click(400, 500)"
      ]
    },
    {
      "cell_type": "code",
      "execution_count": null,
      "metadata": {
        "collapsed": true,
        "id": "zoh7_JYRzPRj"
      },
      "outputs": [],
      "source": [
        "pyautogui.moveTo(400, 500, duration=1)\n",
        "pyautogui.dragTo(600, 900, duration=1)"
      ]
    },
    {
      "cell_type": "code",
      "execution_count": null,
      "metadata": {
        "collapsed": true,
        "id": "KNQQw6nszPRj"
      },
      "outputs": [],
      "source": [
        "pyautogui.PAUSE = 0.1  # 명령 사이 간격을 0.1초로 설정한다"
      ]
    },
    {
      "cell_type": "code",
      "execution_count": null,
      "metadata": {
        "collapsed": true,
        "id": "EWRGfWPmzPRk"
      },
      "outputs": [],
      "source": [
        "buttons = {'1': (40, 320), '2': (90, 320), '3': (140, 320)}"
      ]
    },
    {
      "cell_type": "code",
      "execution_count": null,
      "metadata": {
        "collapsed": true,
        "id": "_qneKwPYzPRl"
      },
      "outputs": [],
      "source": [
        "x, y = buttons['1']   # 버튼 1에 대한 좌표를 얻는다\n",
        "pyautogui.click(x, y) # 해당 좌표 클릭\n",
        "\n",
        "x, y = buttons['2']\n",
        "pyautogui.click(x, y)\n",
        "\n",
        "x, y = buttons['3']\n",
        "pyautogui.click(x, y)"
      ]
    },
    {
      "cell_type": "code",
      "execution_count": null,
      "metadata": {
        "collapsed": true,
        "id": "EEni69mVzPRl"
      },
      "outputs": [],
      "source": [
        "for c in '123':\n",
        "    x, y = buttons[c]\n",
        "    pyautogui.click(x, y)"
      ]
    },
    {
      "cell_type": "code",
      "execution_count": null,
      "metadata": {
        "collapsed": true,
        "id": "_xpCUO9JzPRm"
      },
      "outputs": [],
      "source": [
        "for c in '123':\n",
        "    x, y = buttons[c]\n",
        "    pyautogui.click(x, y, duration=1)"
      ]
    },
    {
      "cell_type": "code",
      "execution_count": null,
      "metadata": {
        "collapsed": true,
        "id": "dIkH3VN2zPRm"
      },
      "outputs": [],
      "source": [
        "buttons = {'0': (68, 360), '.': (140, 360), '+': (190, 360),\n",
        "           '1': (40, 320), '2': (90, 320), '3': (140, 320), '-': (190, 320),\n",
        "           '4': (40, 280), '5': (90, 280), '6': (140, 280), '*': (190, 280),\n",
        "           '7': (40, 240), '8': (90, 240), '9': (140, 240), '/': (190, 240), '%': (140, 240),\n",
        "           '=': (240, 340),\n",
        "           'C': (140, 200),\n",
        "          }"
      ]
    },
    {
      "cell_type": "code",
      "execution_count": null,
      "metadata": {
        "collapsed": true,
        "id": "qNPWZk16zPRn"
      },
      "outputs": [],
      "source": [
        "for c in 'C3+4*2=':\n",
        "    x, y = buttons[c]\n",
        "    pyautogui.click(x, y)"
      ]
    },
    {
      "cell_type": "code",
      "execution_count": null,
      "metadata": {
        "id": "L0i8WcAhzPRn",
        "outputId": "e382207e-d00f-4f2f-8635-e8ad3732e0dc"
      },
      "outputs": [
        {
          "data": {
            "text/plain": [
              "(26, 308, 36, 26)"
            ]
          },
          "execution_count": 16,
          "metadata": {},
          "output_type": "execute_result"
        }
      ],
      "source": [
        "pyautogui.locateOnScreen('img/1.png')"
      ]
    },
    {
      "cell_type": "code",
      "execution_count": null,
      "metadata": {
        "id": "T5dOurK6zPRn",
        "outputId": "94bbb6e0-9e23-4d13-fa60-0e215c3ab376"
      },
      "outputs": [
        {
          "data": {
            "text/plain": [
              "(44, 321)"
            ]
          },
          "execution_count": 17,
          "metadata": {},
          "output_type": "execute_result"
        }
      ],
      "source": [
        "pyautogui.center((26, 308, 36, 26))"
      ]
    },
    {
      "cell_type": "code",
      "execution_count": null,
      "metadata": {
        "id": "0IpE9uDkzPRo",
        "outputId": "13d07db1-cc07-4f77-ed50-2ead75c7b933"
      },
      "outputs": [
        {
          "data": {
            "text/plain": [
              "(44, 321)"
            ]
          },
          "execution_count": 18,
          "metadata": {},
          "output_type": "execute_result"
        }
      ],
      "source": [
        "pyautogui.locateCenterOnScreen('img/1.png')"
      ]
    },
    {
      "cell_type": "code",
      "execution_count": null,
      "metadata": {
        "id": "DZGR5YyDzPRo",
        "outputId": "8efba12a-23eb-434c-807b-2ce65b91cab8"
      },
      "outputs": [
        {
          "data": {
            "text/plain": [
              "[(26, 308, 36, 26), (71, 762, 36, 26)]"
            ]
          },
          "execution_count": 19,
          "metadata": {},
          "output_type": "execute_result"
        }
      ],
      "source": [
        "list(pyautogui.locateAllOnScreen('img/1.png'))"
      ]
    },
    {
      "cell_type": "code",
      "execution_count": null,
      "metadata": {
        "collapsed": true,
        "id": "RoWld7PZzPRo"
      },
      "outputs": [],
      "source": [
        "im = pyautogui.screenshot()\n",
        "im"
      ]
    },
    {
      "cell_type": "code",
      "execution_count": null,
      "metadata": {
        "id": "9jWz6dzHzPRp",
        "outputId": "ebedeb9d-9fe2-458a-e74c-7d18fd3ea5c0"
      },
      "outputs": [
        {
          "data": {
            "text/plain": [
              "PIL.Image.Image"
            ]
          },
          "execution_count": 21,
          "metadata": {},
          "output_type": "execute_result"
        }
      ],
      "source": [
        "type(im)"
      ]
    },
    {
      "cell_type": "code",
      "execution_count": null,
      "metadata": {
        "collapsed": true,
        "id": "dl8j2_vpzPRp"
      },
      "outputs": [],
      "source": [
        "im = pyautogui.screenshot('screen_shot.png')"
      ]
    },
    {
      "cell_type": "code",
      "execution_count": null,
      "metadata": {
        "id": "vtuDfVrczPRp",
        "outputId": "4dd88bf0-239a-464f-f5b2-d3ba8ae5f69a"
      },
      "outputs": [
        {
          "data": {
            "text/plain": [
              "(255, 255, 255)"
            ]
          },
          "execution_count": 23,
          "metadata": {},
          "output_type": "execute_result"
        }
      ],
      "source": [
        "im.getpixel((100, 100))  # (x, y)"
      ]
    },
    {
      "cell_type": "code",
      "execution_count": null,
      "metadata": {
        "id": "zJxOReT2zPRp",
        "outputId": "d4504c94-a18c-425e-ff5c-8cee6522154f"
      },
      "outputs": [
        {
          "data": {
            "text/plain": [
              "(255, 255, 255)"
            ]
          },
          "execution_count": 24,
          "metadata": {},
          "output_type": "execute_result"
        }
      ],
      "source": [
        "pyautogui.pixel(100, 100)"
      ]
    },
    {
      "cell_type": "code",
      "execution_count": null,
      "metadata": {
        "id": "QPTRmFSxzPRq",
        "outputId": "bf6d1931-b84f-46fe-9900-b6dd657a8c98"
      },
      "outputs": [
        {
          "data": {
            "text/plain": [
              "True"
            ]
          },
          "execution_count": 25,
          "metadata": {},
          "output_type": "execute_result"
        }
      ],
      "source": [
        "pyautogui.pixelMatchesColor(100, 100, (246, 226, 237))"
      ]
    },
    {
      "cell_type": "code",
      "execution_count": null,
      "metadata": {
        "id": "l49RKz9azPRq",
        "outputId": "431e7ea6-e80d-4aab-d34e-13885ac22a90"
      },
      "outputs": [
        {
          "data": {
            "image/png": "[encoded data removed]",
            "text/plain": [
              "<PIL.Image._ImageCrop image mode=RGB size=70x100 at 0x60D4C88>"
            ]
          },
          "execution_count": 26,
          "metadata": {},
          "output_type": "execute_result"
        }
      ],
      "source": [
        "icon = im.crop((80, 400, 150, 500))  # (좌,상,우,하)\n",
        "icon  # 이미지 확인"
      ]
    },
    {
      "cell_type": "code",
      "execution_count": null,
      "metadata": {
        "collapsed": true,
        "id": "oIL2GcdBzPRq"
      },
      "outputs": [],
      "source": [
        "icon.save('button1.png')"
      ]
    },
    {
      "cell_type": "code",
      "execution_count": null,
      "metadata": {
        "collapsed": true,
        "id": "rrONdRVIzPRq"
      },
      "outputs": [],
      "source": [
        "import pyautogui\n",
        "from subprocess import Popen\n",
        "import time\n",
        "\n",
        "Popen('calc')  # 계산기를 실행한다.\n",
        "\n",
        "time.sleep(1.0) # 계산기가 실행될 동안 잠시 대기\n",
        "\n",
        "pyautogui.typewrite('123+456=', interval=0.1)  # 0.1초 간격으로 123+456 키 입력"
      ]
    },
    {
      "cell_type": "code",
      "execution_count": null,
      "metadata": {
        "id": "AIYg3H3TzPRr",
        "outputId": "a66b5606-617f-416c-cc32-d26abd90d427"
      },
      "outputs": [
        {
          "data": {
            "text/plain": [
              "['escape', 'execute', 'f1', 'f10', 'f11', 'f12', 'f13', 'f14', 'f15', 'f16']"
            ]
          },
          "execution_count": 29,
          "metadata": {},
          "output_type": "execute_result"
        }
      ],
      "source": [
        "pyautogui.KEY_NAMES[100:110]"
      ]
    },
    {
      "cell_type": "code",
      "execution_count": null,
      "metadata": {
        "collapsed": true,
        "id": "GuG6Y94SzPRr"
      },
      "outputs": [],
      "source": [
        "import pyautogui\n",
        "from subprocess import Popen\n",
        "import time\n",
        "\n",
        "Popen('calc')  # 계산기를 실행한다.\n",
        "\n",
        "time.sleep(1) # 계산기가 실행될 동안 잠시 대기\n",
        "\n",
        "pyautogui.hotkey('alt', '2', interval=0.5)  # 공학 모드로 전환\n",
        "pyautogui.press(['f3'])  # Degree 모드로 전환\n",
        "pyautogui.typewrite('90S=', interval=0.1)  # sin(90도) => 1\n",
        "\n",
        "time.sleep(1) # 잠시 대기\n",
        "pyautogui.press(['esc'])  # 화면 클리어\n",
        "\n",
        "time.sleep(1) # 잠시 대기\n",
        "pyautogui.hotkey('alt', '1')  # 일반 모드로 전환\n"
      ]
    },
    {
      "cell_type": "code",
      "execution_count": null,
      "metadata": {
        "collapsed": true,
        "id": "G3Z9HxCqzPRr"
      },
      "outputs": [],
      "source": [
        "import pyautogui\n",
        "from subprocess import Popen\n",
        "import time\n",
        "\n",
        "Popen('notepad')  # 메모장을 실행한다.\n",
        "\n",
        "time.sleep(1) # 1초 대기\n",
        "\n",
        "pyautogui.press(['hangul'])  # 한글 모드로 전환\n",
        "pyautogui.typewrite('tpwhdeodhkdakstp', interval=0.1)  # 한글 자판 입력하듯이 영문 자판입력"
      ]
    },
    {
      "cell_type": "code",
      "execution_count": null,
      "metadata": {
        "collapsed": true,
        "id": "_CU0KTEozPRr"
      },
      "outputs": [],
      "source": [
        "import pyperclip\n",
        "import pyautogui\n",
        "from subprocess import Popen\n",
        "import time\n",
        "\n",
        "Popen('notepad')\n",
        "time.sleep(1)\n",
        "\n",
        "message = '''\n",
        "박지성은 대한민국의 전직 축구선수이다. \n",
        "수원 산남초등학교에서 처음 축구선수 생활을 시작해 2000년 일본 교토 퍼플상가에서 프로로 데뷔하였고 \n",
        "네덜란드 PSV 아인트호벤, 잉글랜드 맨체스터 유나이티드, 퀸즈 파크 레인저스(QPR)에서 활약하였다. \n",
        "이후 2014년 아인트호벤으로 돌아와 은퇴. 국가대표로서는 2010년 남아공 월드컵 주장 등으로 활약했다. \n",
        "은퇴 이후엔 JS파운데이션 이사장이면서 맨체스터 유나이티드 홍보대사(ambassador)로 활동 중이다. \n",
        "\n",
        "- from 나무위키\n",
        "'''\n",
        "\n",
        "# 메모장은 \\r\\n을 줄바꿈 코드로 인식하므로 replace가 필요하다\n",
        "message = message.replace('\\n', '\\r\\n')\n",
        "\n",
        "# 클립보드에 메시지를 복사한다\n",
        "pyperclip.copy(message)\n",
        "\n",
        "# 클립보드에서 메시지를 가져다 붙여넣기 한다\n",
        "pyautogui.hotkey('ctrl', 'v')"
      ]
    },
    {
      "cell_type": "code",
      "execution_count": null,
      "metadata": {
        "id": "16KnQ0KSzPRs",
        "outputId": "a5c365e6-675e-4b33-e686-4507e995330f"
      },
      "outputs": [
        {
          "data": {
            "text/plain": [
              "'OK'"
            ]
          },
          "execution_count": 33,
          "metadata": {},
          "output_type": "execute_result"
        }
      ],
      "source": [
        "pyautogui.alert('확인 창을 보여줍니다.')"
      ]
    },
    {
      "cell_type": "code",
      "execution_count": null,
      "metadata": {
        "id": "pPRuuaUCzPRs",
        "outputId": "747db230-a6cd-4897-c3ac-96691508a5ab"
      },
      "outputs": [
        {
          "data": {
            "text/plain": [
              "'OK'"
            ]
          },
          "execution_count": 34,
          "metadata": {},
          "output_type": "execute_result"
        }
      ],
      "source": [
        "pyautogui.confirm('확인과 취소 버튼이 있는 창을 보여줍니다.')"
      ]
    },
    {
      "cell_type": "code",
      "execution_count": null,
      "metadata": {
        "collapsed": true,
        "id": "S6Fk_yy0zPRs"
      },
      "outputs": [],
      "source": [
        "pyautogui.prompt('사용자 입력을 받을 수 있습니다')"
      ]
    },
    {
      "cell_type": "code",
      "execution_count": null,
      "metadata": {
        "collapsed": true,
        "id": "S485O4DIzPRs"
      },
      "outputs": [],
      "source": [
        "# kindle_capture.py\n",
        "\n",
        "import pyautogui\n",
        "import time\n",
        "\n",
        "\n",
        "# 화면 전환\n",
        "pyautogui.keyDown('altleft')\n",
        "pyautogui.press(['tab'])\n",
        "time.sleep(1)\n",
        "pyautogui.keyUp('altleft')\n",
        "\n",
        "\n",
        "for i in range(10):  # 저장할 페이지 수 수정\n",
        "    screen = pyautogui.screenshot()\n",
        "    page = screen.crop((687, 130, 1310, 985))  # (좌,상,우,하) 좌표 수정\n",
        "    page.save(f'page{i:03d}.png')\n",
        "    pyautogui.press(['right'])\n"
      ]
    },
    {
      "cell_type": "code",
      "execution_count": null,
      "metadata": {
        "collapsed": true,
        "id": "_dOn_EsnzPRs"
      },
      "outputs": [],
      "source": [
        "import glob\n",
        "import os\n",
        "from reportlab.pdfgen import canvas\n",
        "from reportlab.lib.pagesizes import A4\n",
        "from PIL import Image\n",
        "\n",
        "flist = glob.glob('page*.png')\n",
        "\n",
        "c = canvas.Canvas('kindle.pdf', pagesize=A4)\n",
        "for fpath in flist:\n",
        "    im = Image.open(fpath)\n",
        "    w, h = im.size\n",
        "    r = w / h\n",
        "    w2 = A4[0]\n",
        "    h2 = w2 / r\n",
        "    c.drawImage(fpath, 0, 0, w2, h2)\n",
        "    c.showPage()\n",
        "c.save()"
      ]
    }
  ],
  "metadata": {
    "anaconda-cloud": {},
    "kernelspec": {
      "display_name": "Python 3",
      "language": "python",
      "name": "python3"
    },
    "language_info": {
      "codemirror_mode": {
        "name": "ipython",
        "version": 3
      },
      "file_extension": ".py",
      "mimetype": "text/x-python",
      "name": "python",
      "nbconvert_exporter": "python",
      "pygments_lexer": "ipython3",
      "version": "3.6.3"
    },
    "colab": {
      "name": "01장_키보드_마우스_자동화.ipynb",
      "provenance": [],
      "include_colab_link": true
    }
  },
  "nbformat": 4,
  "nbformat_minor": 0
}