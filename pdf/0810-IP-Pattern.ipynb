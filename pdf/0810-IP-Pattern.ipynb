{
  "nbformat": 4,
  "nbformat_minor": 0,
  "metadata": {
    "colab": {
      "provenance": [],
      "authorship_tag": "ABX9TyNC/L08Jf+GQnETcqYNfTpo",
      "include_colab_link": true
    },
    "kernelspec": {
      "name": "python3",
      "display_name": "Python 3"
    },
    "language_info": {
      "name": "python"
    }
  },
  "cells": [
    {
      "cell_type": "markdown",
      "metadata": {
        "id": "view-in-github",
        "colab_type": "text"
      },
      "source": [
        "<a href=\"https://colab.research.google.com/github/JSJeong-me/RPA-2023/blob/main/pdf/0810-IP-Pattern.ipynb\" target=\"_parent\"><img src=\"https://colab.research.google.com/assets/colab-badge.svg\" alt=\"Open In Colab\"/></a>"
      ]
    },
    {
      "cell_type": "code",
      "execution_count": 2,
      "metadata": {
        "colab": {
          "base_uri": "https://localhost:8080/"
        },
        "id": "jPy1MRi6O7o6",
        "outputId": "74f44822-528c-4d83-a2f2-7aff1b060fec"
      },
      "outputs": [
        {
          "output_type": "stream",
          "name": "stdout",
          "text": [
            "1.\n",
            "1\n"
          ]
        }
      ],
      "source": [
        "import re\n",
        "\n",
        "# Regex pattern to match IPv4 addresses\n",
        "pattern = r\"\\b((25[0-5]|2[0-4][0-9]|[01]?[0-9][0-9]?)(\\.|$)){4}\"\n",
        "string = \"My computer has the IP address 192.168.1.1. 127.0.0.1\"\n",
        "\n",
        "# Find all matches in the string\n",
        "matches = re.findall(pattern, string)\n",
        "\n",
        "# Print the full match for each match found\n",
        "for match in matches:\n",
        "    print(match[0])\n"
      ]
    },
    {
      "cell_type": "code",
      "source": [
        "import re\n",
        "\n",
        "text = \"Here are some IPs: 192.168.1.1, 10.0.0.1 and this is not an IP: 256.300.1.1\"\n",
        "\n",
        "# IPv4 주소를 찾기 위한 정규표현식\n",
        "ip_pattern = r'\\b(?:[0-9]{1,3}\\.){3}[0-9]{1,3}\\b'\n",
        "\n",
        "ips = re.findall(ip_pattern, text)\n",
        "\n",
        "# 결과 출력\n",
        "for ip in ips:\n",
        "    parts = ip.split('.')\n",
        "    if all(0 <= int(part) < 256 for part in parts):\n",
        "        print(ip)\n"
      ],
      "metadata": {
        "colab": {
          "base_uri": "https://localhost:8080/"
        },
        "id": "Vk13VK1zPKeG",
        "outputId": "2bbff186-8966-4a06-e109-12ea76fb4cec"
      },
      "execution_count": 3,
      "outputs": [
        {
          "output_type": "stream",
          "name": "stdout",
          "text": [
            "192.168.1.1\n",
            "10.0.0.1\n"
          ]
        }
      ]
    }
  ]
}