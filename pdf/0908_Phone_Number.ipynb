{
  "nbformat": 4,
  "nbformat_minor": 0,
  "metadata": {
    "colab": {
      "provenance": []
    },
    "kernelspec": {
      "name": "python3",
      "display_name": "Python 3"
    },
    "language_info": {
      "name": "python"
    }
  },
  "cells": [
    {
      "cell_type": "code",
      "execution_count": null,
      "metadata": {
        "id": "4bSJGY_7Zphu"
      },
      "outputs": [],
      "source": [
        "import pandas as pd\n",
        "import re"
      ]
    },
    {
      "cell_type": "code",
      "source": [
        "df =pd.read_excel('order-2.xlsx', sheet_name=10)"
      ],
      "metadata": {
        "id": "jjOTJTjfaMHX"
      },
      "execution_count": null,
      "outputs": []
    },
    {
      "cell_type": "code",
      "source": [
        "# p = /^[0-9]{3}[-]+[0-9]{4}[-]+[0-9]{4}$/"
      ],
      "metadata": {
        "id": "XGCJLbUeawAH"
      },
      "execution_count": null,
      "outputs": []
    },
    {
      "cell_type": "markdown",
      "source": [
        "  정규 필터식\t의미\n",
        "\n",
        "\n",
        "\n",
        "  \\w\t한 글자\n",
        "\n",
        "\n",
        "  \\w+\t한 단어\n",
        "\n",
        "  \\d\t정수 1자리\n",
        "\n",
        "  \\d+\t정수 전체\n",
        "\n",
        "  \\s\t공백 한칸\n",
        "\n",
        "  \\s+\t공백 전체\n",
        "\n",
        "  \\특수문자\t특수문자 구분"
      ],
      "metadata": {
        "id": "IUgpqquma4iG"
      }
    },
    {
      "cell_type": "code",
      "source": [
        "p = '\\d{3}s?-?\\d{4}\\s?-?\\d{4}'"
      ],
      "metadata": {
        "id": "ZyH3WhMTbaSO"
      },
      "execution_count": null,
      "outputs": []
    },
    {
      "cell_type": "code",
      "source": [
        "phone_num = []"
      ],
      "metadata": {
        "id": "xWic40SwgYSK"
      },
      "execution_count": null,
      "outputs": []
    },
    {
      "cell_type": "code",
      "source": [
        "for index, row in df.iterrows():\n",
        "  list_index = df.iloc[index].tolist()\n",
        "  for i in list_index:\n",
        "    # print(i, type(i))\n",
        "    if type(i) is str:\n",
        "      # print('Yes: {0}'.format(i))\n",
        "      m = re.match(pattern=p, string=i)\n",
        "      if m:\n",
        "        print(\"나 전화번호야!!!: {0}\\n\".format(i))\n",
        "        phone_num.append(i)"
      ],
      "metadata": {
        "id": "3CfD7FMdb_Ki"
      },
      "execution_count": null,
      "outputs": []
    },
    {
      "cell_type": "code",
      "source": [
        "phone_num"
      ],
      "metadata": {
        "id": "vrElmSMYgiLB"
      },
      "execution_count": null,
      "outputs": []
    },
    {
      "cell_type": "code",
      "source": [
        "set_num = set(phone_num)"
      ],
      "metadata": {
        "id": "g9OO1my-gypf"
      },
      "execution_count": null,
      "outputs": []
    },
    {
      "cell_type": "code",
      "source": [
        "set_num"
      ],
      "metadata": {
        "id": "vSgAXwKLhOGO"
      },
      "execution_count": null,
      "outputs": []
    },
    {
      "cell_type": "code",
      "source": [
        "phone_num = list(set_num)"
      ],
      "metadata": {
        "id": "bHnjjxuzhbD_"
      },
      "execution_count": null,
      "outputs": []
    },
    {
      "cell_type": "code",
      "source": [
        "phone_num"
      ],
      "metadata": {
        "id": "cLXf9Wrzhg82"
      },
      "execution_count": null,
      "outputs": []
    },
    {
      "cell_type": "code",
      "source": [],
      "metadata": {
        "id": "EUX0WOWghkAE"
      },
      "execution_count": null,
      "outputs": []
    },
    {
      "cell_type": "code",
      "source": [],
      "metadata": {
        "id": "7m9caNKQdPLq"
      },
      "execution_count": null,
      "outputs": []
    }
  ]
}