{
  "nbformat": 4,
  "nbformat_minor": 0,
  "metadata": {
    "colab": {
      "provenance": []
    },
    "kernelspec": {
      "name": "python3",
      "display_name": "Python 3"
    },
    "language_info": {
      "name": "python"
    }
  },
  "cells": [
    {
      "cell_type": "code",
      "source": [
        "data = [\n",
        "    \"40716543298\",\n",
        "    \"40791345621\",\n",
        "    \"40735416854\",\n",
        "    \"40733652145\",\n",
        "    \"40799885412\",\n",
        "    \"40733154268\",\n",
        "    \"40712462257\",\n",
        "    \"40731254562\",\n",
        "    \"40741785214\",\n",
        "    \"40731653845\"\n",
        "]\n",
        "\n",
        "formatted_data = [f\"{item[:3]}-{item[3:7]}-{item[7:]}\" for item in data]\n",
        "\n",
        "for number in formatted_data:\n",
        "    print(number)\n"
      ],
      "metadata": {
        "id": "eXY7Klb8JTB9",
        "outputId": "c695245a-09da-44d3-8387-3812230684d8",
        "colab": {
          "base_uri": "https://localhost:8080/"
        }
      },
      "execution_count": 1,
      "outputs": [
        {
          "output_type": "stream",
          "name": "stdout",
          "text": [
            "407-1654-3298\n",
            "407-9134-5621\n",
            "407-3541-6854\n",
            "407-3365-2145\n",
            "407-9988-5412\n",
            "407-3315-4268\n",
            "407-1246-2257\n",
            "407-3125-4562\n",
            "407-4178-5214\n",
            "407-3165-3845\n"
          ]
        }
      ]
    },
    {
      "cell_type": "code",
      "source": [],
      "metadata": {
        "id": "Sv8tocY-JTrI"
      },
      "execution_count": null,
      "outputs": []
    },
    {
      "cell_type": "code",
      "source": [],
      "metadata": {
        "id": "9WMknAOjJTol"
      },
      "execution_count": null,
      "outputs": []
    },
    {
      "cell_type": "code",
      "source": [],
      "metadata": {
        "id": "o1_gCOpPJTlh"
      },
      "execution_count": null,
      "outputs": []
    },
    {
      "cell_type": "code",
      "source": [],
      "metadata": {
        "id": "19hGSSn1JTiz"
      },
      "execution_count": null,
      "outputs": []
    },
    {
      "cell_type": "code",
      "execution_count": 2,
      "metadata": {
        "id": "4bSJGY_7Zphu"
      },
      "outputs": [],
      "source": [
        "import pandas as pd\n",
        "import re"
      ]
    },
    {
      "cell_type": "code",
      "source": [
        "df =pd.read_excel('challenge.xlsx')"
      ],
      "metadata": {
        "id": "jjOTJTjfaMHX"
      },
      "execution_count": 5,
      "outputs": []
    },
    {
      "cell_type": "code",
      "source": [
        "# p = /^[0-9]{3}[-]+[0-9]{4}[-]+[0-9]{4}$/"
      ],
      "metadata": {
        "id": "XGCJLbUeawAH"
      },
      "execution_count": null,
      "outputs": []
    },
    {
      "cell_type": "markdown",
      "source": [
        "  정규 필터식\t의미\n",
        "\n",
        "\n",
        "\n",
        "  \\w\t한 글자\n",
        "\n",
        "\n",
        "  \\w+\t한 단어\n",
        "\n",
        "  \\d\t정수 1자리\n",
        "\n",
        "  \\d+\t정수 전체\n",
        "\n",
        "  \\s\t공백 한칸\n",
        "\n",
        "  \\s+\t공백 전체\n",
        "\n",
        "  \\특수문자\t특수문자 구분"
      ],
      "metadata": {
        "id": "IUgpqquma4iG"
      }
    },
    {
      "cell_type": "code",
      "source": [
        "df"
      ],
      "metadata": {
        "id": "x7dTofi-K2Vi"
      },
      "execution_count": null,
      "outputs": []
    },
    {
      "cell_type": "code",
      "source": [
        "p = '\\d{3}s?-?\\d{4}\\s?-?\\d{4}'"
      ],
      "metadata": {
        "id": "ZyH3WhMTbaSO"
      },
      "execution_count": 6,
      "outputs": []
    },
    {
      "cell_type": "code",
      "source": [],
      "metadata": {
        "id": "pOVh_1Z5K1pJ"
      },
      "execution_count": null,
      "outputs": []
    },
    {
      "cell_type": "code",
      "source": [
        "phone_num = []"
      ],
      "metadata": {
        "id": "xWic40SwgYSK"
      },
      "execution_count": 9,
      "outputs": []
    },
    {
      "cell_type": "code",
      "source": [
        "for index, row in df.iterrows():\n",
        "  list_index = df.iloc[index].tolist()\n",
        "  for i in list_index:\n",
        "    # print(i, type(i))\n",
        "    if type(i) is str:\n",
        "      # print('Yes: {0}'.format(i))\n",
        "      m = re.match(pattern=p, string=i)\n",
        "      if m:\n",
        "        print(\"나 전화번호야!!!: {0}\\n\".format(i))\n",
        "        phone_num.append(i)"
      ],
      "metadata": {
        "id": "3CfD7FMdb_Ki",
        "outputId": "4f35e218-590b-47f0-b555-dbe4c909d74a",
        "colab": {
          "base_uri": "https://localhost:8080/"
        }
      },
      "execution_count": 10,
      "outputs": [
        {
          "output_type": "stream",
          "name": "stdout",
          "text": [
            "나 전화번호야!!!: 407-1654-3298\n",
            "\n",
            "나 전화번호야!!!: 407-9134-5621\n",
            "\n",
            "나 전화번호야!!!: 407-3541-6854\n",
            "\n",
            "나 전화번호야!!!: 407-3365-2145\n",
            "\n",
            "나 전화번호야!!!: 407-9988-5412\n",
            "\n",
            "나 전화번호야!!!: 407-3315-4268\n",
            "\n",
            "나 전화번호야!!!: 407-1246-2257\n",
            "\n",
            "나 전화번호야!!!: 407-3125-4562\n",
            "\n",
            "나 전화번호야!!!: 407-4178-5214\n",
            "\n",
            "나 전화번호야!!!: 407-3165-3845\n",
            "\n"
          ]
        }
      ]
    },
    {
      "cell_type": "code",
      "source": [
        "phone_num"
      ],
      "metadata": {
        "id": "vrElmSMYgiLB",
        "outputId": "1e907e9e-0ada-4236-ea2f-0f279ed616df",
        "colab": {
          "base_uri": "https://localhost:8080/"
        }
      },
      "execution_count": 11,
      "outputs": [
        {
          "output_type": "execute_result",
          "data": {
            "text/plain": [
              "['407-1654-3298',\n",
              " '407-9134-5621',\n",
              " '407-3541-6854',\n",
              " '407-3365-2145',\n",
              " '407-9988-5412',\n",
              " '407-3315-4268',\n",
              " '407-1246-2257',\n",
              " '407-3125-4562',\n",
              " '407-4178-5214',\n",
              " '407-3165-3845']"
            ]
          },
          "metadata": {},
          "execution_count": 11
        }
      ]
    },
    {
      "cell_type": "code",
      "source": [
        "set_num = set(phone_num)"
      ],
      "metadata": {
        "id": "g9OO1my-gypf"
      },
      "execution_count": 12,
      "outputs": []
    },
    {
      "cell_type": "code",
      "source": [
        "set_num"
      ],
      "metadata": {
        "id": "vSgAXwKLhOGO",
        "outputId": "53a3538d-c36b-475b-8f97-9f9ffea7f795",
        "colab": {
          "base_uri": "https://localhost:8080/"
        }
      },
      "execution_count": 13,
      "outputs": [
        {
          "output_type": "execute_result",
          "data": {
            "text/plain": [
              "{'407-1246-2257',\n",
              " '407-1654-3298',\n",
              " '407-3125-4562',\n",
              " '407-3165-3845',\n",
              " '407-3315-4268',\n",
              " '407-3365-2145',\n",
              " '407-3541-6854',\n",
              " '407-4178-5214',\n",
              " '407-9134-5621',\n",
              " '407-9988-5412'}"
            ]
          },
          "metadata": {},
          "execution_count": 13
        }
      ]
    },
    {
      "cell_type": "code",
      "source": [
        "phone_num = list(set_num)"
      ],
      "metadata": {
        "id": "bHnjjxuzhbD_"
      },
      "execution_count": 14,
      "outputs": []
    },
    {
      "cell_type": "code",
      "source": [
        "phone_num"
      ],
      "metadata": {
        "id": "cLXf9Wrzhg82",
        "outputId": "3781cba1-6eb7-426e-bae2-d2f8c292471a",
        "colab": {
          "base_uri": "https://localhost:8080/"
        }
      },
      "execution_count": 15,
      "outputs": [
        {
          "output_type": "execute_result",
          "data": {
            "text/plain": [
              "['407-4178-5214',\n",
              " '407-3315-4268',\n",
              " '407-3125-4562',\n",
              " '407-1246-2257',\n",
              " '407-3165-3845',\n",
              " '407-9134-5621',\n",
              " '407-9988-5412',\n",
              " '407-3541-6854',\n",
              " '407-3365-2145',\n",
              " '407-1654-3298']"
            ]
          },
          "metadata": {},
          "execution_count": 15
        }
      ]
    },
    {
      "cell_type": "code",
      "source": [],
      "metadata": {
        "id": "EUX0WOWghkAE"
      },
      "execution_count": null,
      "outputs": []
    },
    {
      "cell_type": "code",
      "source": [],
      "metadata": {
        "id": "7m9caNKQdPLq"
      },
      "execution_count": null,
      "outputs": []
    }
  ]
}