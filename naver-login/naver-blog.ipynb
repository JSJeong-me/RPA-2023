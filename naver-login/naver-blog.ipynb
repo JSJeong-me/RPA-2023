{
  "cells": [
    {
      "cell_type": "markdown",
      "metadata": {
        "id": "view-in-github",
        "colab_type": "text"
      },
      "source": [
        "<a href=\"https://colab.research.google.com/github/JSJeong-me/RPA-2023/blob/main/naver-login/naver-blog.ipynb\" target=\"_parent\"><img src=\"https://colab.research.google.com/assets/colab-badge.svg\" alt=\"Open In Colab\"/></a>"
      ]
    },
    {
      "cell_type": "code",
      "execution_count": null,
      "id": "4f39a33e-2331-4adf-88ac-56ad92045e4f",
      "metadata": {
        "id": "4f39a33e-2331-4adf-88ac-56ad92045e4f"
      },
      "outputs": [],
      "source": []
    },
    {
      "cell_type": "code",
      "execution_count": 1,
      "id": "be09f24e-a532-49c4-b1dc-aae12731372b",
      "metadata": {
        "id": "be09f24e-a532-49c4-b1dc-aae12731372b",
        "outputId": "da14b45c-be2f-476d-9e1d-faffbbeb0c43",
        "colab": {
          "base_uri": "https://localhost:8080/"
        }
      },
      "outputs": [
        {
          "output_type": "stream",
          "name": "stdout",
          "text": [
            "{\n",
            "\t\"lastBuildDate\":\"Tue, 13 Jun 2023 23:01:14 +0900\",\n",
            "\t\"total\":984949,\n",
            "\t\"start\":1,\n",
            "\t\"display\":10,\n",
            "\t\"items\":[\n",
            "\t\t{\n",
            "\t\t\t\"title\":\"후진엑셀 밟고 ‘좋아! 빠르게 가!’ 외친 <b>윤석열<\\/b> 1년\",\n",
            "\t\t\t\"link\":\"http:\\/\\/blog.jinbo.net\\/pulip41\\/19664\",\n",
            "\t\t\t\"description\":\"빠르게 가!’ 외친 <b>윤석열<\\/b> 1년 왜들 그러는 거여.. 2023\\/05\\/06 08:54 이필립 응답 RSS 입력 : 2023.05.06 08:30 정용인 기자 1 미국을 국빈 방문 중인 <b>윤석열<\\/b> 대통령과 김건희 여사가 4월 27일(현지시간) 워싱턴 앤드루스... \",\n",
            "\t\t\t\"bloggername\":\"RSS redirection error, please ask to administrator.\",\n",
            "\t\t\t\"bloggerlink\":\"http:\\/\\/blog.jinbo.net\\/\",\n",
            "\t\t\t\"postdate\":\"20230506\"\n",
            "\t\t},\n",
            "\t\t{\n",
            "\t\t\t\"title\":\"☔빗속 촛불 대행진…시민들 &quot;국민 거부한 <b>윤석열<\\/b>, 우리가 거부... \",\n",
            "\t\t\t\"link\":\"http:\\/\\/blog.moneta.co.kr\\/blog.log.view.screen?blogId=pia0212&logId=8417292\",\n",
            "\t\t\t\"description\":\"<b>윤석열<\\/b>, 우리가 거부&quot; 무책임한 후쿠시마 오염수 대처, 거부권 남발 성토 양이원영 “후쿠시마 시찰단 국회 청문회 실시” 권영국 “위헌 ‘야간 집회 금지’ 재추진 여당 규탄” 30돌 맞은 한총련 “<b>윤석열<\\/b>... \",\n",
            "\t\t\t\"bloggername\":\"http:\\/\\/blog.moneta.co.kr\\/\",\n",
            "\t\t\t\"bloggerlink\":\"http:\\/\\/blog.moneta.co.kr\\/\",\n",
            "\t\t\t\"postdate\":\"20230528\"\n",
            "\t\t},\n",
            "\t\t{\n",
            "\t\t\t\"title\":\"[후기]<b>윤석열<\\/b> 정부 지난 1년, 여성정책 돌아보기\",\n",
            "\t\t\t\"link\":\"https:\\/\\/stoprape.or.kr\\/1294\",\n",
            "\t\t\t\"description\":\"상담소는 지금 [후기]<b>윤석열<\\/b> 정부 지난 1년, 여성정책 돌아보기 상담소 2023. 5. 31. 19:03 ‘여성가족부 폐지’, ‘성폭력 무고죄 강화’ 등을 내세운 <b>윤석열<\\/b> 대통령이 취임한 지 1년을 맞아 현 정부의 여성정책을... \",\n",
            "\t\t\t\"bloggername\":\"뛴다! 한국성폭력상담소\",\n",
            "\t\t\t\"bloggerlink\":\"https:\\/\\/stoprape.or.kr\\/\",\n",
            "\t\t\t\"postdate\":\"20230531\"\n",
            "\t\t},\n",
            "\t\t{\n",
            "\t\t\t\"title\":\"[홍준일 정국분석] <b>윤석열<\\/b> 대통령 상대를 ‘적’으로 규정하는... \",\n",
            "\t\t\t\"link\":\"https:\\/\\/gnhong.com\\/3847\",\n",
            "\t\t\t\"description\":\"정치평론\\/<b>윤석열<\\/b> 대통령 [홍준일 정국분석] <b>윤석열<\\/b> 대통령 상대를 ‘적’으로 규정하는 ‘대결정치’ 세상을 널리 이롭게 하라 2023. 6. 6. 15:13 국민을 '적'으로 규정...국민은 이런 대통령 원하지 않아 출처... \",\n",
            "\t\t\t\"bloggername\":\"홍준일이 말합니다.\",\n",
            "\t\t\t\"bloggerlink\":\"https:\\/\\/gnhong.com\\/\",\n",
            "\t\t\t\"postdate\":\"20230606\"\n",
            "\t\t},\n",
            "\t\t{\n",
            "\t\t\t\"title\":\"TV 동물농장 <b>윤석열<\\/b> 윤대통령 재방송 다시보기 윤석렬 게시판... \",\n",
            "\t\t\t\"link\":\"https:\\/\\/blog.naver.com\\/shieldmaster\\/223114591264\",\n",
            "\t\t\t\"description\":\"#tv동물농장 #tv동물농장재방송 #동물농장<b>윤석열<\\/b> #동물농장윤석렬 #동물농장윤대통령 #동물농장게시판 TV 동물농장 <b>윤석열<\\/b> 윤대통령 재방송 다시보기 tv동물농장은 인간 중심적인 사회 구조를 넘어선 새로운... \",\n",
            "\t\t\t\"bloggername\":\"엑스펠 썬팅 공식대리점\",\n",
            "\t\t\t\"bloggerlink\":\"blog.naver.com\\/shieldmaster\",\n",
            "\t\t\t\"postdate\":\"20230529\"\n",
            "\t\t},\n",
            "\t\t{\n",
            "\t\t\t\"title\":\"[검찰독재] <b>윤석열<\\/b> 정부 6.10 민주항쟁 기념식 불참이 가져올... \",\n",
            "\t\t\t\"link\":\"https:\\/\\/blog.naver.com\\/davidrheejk\\/223125685317\",\n",
            "\t\t\t\"description\":\"이유같지도 않은 이유를 들어 <b>윤석열<\\/b> 정부가 6.10 민주항쟁 기념식에 불참했으니 말이다. 이는 민주항쟁... 아닌 <b>윤석열<\\/b> 1인독재, 검찰국가임을 스스로 자인한 꼴이다. 오죽했으면 민주당 이재명 대표가, &quot;(이같은... \",\n",
            "\t\t\t\"bloggername\":\"시(詩)굽는 마을\",\n",
            "\t\t\t\"bloggerlink\":\"blog.naver.com\\/davidrheejk\",\n",
            "\t\t\t\"postdate\":\"20230611\"\n",
            "\t\t},\n",
            "\t\t{\n",
            "\t\t\t\"title\":\"미국도 못하는 중국과의 디커플링, <b>윤석열<\\/b> 정부가 하겠다는... \",\n",
            "\t\t\t\"link\":\"https:\\/\\/blog.naver.com\\/yong_hyein\\/223127464716\",\n",
            "\t\t\t\"description\":\"《미국도 못하는 중국과의 디커플링, <b>윤석열<\\/b> 정부가 하겠다는 것일까요》 싱하이밍 주한 중국대사가... 하지만 <b>윤석열<\\/b> 정부의 대중 외교는 이런 상식적인 판단에 반해 양국 사이의 불필요한 긴장을 높이는... \",\n",
            "\t\t\t\"bloggername\":\"기본소득당 국회의원 용혜인\",\n",
            "\t\t\t\"bloggerlink\":\"blog.naver.com\\/yong_hyein\",\n",
            "\t\t\t\"postdate\":\"20230613\"\n",
            "\t\t},\n",
            "\t\t{\n",
            "\t\t\t\"title\":\"골든타임 놓친 <b>윤석열<\\/b>은 문재인과 콜라보로 중산층 뿌리... \",\n",
            "\t\t\t\"link\":\"https:\\/\\/blog.naver.com\\/catiya\\/223123533923\",\n",
            "\t\t\t\"description\":\"참여연대 개쓰레기들이 <b>윤석열<\\/b>의 대출규제완화 유동성 공급을 비판해? 왜 갑자기 니들이 옳은 소리... (뭐 코로나가 주 원흉이라하니 인정해줘보자.) 어찌저찌 문재인의 수라장 시대가 가고 <b>윤석열<\\/b>의 시대인데... \",\n",
            "\t\t\t\"bloggername\":\"Back to the 자유민주주의\",\n",
            "\t\t\t\"bloggerlink\":\"blog.naver.com\\/catiya\",\n",
            "\t\t\t\"postdate\":\"20230608\"\n",
            "\t\t},\n",
            "\t\t{\n",
            "\t\t\t\"title\":\"더불어민주당 검찰독재정치탄압대책위원회, <b>윤석열<\\/b> 정부는... \",\n",
            "\t\t\t\"link\":\"https:\\/\\/blog.naver.com\\/bkfire1004\\/223120961647\",\n",
            "\t\t\t\"description\":\"자 보도자료입니다.) 첨부파일 230531_기자회견_검찰독재정치탄압대책위원회.hwp <b>윤석열<\\/b> 정부는 부당한... <b>윤석열<\\/b> 정권의 공포정치가 언론 탄압을 넘어서 의정 탄압으로까지 번져오고 있다. 인사청문회는 국민을... \",\n",
            "\t\t\t\"bloggername\":\"국회의원 박범계\",\n",
            "\t\t\t\"bloggerlink\":\"blog.naver.com\\/bkfire1004\",\n",
            "\t\t\t\"postdate\":\"20230605\"\n",
            "\t\t},\n",
            "\t\t{\n",
            "\t\t\t\"title\":\"문재인 vs <b>윤석열<\\/b> 경제성장 비교\",\n",
            "\t\t\t\"link\":\"https:\\/\\/blog.naver.com\\/lightcontrol\\/223110287795\",\n",
            "\t\t\t\"description\":\"<b>윤석열<\\/b> 정권 들어13개월 연속 적자 행진중... 문재인 정부 vs <b>윤석열<\\/b>정부 경제성장 비교 ● 경제 성장률 문재인 정부 5년 동안 중국을 제외한 경제성장률 1위다. 한국 12%, 일본 -1.0%, 미국 11.3%, G7 7.3... \",\n",
            "\t\t\t\"bloggername\":\"lightcontrol(등화관제)님의 블로그\",\n",
            "\t\t\t\"bloggerlink\":\"blog.naver.com\\/lightcontrol\",\n",
            "\t\t\t\"postdate\":\"20230524\"\n",
            "\t\t}\n",
            "\t]\n",
            "}\n"
          ]
        }
      ],
      "source": [
        "# 네이버 검색 API예제는 블로그를 비롯 전문자료까지 호출방법이 동일하므로 blog검색만 대표로 예제를 올렸습니다.\n",
        "# 네이버 검색 Open API 예제 - 블로그 검색\n",
        "import os\n",
        "import sys\n",
        "import urllib.request\n",
        "client_id = \"SGVvZUTMZnJcQVAGgaDd\"\n",
        "client_secret = \"_223cf4HLi\"\n",
        "encText = urllib.parse.quote(\"윤석열\")\n",
        "url = \"https://openapi.naver.com/v1/search/blog?query=\" + encText # json 결과\n",
        "# url = \"https://openapi.naver.com/v1/search/blog.xml?query=\" + encText # xml 결과\n",
        "request = urllib.request.Request(url)\n",
        "request.add_header(\"X-Naver-Client-Id\",client_id)\n",
        "request.add_header(\"X-Naver-Client-Secret\",client_secret)\n",
        "response = urllib.request.urlopen(request)\n",
        "rescode = response.getcode()\n",
        "if(rescode==200):\n",
        "    response_body = response.read()\n",
        "    print(response_body.decode('utf-8'))\n",
        "else:\n",
        "    print(\"Error Code:\" + rescode)"
      ]
    },
    {
      "cell_type": "code",
      "execution_count": null,
      "id": "2a4ef2f7-6be3-4e7b-9397-2562db655176",
      "metadata": {
        "id": "2a4ef2f7-6be3-4e7b-9397-2562db655176"
      },
      "outputs": [],
      "source": []
    }
  ],
  "metadata": {
    "kernelspec": {
      "display_name": "Python we",
      "language": "python",
      "name": "we"
    },
    "language_info": {
      "codemirror_mode": {
        "name": "ipython",
        "version": 3
      },
      "file_extension": ".py",
      "mimetype": "text/x-python",
      "name": "python",
      "nbconvert_exporter": "python",
      "pygments_lexer": "ipython3",
      "version": "3.8.12"
    },
    "colab": {
      "provenance": [],
      "include_colab_link": true
    }
  },
  "nbformat": 4,
  "nbformat_minor": 5
}