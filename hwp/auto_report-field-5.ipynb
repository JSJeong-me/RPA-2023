{
 "cells": [
  {
   "cell_type": "markdown",
   "metadata": {},
   "source": [
    "### Hangul\n",
    "### Example 2 Table Input"
   ]
  },
  {
   "cell_type": "code",
   "execution_count": 25,
   "metadata": {},
   "outputs": [],
   "source": [
    "import win32com.client as win32\n",
    "import win32gui\n",
    "import shutil  # 파일복사용 모듈\n",
    "import time\n",
    "import os"
   ]
  },
  {
   "cell_type": "code",
   "execution_count": 26,
   "metadata": {},
   "outputs": [
    {
     "data": {
      "text/plain": [
       "True"
      ]
     },
     "execution_count": 26,
     "metadata": {},
     "output_type": "execute_result"
    }
   ],
   "source": [
    "#hwp = win32.gencache.EnsureDispatch(\"HWPFrame.HwpObject\")  # Word.application\n",
    "# https://martinii.fun/246\n",
    "\n",
    "hwp = win32.gencache.EnsureDispatch('HWPFrame.HwpObject')\n",
    "hwp.RegisterModule(\"FilePathCheckDLL\", \"SecurityModule\")  # 보안모듈"
   ]
  },
  {
   "cell_type": "code",
   "execution_count": null,
   "metadata": {},
   "outputs": [],
   "source": []
  },
  {
   "cell_type": "code",
   "execution_count": 27,
   "metadata": {},
   "outputs": [],
   "source": [
    "import pandas as pd\n",
    "import numpy as np"
   ]
  },
  {
   "cell_type": "code",
   "execution_count": 28,
   "metadata": {},
   "outputs": [
    {
     "name": "stdout",
     "output_type": "stream",
     "text": [
      "C:\\Users\\oakyo\\Desktop\\Python_RPA-main\\hwp\n"
     ]
    }
   ],
   "source": [
    "%cd C:\\Users\\oakyo\\Desktop\\Python_RPA-main\\hwp"
   ]
  },
  {
   "cell_type": "code",
   "execution_count": null,
   "metadata": {},
   "outputs": [],
   "source": [
    "# file_name = \"C:\\Users\\oakyo\\Desktop\\Python_RPA-main\\hwp\\report.hwp\""
   ]
  },
  {
   "cell_type": "code",
   "execution_count": 29,
   "metadata": {},
   "outputs": [
    {
     "data": {
      "text/plain": [
       "True"
      ]
     },
     "execution_count": 29,
     "metadata": {},
     "output_type": "execute_result"
    }
   ],
   "source": [
    "hwp.Open(r\"C:\\Users\\oakyo\\Desktop\\Python_RPA-main\\hwp\\report.hwp\",\"HWP\",None)"
   ]
  },
  {
   "cell_type": "code",
   "execution_count": 30,
   "metadata": {},
   "outputs": [],
   "source": [
    "hwp.GetFieldList(\"HWP\",None)\n",
    "\n",
    "field_list = [i for i in hwp.GetFieldList(\"HWP\",None).split(\"\\x02\")]  # 한/글 안의 누름틀 목록 불러오기"
   ]
  },
  {
   "cell_type": "code",
   "execution_count": 31,
   "metadata": {},
   "outputs": [
    {
     "data": {
      "text/plain": [
       "['note', 'zoom', 'date', 'time', 'person', 'students', 'content0', 'url']"
      ]
     },
     "execution_count": 31,
     "metadata": {},
     "output_type": "execute_result"
    }
   ],
   "source": [
    "field_list"
   ]
  },
  {
   "cell_type": "code",
   "execution_count": 32,
   "metadata": {},
   "outputs": [],
   "source": [
    "# ['date', 'time', 'person', 'content0']\n",
    "\n",
    "DATE = '2022-11-11'\n",
    "HOURS = '15:00'\n",
    "PERSON = '15'\n",
    "CONTENTS = '한글문서 자동화'\n",
    "URL = 'http://localhost:8888/lab/tree/Desktop/Python_RPA-main/hwp/auto_report-field-5.ipynb'\n",
    "NOTES = 'cat0.jpg'\n",
    "ZOOM = 'dog1.jpg'"
   ]
  },
  {
   "cell_type": "code",
   "execution_count": 33,
   "metadata": {},
   "outputs": [],
   "source": [
    "time.sleep(1)\n",
    "hwp.PutFieldText('date', DATE)\n",
    "hwp.PutFieldText('time', HOURS)\n",
    "hwp.PutFieldText('person', PERSON)\n",
    "hwp.PutFieldText('students', PERSON)\n",
    "hwp.PutFieldText('content0', CONTENTS)\n",
    "hwp.PutFieldText('url', URL)\n",
    "time.sleep(1)"
   ]
  },
  {
   "cell_type": "code",
   "execution_count": 34,
   "metadata": {},
   "outputs": [
    {
     "data": {
      "text/plain": [
       "True"
      ]
     },
     "execution_count": 34,
     "metadata": {},
     "output_type": "execute_result"
    }
   ],
   "source": [
    "hwp.HAction.GetDefault(\"TablePropertyDialog\", hwp.HParameterSet.HShapeObject.HSet)\n",
    "hwp.HParameterSet.HShapeObject.ShapeTableCell.Editable = 1\n",
    "hwp.HParameterSet.HShapeObject.ShapeTableCell.CellCtrlData.name = f\"note\"\n",
    "hwp.HAction.Execute(\"TablePropertyDialog\", hwp.HParameterSet.HShapeObject.HSet)"
   ]
  },
  {
   "cell_type": "code",
   "execution_count": null,
   "metadata": {},
   "outputs": [],
   "source": [
    "# hwp.HParameterSet.HTableCreation.TableProperties.TreatAsChar = 1"
   ]
  },
  {
   "cell_type": "code",
   "execution_count": null,
   "metadata": {},
   "outputs": [],
   "source": [
    "hwp.HAction.GetDefault(\"TablePropertyDialog\", hwp.HParameterSet.HShapeObject.HSet)"
   ]
  },
  {
   "cell_type": "code",
   "execution_count": null,
   "metadata": {},
   "outputs": [],
   "source": [
    "hwp.HParameterSet.HShapeObject.ShapeTableCell.Editable = 1"
   ]
  },
  {
   "cell_type": "code",
   "execution_count": null,
   "metadata": {},
   "outputs": [],
   "source": [
    "hwp.HParameterSet.HShapeObject.ShapeTableCell.CellCtrlData.name = f\"note\""
   ]
  },
  {
   "cell_type": "code",
   "execution_count": null,
   "metadata": {},
   "outputs": [],
   "source": [
    "hwp.HAction.Execute(\"TablePropertyDialog\", hwp.HParameterSet.HShapeObject.HSet)"
   ]
  },
  {
   "cell_type": "code",
   "execution_count": null,
   "metadata": {},
   "outputs": [],
   "source": [
    "hwp.HAction.Run(\"TableRightCell\")"
   ]
  },
  {
   "cell_type": "code",
   "execution_count": null,
   "metadata": {},
   "outputs": [],
   "source": [
    "hwp.HAction.Run(\"TableRightCell\")\n",
    "hwp.HAction.Run(\"TableRightCell\")\n",
    "hwp.HAction.Run(\"TableRightCell\")"
   ]
  },
  {
   "cell_type": "code",
   "execution_count": null,
   "metadata": {},
   "outputs": [],
   "source": [
    "hwp.HAction.GetDefault(\"TablePropertyDialog\", hwp.HParameterSet.HShapeObject.HSet)\n",
    "hwp.HParameterSet.HShapeObject.ShapeTableCell.Editable = 1\n",
    "hwp.HParameterSet.HShapeObject.ShapeTableCell.CellCtrlData.name = f\"zoom\"\n",
    "hwp.HAction.Execute(\"TablePropertyDialog\", hwp.HParameterSet.HShapeObject.HSet)"
   ]
  },
  {
   "cell_type": "code",
   "execution_count": 38,
   "metadata": {},
   "outputs": [],
   "source": [
    "BASE_DIR = 'C:\\\\Users\\\\oakyo\\\\Desktop\\\\Python_RPA-main\\\\hwp\\\\'\n",
    "BASE_DIR_IMAGE = 'C:\\\\Users\\\\oakyo\\\\Desktop\\\\Python_RPA-main\\hwp\\\\'"
   ]
  },
  {
   "cell_type": "code",
   "execution_count": 39,
   "metadata": {},
   "outputs": [
    {
     "data": {
      "text/plain": [
       "<win32com.gen_py.HwpObject 1.0 Type Library.IDHwpCtrlCode instance at 0x1966450998816>"
      ]
     },
     "execution_count": 39,
     "metadata": {},
     "output_type": "execute_result"
    }
   ],
   "source": [
    "hwp.MoveToField('note')  # 해당 필드로 이동\n",
    "hwp.InsertPicture(os.path.join(BASE_DIR, NOTES), Embedded=True,\n",
    "                  sizeoption=3)  # 이미지 삽입"
   ]
  },
  {
   "cell_type": "code",
   "execution_count": 40,
   "metadata": {},
   "outputs": [
    {
     "data": {
      "text/plain": [
       "<win32com.gen_py.HwpObject 1.0 Type Library.IDHwpCtrlCode instance at 0x1966411476512>"
      ]
     },
     "execution_count": 40,
     "metadata": {},
     "output_type": "execute_result"
    }
   ],
   "source": [
    "time.sleep(1)\n",
    "\n",
    "hwp.MoveToField('zoom')  # 해당 필드로 이동\n",
    "hwp.InsertPicture(os.path.join(BASE_DIR_IMAGE, ZOOM), Embedded=True,\n",
    "                  sizeoption=3)  # 이미지 삽입"
   ]
  },
  {
   "cell_type": "code",
   "execution_count": 37,
   "metadata": {},
   "outputs": [],
   "source": [
    "time.sleep(1)\n",
    "hwp.Save(\"HWP\")\n",
    "time.sleep(1)"
   ]
  },
  {
   "cell_type": "code",
   "execution_count": null,
   "metadata": {},
   "outputs": [],
   "source": [
    "hwp.Quit()"
   ]
  },
  {
   "cell_type": "code",
   "execution_count": null,
   "metadata": {},
   "outputs": [],
   "source": []
  },
  {
   "cell_type": "code",
   "execution_count": null,
   "metadata": {},
   "outputs": [],
   "source": []
  },
  {
   "cell_type": "code",
   "execution_count": null,
   "metadata": {},
   "outputs": [],
   "source": []
  },
  {
   "cell_type": "code",
   "execution_count": null,
   "metadata": {},
   "outputs": [],
   "source": []
  },
  {
   "cell_type": "code",
   "execution_count": null,
   "metadata": {},
   "outputs": [],
   "source": []
  },
  {
   "cell_type": "code",
   "execution_count": null,
   "metadata": {},
   "outputs": [],
   "source": []
  },
  {
   "cell_type": "code",
   "execution_count": null,
   "metadata": {},
   "outputs": [],
   "source": []
  },
  {
   "cell_type": "code",
   "execution_count": null,
   "metadata": {},
   "outputs": [],
   "source": [
    "'''\n",
    "page = 1\n",
    "for field in field_list:  # 모든 누름틀에 각각,\n",
    "        hwp.MoveToField(f'{field}{{{{{page}}}}}')  # 커서를 해당 누름틀로 이동(작성과정을 지켜보기 위함. 없어도 무관)\n",
    "        hwp.PutFieldText(f'{field}{{{{{page}}}}}',  # f\"{{{{{page}}}}}\"는 \"{{1}}\"로 입력된다. {를 출력하려면 {{를 입력.\n",
    "                         excel[field].iloc[page])  # hwp.PutFieldText(\"index{{1}}\") 식으로 실행될 것.\n",
    "    print(f'{page + 1}:{excel.name[page]}')  # 현재 입력이 진행되고 있는 한/글문서 페이지번호를 콘솔창에 출력\n",
    "'''"
   ]
  },
  {
   "cell_type": "code",
   "execution_count": null,
   "metadata": {},
   "outputs": [],
   "source": [
    "# hwp.MoveToField(j)  # 해당 필드로 이동\n",
    "# hwp.InsertPicture(os.path.join(BASE_DIR, f\"{content + j.split('_', maxsplit=1)[1]}.png\"), Embedded=True,\n",
    "#                   sizeoption=3)  # 이미지 삽입"
   ]
  },
  {
   "cell_type": "code",
   "execution_count": null,
   "metadata": {},
   "outputs": [],
   "source": []
  },
  {
   "cell_type": "code",
   "execution_count": null,
   "metadata": {},
   "outputs": [],
   "source": []
  },
  {
   "cell_type": "code",
   "execution_count": null,
   "metadata": {},
   "outputs": [],
   "source": []
  }
 ],
 "metadata": {
  "kernelspec": {
   "display_name": "Python 3 (ipykernel)",
   "language": "python",
   "name": "python3"
  },
  "language_info": {
   "codemirror_mode": {
    "name": "ipython",
    "version": 3
   },
   "file_extension": ".py",
   "mimetype": "text/x-python",
   "name": "python",
   "nbconvert_exporter": "python",
   "pygments_lexer": "ipython3",
   "version": "3.9.12"
  }
 },
 "nbformat": 4,
 "nbformat_minor": 4
}
