{
  "nbformat": 4,
  "nbformat_minor": 0,
  "metadata": {
    "colab": {
      "name": "Untitled2.ipynb",
      "provenance": [],
      "authorship_tag": "ABX9TyM0zYY44pcsM08BqXhPOBOd",
      "include_colab_link": true
    },
    "kernelspec": {
      "name": "python3",
      "display_name": "Python 3"
    },
    "language_info": {
      "name": "python"
    }
  },
  "cells": [
    {
      "cell_type": "markdown",
      "metadata": {
        "id": "view-in-github",
        "colab_type": "text"
      },
      "source": [
        "<a href=\"https://colab.research.google.com/github/JSJeong-me/Python_RPA/blob/main/excel/0-xlsxwriter.ipynb\" target=\"_parent\"><img src=\"https://colab.research.google.com/assets/colab-badge.svg\" alt=\"Open In Colab\"/></a>"
      ]
    },
    {
      "cell_type": "code",
      "source": [
        "!pip install XlsxWriter"
      ],
      "metadata": {
        "colab": {
          "base_uri": "https://localhost:8080/"
        },
        "id": "Ya1ke-GjGmjr",
        "outputId": "3f8bd278-40f6-480b-d6bc-422023deaa22"
      },
      "execution_count": 2,
      "outputs": [
        {
          "output_type": "stream",
          "name": "stdout",
          "text": [
            "Looking in indexes: https://pypi.org/simple, https://us-python.pkg.dev/colab-wheels/public/simple/\n",
            "Collecting XlsxWriter\n",
            "  Downloading XlsxWriter-3.0.3-py3-none-any.whl (149 kB)\n",
            "\u001b[K     |████████████████████████████████| 149 kB 5.0 MB/s \n",
            "\u001b[?25hInstalling collected packages: XlsxWriter\n",
            "Successfully installed XlsxWriter-3.0.3\n"
          ]
        }
      ]
    },
    {
      "cell_type": "code",
      "execution_count": 3,
      "metadata": {
        "colab": {
          "base_uri": "https://localhost:8080/"
        },
        "id": "zYCRRzF1GYcL",
        "outputId": "20e830e5-c425-48a0-ee81-e3458885f8ee"
      },
      "outputs": [
        {
          "output_type": "stream",
          "name": "stderr",
          "text": [
            "/usr/local/lib/python3.7/dist-packages/xlsxwriter/worksheet.py:1439: UserWarning: Image file 'logo.png' not found.\n",
            "  warn(\"Image file '%s' not found.\" % filename)\n"
          ]
        }
      ],
      "source": [
        "##############################################################################\n",
        "#\n",
        "# A simple example of some of the features of the XlsxWriter Python module.\n",
        "#\n",
        "# SPDX-License-Identifier: BSD-2-Clause\n",
        "# Copyright 2013-2022, John McNamara, jmcnamara@cpan.org\n",
        "#\n",
        "import xlsxwriter\n",
        "\n",
        "\n",
        "# Create an new Excel file and add a worksheet.\n",
        "workbook = xlsxwriter.Workbook('demo.xlsx')\n",
        "worksheet = workbook.add_worksheet()\n",
        "\n",
        "# Widen the first column to make the text clearer.\n",
        "worksheet.set_column('A:A', 20)\n",
        "\n",
        "# Add a bold format to use to highlight cells.\n",
        "bold = workbook.add_format({'bold': True})\n",
        "\n",
        "# Write some simple text.\n",
        "worksheet.write('A1', 'Hello')\n",
        "\n",
        "# Text with formatting.\n",
        "worksheet.write('A2', 'World', bold)\n",
        "\n",
        "# Write some numbers, with row/column notation.\n",
        "worksheet.write(2, 0, 123)\n",
        "worksheet.write(3, 0, 123.456)\n",
        "\n",
        "# Insert an image.\n",
        "worksheet.insert_image('B5', 'logo.png')\n",
        "\n",
        "workbook.close()"
      ]
    }
  ]
}