{
  "nbformat": 4,
  "nbformat_minor": 0,
  "metadata": {
    "colab": {
      "name": "Untitled8.ipynb",
      "provenance": [],
      "authorship_tag": "ABX9TyN/3SfFnIP6acE42ULk+GQf",
      "include_colab_link": true
    },
    "kernelspec": {
      "name": "python3",
      "display_name": "Python 3"
    },
    "language_info": {
      "name": "python"
    }
  },
  "cells": [
    {
      "cell_type": "markdown",
      "metadata": {
        "id": "view-in-github",
        "colab_type": "text"
      },
      "source": [
        "<a href=\"https://colab.research.google.com/github/JSJeong-me/Python_RPA/blob/main/excel/2-excel.ipynb\" target=\"_parent\"><img src=\"https://colab.research.google.com/assets/colab-badge.svg\" alt=\"Open In Colab\"/></a>"
      ]
    },
    {
      "cell_type": "markdown",
      "source": [
        "### 파이썬 엑셀 다루기 - openpyxl 사용법\n",
        "\n",
        "파이썬을 통해서 엑셀파일을 불러오고 데이터를 입력하는 방법에 대해서 알아볼게요.\n",
        "\n",
        "openpyxl은 파이썬에서 엑셀을 다루는 것을 쉽게 해주는 도구입니다."
      ],
      "metadata": {
        "id": "3dC57X32wtv9"
      }
    },
    {
      "cell_type": "code",
      "execution_count": 1,
      "metadata": {
        "colab": {
          "base_uri": "https://localhost:8080/"
        },
        "id": "sXXuPeYcwsOn",
        "outputId": "40a359d0-b8ee-4398-d30c-8adf50bc5a2d"
      },
      "outputs": [
        {
          "output_type": "stream",
          "name": "stdout",
          "text": [
            "Looking in indexes: https://pypi.org/simple, https://us-python.pkg.dev/colab-wheels/public/simple/\n",
            "Requirement already satisfied: openpyxl in /usr/local/lib/python3.7/dist-packages (3.0.10)\n",
            "Requirement already satisfied: et-xmlfile in /usr/local/lib/python3.7/dist-packages (from openpyxl) (1.1.0)\n"
          ]
        }
      ],
      "source": [
        "!pip install openpyxl"
      ]
    },
    {
      "cell_type": "markdown",
      "source": [
        "### Excel 에 데이터 쓰기"
      ],
      "metadata": {
        "id": "MzL4sPn6w7Pm"
      }
    },
    {
      "cell_type": "code",
      "source": [
        " from openpyxl import Workbook\n",
        "\n",
        "# 엑셀파일 쓰기\n",
        "write_wb = Workbook()\n",
        "\n",
        "# 이름이 있는 시트를 생성\n",
        "write_ws = write_wb.create_sheet('생성시트')\n",
        "\n",
        "# Sheet1에다 입력\n",
        "write_ws = write_wb.active\n",
        "write_ws['A1'] = '숫자'\n",
        "\n",
        "#행 단위로 추가\n",
        "write_ws.append([1,2,3])\n",
        "\n",
        "#셀 단위로 추가\n",
        "write_ws.cell(5, 5, '5행5열')\n",
        "write_wb.save('./숫자.xlsx')"
      ],
      "metadata": {
        "id": "io8CzcuQw4qQ"
      },
      "execution_count": 3,
      "outputs": []
    },
    {
      "cell_type": "markdown",
      "source": [
        "### Excel 데이터 읽기"
      ],
      "metadata": {
        "id": "j9rvk9SuxQ4W"
      }
    },
    {
      "cell_type": "code",
      "source": [
        "from openpyxl import load_workbook\n",
        "\n",
        "# data_only=True로 해줘야 수식이 아닌 값으로 받아온다. \n",
        "load_wb = load_workbook(\"./숫자.xlsx\", data_only=True)\n",
        "# 시트 이름으로 불러오기 \n",
        "load_ws = load_wb['Sheet']\n",
        "\n",
        "# 셀 주소로 값 출력\n",
        "print(load_ws['B2'].value)\n",
        "\n",
        "# 셀 좌표로 값 출력\n",
        "print(load_ws.cell(3, 2).value)\n",
        "\n",
        "\n",
        "# 지정한 셀의 값 출력\n",
        "\n",
        "get_cells = load_ws['B3' : 'B6']\n",
        "for row in get_cells:\n",
        "    for cell in row:\n",
        "        print(cell.value)\n",
        "\n",
        "# 모든 행 단위로 출력\n",
        "\n",
        "for row in load_ws.rows:\n",
        "    print(row)\n",
        "\n",
        "# 모든 열 단위로 출력\n",
        "\n",
        "for column in load_ws.columns:\n",
        "    print(column)\n",
        "\n",
        "# 모든 행과 열 출력\n",
        "\n",
        "all_values = []\n",
        "for row in load_ws.rows:\n",
        "    row_value = []\n",
        "    for cell in row:\n",
        "        row_value.append(cell.value)\n",
        "    all_values.append(row_value)\n",
        "print(all_values)\n",
        "\n",
        "load_ws.cell(3, 3, 51470)\n",
        "load_ws.cell(4, 3, 21470)\n",
        "load_ws.cell(5, 3, 1470)\n",
        "load_ws.cell(6, 3, 6470)\n",
        "load_wb.save(\"./숫자.xlsx\")"
      ],
      "metadata": {
        "colab": {
          "base_uri": "https://localhost:8080/"
        },
        "id": "FQsD8EfsxQWb",
        "outputId": "06614c49-a2b0-42aa-8988-de32e56aa782"
      },
      "execution_count": 6,
      "outputs": [
        {
          "output_type": "stream",
          "name": "stdout",
          "text": [
            "2\n",
            "None\n",
            "None\n",
            "None\n",
            "None\n",
            "None\n",
            "(<Cell 'Sheet'.A1>, <Cell 'Sheet'.B1>, <Cell 'Sheet'.C1>, <Cell 'Sheet'.D1>, <Cell 'Sheet'.E1>)\n",
            "(<Cell 'Sheet'.A2>, <Cell 'Sheet'.B2>, <Cell 'Sheet'.C2>, <Cell 'Sheet'.D2>, <Cell 'Sheet'.E2>)\n",
            "(<Cell 'Sheet'.A3>, <Cell 'Sheet'.B3>, <Cell 'Sheet'.C3>, <Cell 'Sheet'.D3>, <Cell 'Sheet'.E3>)\n",
            "(<Cell 'Sheet'.A4>, <Cell 'Sheet'.B4>, <Cell 'Sheet'.C4>, <Cell 'Sheet'.D4>, <Cell 'Sheet'.E4>)\n",
            "(<Cell 'Sheet'.A5>, <Cell 'Sheet'.B5>, <Cell 'Sheet'.C5>, <Cell 'Sheet'.D5>, <Cell 'Sheet'.E5>)\n",
            "(<Cell 'Sheet'.A6>, <Cell 'Sheet'.B6>, <Cell 'Sheet'.C6>, <Cell 'Sheet'.D6>, <Cell 'Sheet'.E6>)\n",
            "(<Cell 'Sheet'.A1>, <Cell 'Sheet'.A2>, <Cell 'Sheet'.A3>, <Cell 'Sheet'.A4>, <Cell 'Sheet'.A5>, <Cell 'Sheet'.A6>)\n",
            "(<Cell 'Sheet'.B1>, <Cell 'Sheet'.B2>, <Cell 'Sheet'.B3>, <Cell 'Sheet'.B4>, <Cell 'Sheet'.B5>, <Cell 'Sheet'.B6>)\n",
            "(<Cell 'Sheet'.C1>, <Cell 'Sheet'.C2>, <Cell 'Sheet'.C3>, <Cell 'Sheet'.C4>, <Cell 'Sheet'.C5>, <Cell 'Sheet'.C6>)\n",
            "(<Cell 'Sheet'.D1>, <Cell 'Sheet'.D2>, <Cell 'Sheet'.D3>, <Cell 'Sheet'.D4>, <Cell 'Sheet'.D5>, <Cell 'Sheet'.D6>)\n",
            "(<Cell 'Sheet'.E1>, <Cell 'Sheet'.E2>, <Cell 'Sheet'.E3>, <Cell 'Sheet'.E4>, <Cell 'Sheet'.E5>, <Cell 'Sheet'.E6>)\n",
            "[['숫자', None, None, None, None], [1, 2, 3, None, None], [None, None, None, None, None], [None, None, None, None, None], [None, None, None, None, '5행5열'], [None, None, None, None, None]]\n"
          ]
        }
      ]
    }
  ]
}